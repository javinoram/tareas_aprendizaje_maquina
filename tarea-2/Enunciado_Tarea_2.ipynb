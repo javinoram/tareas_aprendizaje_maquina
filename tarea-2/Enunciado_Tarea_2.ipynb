{
  "cells": [
    {
      "attachments": {},
      "cell_type": "markdown",
      "metadata": {
        "id": "QBcH248yyO8_"
      },
      "source": [
        "<center><img src=\"data:image/png;base64,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\" title=\"Title text\" /></center>\n",
        "\n",
        "\n",
        "\n",
        "<hr style=\"height:2px;border:none\"/>\n",
        "<h1 align='center'> INF-398 INTRODUCCIÓN AL APRENDIZAJE AUTOMÁTICO - 2023-1 </h1>\n",
        "\n",
        "<H3 align='center'> Tarea 2  </H3>\n",
        "<hr style=\"height:2px;border:none\"/>"
      ]
    },
    {
      "attachments": {},
      "cell_type": "markdown",
      "metadata": {
        "id": "LljwGpbwyflL"
      },
      "source": [
        "**Temas**  \n",
        "* Manipulaciones en pandas y numpy, imputación de datos y preprocesamientos\n",
        "* Feature Engineering\n",
        "* Regresión\n",
        "* Clasificación\n",
        "* Árboles y Bosques de Regresión\n",
        "* Máquinas de ensamblado\n",
        "* Redes Neuronales\n",
        "\n",
        "\n",
        "**Formalidades**  \n",
        "* Equipos de trabajo de 3 personas (*Los estudiantes deben estar preparados para presentar la tarea el día de la entrega*)\n",
        "* El entregable debe ser un _Jupyter Notebook_ incluyendo los códigos utilizados, los resultados, los gráficos realizados y comentarios. Debe seguir una estructura similar a un informe (se debe introducir los problemas a trabajar, presentar los resultados y discutirlos), se penalizará fuertemente ausencia de comentarios, explicaciones de gráficos, _etc_. Las preguntas que deben responder se encuentran especificadas explícitamente con letras, ejemplo a) b) c), por lo tanto cualquier pregunta que se encuentre incompleta será penalizada con descuento del puntaje. Recuerde que los códigos presentes en este documento son solo una guía de referencia, por lo tanto no necesariamente funcionan, usted debe mostrar todos sus conocimientos aprendidos a lo largo de la carrera para que su código funcione como se espera. Si lo prefiere puede entregar un _Jupyter Notebook_ por pregunta o uno por toda la tarea, con tal de que todos los entregables esten bien identificados y se encuentren en el mismo repositorio de _Github_.\n",
        "* Se debe preparar una presentación del trabajo realizado y sus hallazgos. El presentador será elegido aleatoriamente y deberá apoyarse en el _Jupyter Notebook_ que entregarán. \n",
        "* Formato de entrega: envı́o de link del repositorio en _Github_, al correo electrónico de los ayudantes (<sebastian.sanchezl@sansano.usm.cl>), en copia al profesor (<cvalle@inf.utfsm.cl>). Especificar el siguiente asunto: [INF-398-2023-1 Tarea 2]. Invitar como colaborador a los usuarios de github \"ssanchezl\" para poder acceder al repositorio en caso de ser privado.\n",
        "\n",
        "* Fecha de presentaciones 30 de Junio, en horario de clases.\n",
        "* Fecha de entrega: 01 de Julio. Hora límite de entrega: 12:00 p.m. Cualquier _commit_ luego de la hora límite no será evaluado. Se realizará descuento por atrasos en envío del mail igualmente.  \n",
        "\n",
        "<hr style=\"height:2px;border:none\"/>"
      ]
    },
    {
      "attachments": {},
      "cell_type": "markdown",
      "metadata": {
        "id": "kYiVgB4gzWfS"
      },
      "source": [
        "Importe las librerías necesarias para cargar explorar el conjunto de datos."
      ]
    },
    {
      "cell_type": "code",
      "execution_count": 1,
      "metadata": {
        "id": "sXeu58BVOsb0"
      },
      "outputs": [],
      "source": [
        "import numpy as np\n",
        "import pandas as pd\n",
        "import seaborn as sns\n",
        "import matplotlib.pyplot as plt\n",
        "import sklearn as sk\n",
        "from sklearn import preprocessing\n",
        "from sklearn.model_selection import train_test_split, cross_val_score, KFold, GridSearchCV\n",
        "from sklearn.metrics import mean_squared_error, classification_report, confusion_matrix, mean_absolute_error, mutual_info_score\n",
        "from sklearn.feature_selection import mutual_info_classif\n",
        "from sklearn.tree import DecisionTreeRegressor"
      ]
    },
    {
      "attachments": {},
      "cell_type": "markdown",
      "metadata": {
        "id": "Xpssh9X6zgO0"
      },
      "source": [
        "# 1. Predicción de la calidad de vinos\n",
        "\n",
        "Los árboles de regresión, también conocidos como árboles de decisión para regresión, son un tipo de algoritmo de aprendizaje supervisado que se utiliza para predecir valores numéricos. Son una potente herramienta para tareas de regresión y ofrecen varias ventajas y consideraciones.\n",
        "\n",
        "<center><img src=https://cdn.shopify.com/s/files/1/1277/3667/files/an-essential-guide-1_480x480.png?v=1674719515></center>\n",
        "\n",
        "\n",
        "Los conjuntos de datos provienen del UCI Machine Learning Repository. Estos conjuntos de datos están relacionados con las variantes tintas y blancas del vino portugués \"Vinho Verde\".\n",
        "\n",
        "Estos dos conjuntos de datos contienen varias propiedades químicas de distintos vinos, como la acidez, el pH, el contenido de alcohol, etc. La variable objetivo es la calidad del vino la cual se puntúa del 0 al 10. Puede considerarse una tarea de clasificación o regresión en la que las clases están ordenadas y no balanceadas. Para esta pregunta nos centraremos en la tarea de regresión.\n",
        "\n",
        "Variables de entrada (basadas en pruebas físico-químicas):\n",
        "* fixed acidity\n",
        "* volatile acidity\n",
        "* citric acid\n",
        "* residual sugar\n",
        "* chlorides\n",
        "* free sulfur dioxide\n",
        "* total sulfur dioxide\n",
        "* density\n",
        "* pH\n",
        "* sulphates\n",
        "* alcohol\n",
        "* tipo\n",
        "\n",
        "Variable objetivo (basadas en datos sensoriales):\n",
        "* quality\n",
        "\n",
        "\n",
        "\n",
        "Para obtener más información sobre este conjunto de datos, revise el siguiente link: https://www.kaggle.com/datasets/rajyellow46/wine-quality."
      ]
    },
    {
      "attachments": {},
      "cell_type": "markdown",
      "metadata": {
        "id": "By3lx0sn7WE8"
      },
      "source": [
        "## 1.1 Manipulación y exploración del conjunto de datos\n",
        "\n",
        "Lo primero es obtener los datos, para esto se pueden descargar los archivos directamente de la página de Kaggle a través del link de la descripción de arriba.\n",
        "\n",
        "Aplique lo aprendido en la tarea 1 y obtenga los datos de la forma que le sea más conveniente siempre y cuando estos sean los del link de la descripción."
      ]
    },
    {
      "cell_type": "code",
      "execution_count": null,
      "metadata": {
        "colab": {
          "base_uri": "https://localhost:8080/",
          "height": 91
        },
        "id": "_1yzCrrEV_Uf",
        "outputId": "3980e004-beb1-42ac-f14e-8b9f65af96ae"
      },
      "outputs": [
        {
          "data": {
            "text/html": [
              "\n",
              "     <input type=\"file\" id=\"files-ae6532eb-4770-4b09-8dc0-c52954578712\" name=\"files[]\" multiple disabled\n",
              "        style=\"border:none\" />\n",
              "     <output id=\"result-ae6532eb-4770-4b09-8dc0-c52954578712\">\n",
              "      Upload widget is only available when the cell has been executed in the\n",
              "      current browser session. Please rerun this cell to enable.\n",
              "      </output>\n",
              "      <script>// Copyright 2017 Google LLC\n",
              "//\n",
              "// Licensed under the Apache License, Version 2.0 (the \"License\");\n",
              "// you may not use this file except in compliance with the License.\n",
              "// You may obtain a copy of the License at\n",
              "//\n",
              "//      http://www.apache.org/licenses/LICENSE-2.0\n",
              "//\n",
              "// Unless required by applicable law or agreed to in writing, software\n",
              "// distributed under the License is distributed on an \"AS IS\" BASIS,\n",
              "// WITHOUT WARRANTIES OR CONDITIONS OF ANY KIND, either express or implied.\n",
              "// See the License for the specific language governing permissions and\n",
              "// limitations under the License.\n",
              "\n",
              "/**\n",
              " * @fileoverview Helpers for google.colab Python module.\n",
              " */\n",
              "(function(scope) {\n",
              "function span(text, styleAttributes = {}) {\n",
              "  const element = document.createElement('span');\n",
              "  element.textContent = text;\n",
              "  for (const key of Object.keys(styleAttributes)) {\n",
              "    element.style[key] = styleAttributes[key];\n",
              "  }\n",
              "  return element;\n",
              "}\n",
              "\n",
              "// Max number of bytes which will be uploaded at a time.\n",
              "const MAX_PAYLOAD_SIZE = 100 * 1024;\n",
              "\n",
              "function _uploadFiles(inputId, outputId) {\n",
              "  const steps = uploadFilesStep(inputId, outputId);\n",
              "  const outputElement = document.getElementById(outputId);\n",
              "  // Cache steps on the outputElement to make it available for the next call\n",
              "  // to uploadFilesContinue from Python.\n",
              "  outputElement.steps = steps;\n",
              "\n",
              "  return _uploadFilesContinue(outputId);\n",
              "}\n",
              "\n",
              "// This is roughly an async generator (not supported in the browser yet),\n",
              "// where there are multiple asynchronous steps and the Python side is going\n",
              "// to poll for completion of each step.\n",
              "// This uses a Promise to block the python side on completion of each step,\n",
              "// then passes the result of the previous step as the input to the next step.\n",
              "function _uploadFilesContinue(outputId) {\n",
              "  const outputElement = document.getElementById(outputId);\n",
              "  const steps = outputElement.steps;\n",
              "\n",
              "  const next = steps.next(outputElement.lastPromiseValue);\n",
              "  return Promise.resolve(next.value.promise).then((value) => {\n",
              "    // Cache the last promise value to make it available to the next\n",
              "    // step of the generator.\n",
              "    outputElement.lastPromiseValue = value;\n",
              "    return next.value.response;\n",
              "  });\n",
              "}\n",
              "\n",
              "/**\n",
              " * Generator function which is called between each async step of the upload\n",
              " * process.\n",
              " * @param {string} inputId Element ID of the input file picker element.\n",
              " * @param {string} outputId Element ID of the output display.\n",
              " * @return {!Iterable<!Object>} Iterable of next steps.\n",
              " */\n",
              "function* uploadFilesStep(inputId, outputId) {\n",
              "  const inputElement = document.getElementById(inputId);\n",
              "  inputElement.disabled = false;\n",
              "\n",
              "  const outputElement = document.getElementById(outputId);\n",
              "  outputElement.innerHTML = '';\n",
              "\n",
              "  const pickedPromise = new Promise((resolve) => {\n",
              "    inputElement.addEventListener('change', (e) => {\n",
              "      resolve(e.target.files);\n",
              "    });\n",
              "  });\n",
              "\n",
              "  const cancel = document.createElement('button');\n",
              "  inputElement.parentElement.appendChild(cancel);\n",
              "  cancel.textContent = 'Cancel upload';\n",
              "  const cancelPromise = new Promise((resolve) => {\n",
              "    cancel.onclick = () => {\n",
              "      resolve(null);\n",
              "    };\n",
              "  });\n",
              "\n",
              "  // Wait for the user to pick the files.\n",
              "  const files = yield {\n",
              "    promise: Promise.race([pickedPromise, cancelPromise]),\n",
              "    response: {\n",
              "      action: 'starting',\n",
              "    }\n",
              "  };\n",
              "\n",
              "  cancel.remove();\n",
              "\n",
              "  // Disable the input element since further picks are not allowed.\n",
              "  inputElement.disabled = true;\n",
              "\n",
              "  if (!files) {\n",
              "    return {\n",
              "      response: {\n",
              "        action: 'complete',\n",
              "      }\n",
              "    };\n",
              "  }\n",
              "\n",
              "  for (const file of files) {\n",
              "    const li = document.createElement('li');\n",
              "    li.append(span(file.name, {fontWeight: 'bold'}));\n",
              "    li.append(span(\n",
              "        `(${file.type || 'n/a'}) - ${file.size} bytes, ` +\n",
              "        `last modified: ${\n",
              "            file.lastModifiedDate ? file.lastModifiedDate.toLocaleDateString() :\n",
              "                                    'n/a'} - `));\n",
              "    const percent = span('0% done');\n",
              "    li.appendChild(percent);\n",
              "\n",
              "    outputElement.appendChild(li);\n",
              "\n",
              "    const fileDataPromise = new Promise((resolve) => {\n",
              "      const reader = new FileReader();\n",
              "      reader.onload = (e) => {\n",
              "        resolve(e.target.result);\n",
              "      };\n",
              "      reader.readAsArrayBuffer(file);\n",
              "    });\n",
              "    // Wait for the data to be ready.\n",
              "    let fileData = yield {\n",
              "      promise: fileDataPromise,\n",
              "      response: {\n",
              "        action: 'continue',\n",
              "      }\n",
              "    };\n",
              "\n",
              "    // Use a chunked sending to avoid message size limits. See b/62115660.\n",
              "    let position = 0;\n",
              "    do {\n",
              "      const length = Math.min(fileData.byteLength - position, MAX_PAYLOAD_SIZE);\n",
              "      const chunk = new Uint8Array(fileData, position, length);\n",
              "      position += length;\n",
              "\n",
              "      const base64 = btoa(String.fromCharCode.apply(null, chunk));\n",
              "      yield {\n",
              "        response: {\n",
              "          action: 'append',\n",
              "          file: file.name,\n",
              "          data: base64,\n",
              "        },\n",
              "      };\n",
              "\n",
              "      let percentDone = fileData.byteLength === 0 ?\n",
              "          100 :\n",
              "          Math.round((position / fileData.byteLength) * 100);\n",
              "      percent.textContent = `${percentDone}% done`;\n",
              "\n",
              "    } while (position < fileData.byteLength);\n",
              "  }\n",
              "\n",
              "  // All done.\n",
              "  yield {\n",
              "    response: {\n",
              "      action: 'complete',\n",
              "    }\n",
              "  };\n",
              "}\n",
              "\n",
              "scope.google = scope.google || {};\n",
              "scope.google.colab = scope.google.colab || {};\n",
              "scope.google.colab._files = {\n",
              "  _uploadFiles,\n",
              "  _uploadFilesContinue,\n",
              "};\n",
              "})(self);\n",
              "</script> "
            ],
            "text/plain": [
              "<IPython.core.display.HTML object>"
            ]
          },
          "metadata": {},
          "output_type": "display_data"
        },
        {
          "name": "stdout",
          "output_type": "stream",
          "text": [
            "Saving kaggle.json to kaggle.json\n"
          ]
        },
        {
          "data": {
            "text/plain": [
              "{'kaggle.json': b'{\"username\":\"sanchezl\",\"key\":\"287e76beaae09a9f4fc2eec6e96cbf21\"}'}"
            ]
          },
          "execution_count": 1,
          "metadata": {},
          "output_type": "execute_result"
        }
      ],
      "source": [
        "from google.colab import files\n",
        "files.upload()"
      ]
    },
    {
      "cell_type": "code",
      "execution_count": null,
      "metadata": {
        "id": "YGdme0-w79_w"
      },
      "outputs": [],
      "source": [
        "!mkdir -p ~/.kaggle\n",
        "!cp kaggle.json ~/.kaggle/\n",
        "!chmod 600 ~/.kaggle/kaggle.json"
      ]
    },
    {
      "cell_type": "code",
      "execution_count": null,
      "metadata": {
        "id": "e5oC_Cwh8LE8"
      },
      "outputs": [],
      "source": [
        "!kaggle datasets download -d rajyellow46/wine-quality"
      ]
    },
    {
      "cell_type": "code",
      "execution_count": null,
      "metadata": {
        "colab": {
          "base_uri": "https://localhost:8080/"
        },
        "id": "iR35NEec8XuZ",
        "outputId": "499ae733-6500-402f-ef3c-d6f42a761c82"
      },
      "outputs": [
        {
          "name": "stdout",
          "output_type": "stream",
          "text": [
            "Archive:  /content/wine-quality.zip\n",
            "  inflating: winequalityN.csv        \n"
          ]
        }
      ],
      "source": [
        "!unzip /content/wine-quality.zip"
      ]
    },
    {
      "cell_type": "code",
      "execution_count": 189,
      "metadata": {
        "id": "bauoFq-V8b-C"
      },
      "outputs": [],
      "source": [
        "df = pd.read_csv('winequalityN.csv')"
      ]
    },
    {
      "attachments": {},
      "cell_type": "markdown",
      "metadata": {
        "id": "64ZvvBF0WGo1"
      },
      "source": [
        "### 1.1.1 Exploración del conjunto de datos\n",
        "\n",
        "Explore el conjunto de datos y responda brevemente las siguientes preguntas:\n",
        "\n",
        "> a) ¿Cuáles variables poseen valores numéricos y cuáles poseen valores categóricos?\n",
        "\n",
        "La única variable con valores categóricos es \"type\" que indica el tipo de vino, es decir, si es blanco o rojo. El resto corresponde a valores numéricos\n",
        "\n",
        "> b) ¿Existen datos faltantes, si es así en qué atributos faltan datos y cuantos faltan?\n",
        "\n",
        "Existen datos faltantes en las siguientes categorías\n",
        "- Fixed acidity: con 10 NaN values\n",
        "- Volatile acidity: con 8 NaN values\n",
        "- Citric acid: con 3 NaN values\n",
        "- Residual sugar: con 2 Nan values\n",
        "- Chlorides: con 2 Nan values\n",
        "- Ph: con 9 Nan values\n",
        "- Sulphates: con 4 Nan Values\n",
        "\n",
        "> c) ¿Qué técnicas conoce para rellenar los datos faltantes de los atributos del dataset? (si no conoce ninguna investigue al menos 2)\n",
        "\n",
        "- Imputación por media: Reemplazar los valores faltantes por la media de los valores existentes de ese atributo\n",
        "- Imputación por mediana: Reemplazar los valores faltantes por la mediana de los valores existentes de ese atributo\n",
        "- Imputación por moda: Reemplazar los valores faltantes por la moda de los valores existentes de ese atributo\n",
        "- Imputación mediante modelos predictivos: Utilizar modelos de aprendizaje automático, como regresión o clasificación, para predecir los valores faltantes en función de otros atributos\n",
        "\n",
        "\n"
      ]
    },
    {
      "cell_type": "code",
      "execution_count": 190,
      "metadata": {
        "id": "zHLcrSHV9CZx"
      },
      "outputs": [
        {
          "data": {
            "text/html": [
              "<div>\n",
              "<style scoped>\n",
              "    .dataframe tbody tr th:only-of-type {\n",
              "        vertical-align: middle;\n",
              "    }\n",
              "\n",
              "    .dataframe tbody tr th {\n",
              "        vertical-align: top;\n",
              "    }\n",
              "\n",
              "    .dataframe thead th {\n",
              "        text-align: right;\n",
              "    }\n",
              "</style>\n",
              "<table border=\"1\" class=\"dataframe\">\n",
              "  <thead>\n",
              "    <tr style=\"text-align: right;\">\n",
              "      <th></th>\n",
              "      <th>DataType</th>\n",
              "      <th>Non-null_Values</th>\n",
              "      <th>Unique_Values</th>\n",
              "      <th>NaN_Values</th>\n",
              "      <th>NaN_Values_Percentage</th>\n",
              "    </tr>\n",
              "  </thead>\n",
              "  <tbody>\n",
              "    <tr>\n",
              "      <th>type</th>\n",
              "      <td>object</td>\n",
              "      <td>6497</td>\n",
              "      <td>2</td>\n",
              "      <td>0</td>\n",
              "      <td>0.000000</td>\n",
              "    </tr>\n",
              "    <tr>\n",
              "      <th>fixed acidity</th>\n",
              "      <td>float64</td>\n",
              "      <td>6487</td>\n",
              "      <td>106</td>\n",
              "      <td>10</td>\n",
              "      <td>0.153917</td>\n",
              "    </tr>\n",
              "    <tr>\n",
              "      <th>volatile acidity</th>\n",
              "      <td>float64</td>\n",
              "      <td>6489</td>\n",
              "      <td>187</td>\n",
              "      <td>8</td>\n",
              "      <td>0.123134</td>\n",
              "    </tr>\n",
              "    <tr>\n",
              "      <th>citric acid</th>\n",
              "      <td>float64</td>\n",
              "      <td>6494</td>\n",
              "      <td>89</td>\n",
              "      <td>3</td>\n",
              "      <td>0.046175</td>\n",
              "    </tr>\n",
              "    <tr>\n",
              "      <th>residual sugar</th>\n",
              "      <td>float64</td>\n",
              "      <td>6495</td>\n",
              "      <td>316</td>\n",
              "      <td>2</td>\n",
              "      <td>0.030783</td>\n",
              "    </tr>\n",
              "    <tr>\n",
              "      <th>chlorides</th>\n",
              "      <td>float64</td>\n",
              "      <td>6495</td>\n",
              "      <td>214</td>\n",
              "      <td>2</td>\n",
              "      <td>0.030783</td>\n",
              "    </tr>\n",
              "    <tr>\n",
              "      <th>free sulfur dioxide</th>\n",
              "      <td>float64</td>\n",
              "      <td>6497</td>\n",
              "      <td>135</td>\n",
              "      <td>0</td>\n",
              "      <td>0.000000</td>\n",
              "    </tr>\n",
              "    <tr>\n",
              "      <th>total sulfur dioxide</th>\n",
              "      <td>float64</td>\n",
              "      <td>6497</td>\n",
              "      <td>276</td>\n",
              "      <td>0</td>\n",
              "      <td>0.000000</td>\n",
              "    </tr>\n",
              "    <tr>\n",
              "      <th>density</th>\n",
              "      <td>float64</td>\n",
              "      <td>6497</td>\n",
              "      <td>998</td>\n",
              "      <td>0</td>\n",
              "      <td>0.000000</td>\n",
              "    </tr>\n",
              "    <tr>\n",
              "      <th>pH</th>\n",
              "      <td>float64</td>\n",
              "      <td>6488</td>\n",
              "      <td>108</td>\n",
              "      <td>9</td>\n",
              "      <td>0.138525</td>\n",
              "    </tr>\n",
              "    <tr>\n",
              "      <th>sulphates</th>\n",
              "      <td>float64</td>\n",
              "      <td>6493</td>\n",
              "      <td>111</td>\n",
              "      <td>4</td>\n",
              "      <td>0.061567</td>\n",
              "    </tr>\n",
              "    <tr>\n",
              "      <th>alcohol</th>\n",
              "      <td>float64</td>\n",
              "      <td>6497</td>\n",
              "      <td>111</td>\n",
              "      <td>0</td>\n",
              "      <td>0.000000</td>\n",
              "    </tr>\n",
              "    <tr>\n",
              "      <th>quality</th>\n",
              "      <td>int64</td>\n",
              "      <td>6497</td>\n",
              "      <td>7</td>\n",
              "      <td>0</td>\n",
              "      <td>0.000000</td>\n",
              "    </tr>\n",
              "  </tbody>\n",
              "</table>\n",
              "</div>"
            ],
            "text/plain": [
              "                     DataType  Non-null_Values  Unique_Values  NaN_Values  \\\n",
              "type                   object             6497              2           0   \n",
              "fixed acidity         float64             6487            106          10   \n",
              "volatile acidity      float64             6489            187           8   \n",
              "citric acid           float64             6494             89           3   \n",
              "residual sugar        float64             6495            316           2   \n",
              "chlorides             float64             6495            214           2   \n",
              "free sulfur dioxide   float64             6497            135           0   \n",
              "total sulfur dioxide  float64             6497            276           0   \n",
              "density               float64             6497            998           0   \n",
              "pH                    float64             6488            108           9   \n",
              "sulphates             float64             6493            111           4   \n",
              "alcohol               float64             6497            111           0   \n",
              "quality                 int64             6497              7           0   \n",
              "\n",
              "                      NaN_Values_Percentage  \n",
              "type                               0.000000  \n",
              "fixed acidity                      0.153917  \n",
              "volatile acidity                   0.123134  \n",
              "citric acid                        0.046175  \n",
              "residual sugar                     0.030783  \n",
              "chlorides                          0.030783  \n",
              "free sulfur dioxide                0.000000  \n",
              "total sulfur dioxide               0.000000  \n",
              "density                            0.000000  \n",
              "pH                                 0.138525  \n",
              "sulphates                          0.061567  \n",
              "alcohol                            0.000000  \n",
              "quality                            0.000000  "
            ]
          },
          "execution_count": 190,
          "metadata": {},
          "output_type": "execute_result"
        }
      ],
      "source": [
        "def datainfo(data):\n",
        "    temp_ps = pd.DataFrame(index=data.columns)\n",
        "    temp_ps['DataType'] = data.dtypes\n",
        "    temp_ps[\"Non-null_Values\"] = data.count()\n",
        "    temp_ps['Unique_Values'] = data.nunique()\n",
        "    temp_ps['NaN_Values'] = data.isnull().sum()\n",
        "    temp_ps['NaN_Values_Percentage'] = (temp_ps['NaN_Values']/len(data))*100 \n",
        "    return temp_ps\n",
        "\n",
        "datainfo(df)"
      ]
    },
    {
      "attachments": {},
      "cell_type": "markdown",
      "metadata": {
        "id": "ZURKzsF2V6t-"
      },
      "source": [
        "### 1.1.2 Exploración de Features\n",
        "\n",
        "En problemas de regresión, el desbalance de la variable objetivo se refiere a una distribución desigual de los valores de la variable objetivo en el conjunto de datos. Esto significa que hay una presencia significativa de valores en una clase o rango de valores en comparación con otras clases o rangos de valores. Considerando lo anterior responda las siguientes preguntas:\n",
        "\n",
        "> a) Grafique histogramas y box plots de cada variable y comente acerca de la distribución de las características y de la variable objetivo\n",
        "\n",
        "En las variables fixed acidity, volatile acidity, citric acid, residual sugar, chlorides, free sulfur dioxide y sulphates, se observa que hay una concentracion en pocos valores, es decir, que las clases no estan balanceadas, si se observan los diagramas de cajas, se puede ver la existencia de muchos valores fuera del estadistico.\n",
        "\n",
        "Por otro lado el total sulfur dioxide, pH, alcohol y density son los que se muestran mas balanceados que los mencionados anteriormente, a pesar de que hay valores con mayor representacion que otros, en los diagramas de cajas se puede observar la existencia de pocos valores fuera de lo esperado y pueden ser considerados como atipicos.\n",
        "\n",
        "> b) ¿Considera que están *balanceados* los valores de la variable objetivo?\n",
        "\n",
        "No, se ve que hay mucha representacion de vinos de calidad media (los de valoriacion 5,6,7 representan casi el 90% de datos) y pocos de baja y alta calidad\n",
        "\n",
        "> c) ¿Cómo afecta el desbalance en problemas de regresión en términos de la predicción y de la evaluación de un modelo?\n",
        "\n",
        "Afecta las capacidades de generalizacion del modelo, ya que, va a ser mas dificil para el modelo obtener patrones de las categorias subrepresentadas y por lo tanto, tendra un peor rendimiento en vinos de baja y alta calidad.\n",
        "\n",
        "\n"
      ]
    },
    {
      "cell_type": "code",
      "execution_count": 191,
      "metadata": {
        "id": "JKqr_aVj95Jz"
      },
      "outputs": [
        {
          "data": {
            "text/plain": [
              "array([[<Axes: title={'center': 'fixed acidity'}>,\n",
              "        <Axes: title={'center': 'volatile acidity'}>,\n",
              "        <Axes: title={'center': 'citric acid'}>,\n",
              "        <Axes: title={'center': 'residual sugar'}>],\n",
              "       [<Axes: title={'center': 'chlorides'}>,\n",
              "        <Axes: title={'center': 'free sulfur dioxide'}>,\n",
              "        <Axes: title={'center': 'total sulfur dioxide'}>,\n",
              "        <Axes: title={'center': 'density'}>],\n",
              "       [<Axes: title={'center': 'pH'}>,\n",
              "        <Axes: title={'center': 'sulphates'}>,\n",
              "        <Axes: title={'center': 'alcohol'}>,\n",
              "        <Axes: title={'center': 'quality'}>],\n",
              "       [<Axes: >, <Axes: >, <Axes: >, <Axes: >]], dtype=object)"
            ]
          },
          "execution_count": 191,
          "metadata": {},
          "output_type": "execute_result"
        },
        {
          "data": {
            "image/png": "[encoded data removed]",
            "text/plain": [
              "<Figure size 1500x1500 with 16 Axes>"
            ]
          },
          "metadata": {},
          "output_type": "display_data"
        }
      ],
      "source": [
        "df.hist(figsize=(15,15), layout=(4,4), bins=20)"
      ]
    },
    {
      "cell_type": "code",
      "execution_count": 192,
      "metadata": {
        "id": "WwYbeEAp_6fd"
      },
      "outputs": [
        {
          "data": {
            "text/plain": [
              "fixed acidity              Axes(0.125,0.747241;0.133621x0.132759)\n",
              "volatile acidity        Axes(0.285345,0.747241;0.133621x0.132759)\n",
              "citric acid              Axes(0.44569,0.747241;0.133621x0.132759)\n",
              "residual sugar          Axes(0.606034,0.747241;0.133621x0.132759)\n",
              "chlorides               Axes(0.766379,0.747241;0.133621x0.132759)\n",
              "free sulfur dioxide        Axes(0.125,0.587931;0.133621x0.132759)\n",
              "total sulfur dioxide    Axes(0.285345,0.587931;0.133621x0.132759)\n",
              "density                  Axes(0.44569,0.587931;0.133621x0.132759)\n",
              "pH                      Axes(0.606034,0.587931;0.133621x0.132759)\n",
              "sulphates               Axes(0.766379,0.587931;0.133621x0.132759)\n",
              "alcohol                    Axes(0.125,0.428621;0.133621x0.132759)\n",
              "quality                 Axes(0.285345,0.428621;0.133621x0.132759)\n",
              "dtype: object"
            ]
          },
          "execution_count": 192,
          "metadata": {},
          "output_type": "execute_result"
        },
        {
          "data": {
            "image/png": "[encoded data removed]",
            "text/plain": [
              "<Figure size 1500x1500 with 25 Axes>"
            ]
          },
          "metadata": {},
          "output_type": "display_data"
        }
      ],
      "source": [
        "# buscar outliers con boxplots\n",
        "df.plot(kind=\"box\",subplots=True,layout=(5,5),figsize=(15,15))"
      ]
    },
    {
      "cell_type": "code",
      "execution_count": 193,
      "metadata": {
        "id": "fv8HeOpxCcBB"
      },
      "outputs": [
        {
          "name": "stderr",
          "output_type": "stream",
          "text": [
            "/var/folders/gp/9l_7srgd2dx2mppp47fkwsd40000gn/T/ipykernel_3331/2378446390.py:2: FutureWarning: The default value of numeric_only in DataFrame.corr is deprecated. In a future version, it will default to False. Select only valid columns or specify the value of numeric_only to silence this warning.\n",
            "  sns.heatmap(df.corr(), annot = True,cmap = 'coolwarm')\n"
          ]
        },
        {
          "data": {
            "text/plain": [
              "<Axes: >"
            ]
          },
          "execution_count": 193,
          "metadata": {},
          "output_type": "execute_result"
        },
        {
          "data": {
            "image/png": "[encoded data removed]",
            "text/plain": [
              "<Figure size 1400x600 with 2 Axes>"
            ]
          },
          "metadata": {},
          "output_type": "display_data"
        }
      ],
      "source": [
        "plt.figure(figsize=[14,6])\n",
        "sns.heatmap(df.corr(), annot = True,cmap = 'coolwarm')"
      ]
    },
    {
      "cell_type": "code",
      "execution_count": 194,
      "metadata": {
        "id": "mN37bRfnD0pw"
      },
      "outputs": [],
      "source": [
        "df = pd.get_dummies(df,drop_first=True)"
      ]
    },
    {
      "cell_type": "code",
      "execution_count": 196,
      "metadata": {
        "colab": {
          "base_uri": "https://localhost:8080/",
          "height": 655
        },
        "id": "PSX-0pnND3my",
        "outputId": "2f07babf-0dce-4fca-b815-8a85d0a27418"
      },
      "outputs": [
        {
          "data": {
            "text/html": [
              "<div>\n",
              "<style scoped>\n",
              "    .dataframe tbody tr th:only-of-type {\n",
              "        vertical-align: middle;\n",
              "    }\n",
              "\n",
              "    .dataframe tbody tr th {\n",
              "        vertical-align: top;\n",
              "    }\n",
              "\n",
              "    .dataframe thead th {\n",
              "        text-align: right;\n",
              "    }\n",
              "</style>\n",
              "<table border=\"1\" class=\"dataframe\">\n",
              "  <thead>\n",
              "    <tr style=\"text-align: right;\">\n",
              "      <th></th>\n",
              "      <th>fixed acidity</th>\n",
              "      <th>volatile acidity</th>\n",
              "      <th>citric acid</th>\n",
              "      <th>residual sugar</th>\n",
              "      <th>chlorides</th>\n",
              "      <th>free sulfur dioxide</th>\n",
              "      <th>total sulfur dioxide</th>\n",
              "      <th>density</th>\n",
              "      <th>pH</th>\n",
              "      <th>sulphates</th>\n",
              "      <th>alcohol</th>\n",
              "      <th>quality</th>\n",
              "      <th>type_white</th>\n",
              "    </tr>\n",
              "  </thead>\n",
              "  <tbody>\n",
              "    <tr>\n",
              "      <th>0</th>\n",
              "      <td>7.0</td>\n",
              "      <td>0.27</td>\n",
              "      <td>0.36</td>\n",
              "      <td>20.7</td>\n",
              "      <td>0.045</td>\n",
              "      <td>45.0</td>\n",
              "      <td>170.0</td>\n",
              "      <td>1.0010</td>\n",
              "      <td>3.00</td>\n",
              "      <td>0.45</td>\n",
              "      <td>8.8</td>\n",
              "      <td>6</td>\n",
              "      <td>1</td>\n",
              "    </tr>\n",
              "    <tr>\n",
              "      <th>1</th>\n",
              "      <td>6.3</td>\n",
              "      <td>0.30</td>\n",
              "      <td>0.34</td>\n",
              "      <td>1.6</td>\n",
              "      <td>0.049</td>\n",
              "      <td>14.0</td>\n",
              "      <td>132.0</td>\n",
              "      <td>0.9940</td>\n",
              "      <td>3.30</td>\n",
              "      <td>0.49</td>\n",
              "      <td>9.5</td>\n",
              "      <td>6</td>\n",
              "      <td>1</td>\n",
              "    </tr>\n",
              "    <tr>\n",
              "      <th>2</th>\n",
              "      <td>8.1</td>\n",
              "      <td>0.28</td>\n",
              "      <td>0.40</td>\n",
              "      <td>6.9</td>\n",
              "      <td>0.050</td>\n",
              "      <td>30.0</td>\n",
              "      <td>97.0</td>\n",
              "      <td>0.9951</td>\n",
              "      <td>3.26</td>\n",
              "      <td>0.44</td>\n",
              "      <td>10.1</td>\n",
              "      <td>6</td>\n",
              "      <td>1</td>\n",
              "    </tr>\n",
              "    <tr>\n",
              "      <th>3</th>\n",
              "      <td>7.2</td>\n",
              "      <td>0.23</td>\n",
              "      <td>0.32</td>\n",
              "      <td>8.5</td>\n",
              "      <td>0.058</td>\n",
              "      <td>47.0</td>\n",
              "      <td>186.0</td>\n",
              "      <td>0.9956</td>\n",
              "      <td>3.19</td>\n",
              "      <td>0.40</td>\n",
              "      <td>9.9</td>\n",
              "      <td>6</td>\n",
              "      <td>1</td>\n",
              "    </tr>\n",
              "    <tr>\n",
              "      <th>4</th>\n",
              "      <td>7.2</td>\n",
              "      <td>0.23</td>\n",
              "      <td>0.32</td>\n",
              "      <td>8.5</td>\n",
              "      <td>0.058</td>\n",
              "      <td>47.0</td>\n",
              "      <td>186.0</td>\n",
              "      <td>0.9956</td>\n",
              "      <td>3.19</td>\n",
              "      <td>0.40</td>\n",
              "      <td>9.9</td>\n",
              "      <td>6</td>\n",
              "      <td>1</td>\n",
              "    </tr>\n",
              "  </tbody>\n",
              "</table>\n",
              "</div>"
            ],
            "text/plain": [
              "   fixed acidity  volatile acidity  citric acid  residual sugar  chlorides  \\\n",
              "0            7.0              0.27         0.36            20.7      0.045   \n",
              "1            6.3              0.30         0.34             1.6      0.049   \n",
              "2            8.1              0.28         0.40             6.9      0.050   \n",
              "3            7.2              0.23         0.32             8.5      0.058   \n",
              "4            7.2              0.23         0.32             8.5      0.058   \n",
              "\n",
              "   free sulfur dioxide  total sulfur dioxide  density    pH  sulphates  \\\n",
              "0                 45.0                 170.0   1.0010  3.00       0.45   \n",
              "1                 14.0                 132.0   0.9940  3.30       0.49   \n",
              "2                 30.0                  97.0   0.9951  3.26       0.44   \n",
              "3                 47.0                 186.0   0.9956  3.19       0.40   \n",
              "4                 47.0                 186.0   0.9956  3.19       0.40   \n",
              "\n",
              "   alcohol  quality  type_white  \n",
              "0      8.8        6           1  \n",
              "1      9.5        6           1  \n",
              "2     10.1        6           1  \n",
              "3      9.9        6           1  \n",
              "4      9.9        6           1  "
            ]
          },
          "execution_count": 196,
          "metadata": {},
          "output_type": "execute_result"
        }
      ],
      "source": [
        "df.head()"
      ]
    },
    {
      "attachments": {},
      "cell_type": "markdown",
      "metadata": {
        "id": "p36NT9S-WiZ5"
      },
      "source": [
        "### 1.1.3 Separación de conjuntos\n",
        "\n",
        "> a) Separe el conjunto entre variables características y variable objetivo.\n",
        "\n",
        "> b) Separe el conjunto de datos en un conjunto de entrenamiento y conjunto de prueba, utilizando una proporción 80%-20% respectivamente.\n",
        "\n",
        "> c) Una vez separado los conjuntos, obtenga la media de cada variable con datos faltantes en el conjunto de **entrenamiento** y reemplace los valores faltantes (NaN) de ambos conjuntos (entrenamiento y prueba) con dicha media."
      ]
    },
    {
      "cell_type": "code",
      "execution_count": 197,
      "metadata": {
        "id": "Lb8xFji5FspA"
      },
      "outputs": [],
      "source": [
        "X = df.drop(['quality'], axis =1)"
      ]
    },
    {
      "cell_type": "code",
      "execution_count": 198,
      "metadata": {
        "id": "VpVSPfGtFaSY"
      },
      "outputs": [],
      "source": [
        "y = df['quality']"
      ]
    },
    {
      "cell_type": "code",
      "execution_count": 199,
      "metadata": {
        "id": "5pHq_CzJFTSy"
      },
      "outputs": [],
      "source": [
        "X_train, X_test, y_train, y_test = train_test_split(X, y, test_size=0.2, shuffle=True)"
      ]
    },
    {
      "cell_type": "code",
      "execution_count": 200,
      "metadata": {
        "id": "PyNHkiX9n6m0"
      },
      "outputs": [],
      "source": [
        "X_train = X_train.fillna(X.median())\n",
        "X_test = X_test.fillna(X.median())"
      ]
    },
    {
      "cell_type": "code",
      "execution_count": 201,
      "metadata": {},
      "outputs": [
        {
          "data": {
            "text/html": [
              "<div>\n",
              "<style scoped>\n",
              "    .dataframe tbody tr th:only-of-type {\n",
              "        vertical-align: middle;\n",
              "    }\n",
              "\n",
              "    .dataframe tbody tr th {\n",
              "        vertical-align: top;\n",
              "    }\n",
              "\n",
              "    .dataframe thead th {\n",
              "        text-align: right;\n",
              "    }\n",
              "</style>\n",
              "<table border=\"1\" class=\"dataframe\">\n",
              "  <thead>\n",
              "    <tr style=\"text-align: right;\">\n",
              "      <th></th>\n",
              "      <th>DataType</th>\n",
              "      <th>Non-null_Values</th>\n",
              "      <th>Unique_Values</th>\n",
              "      <th>NaN_Values</th>\n",
              "      <th>NaN_Values_Percentage</th>\n",
              "    </tr>\n",
              "  </thead>\n",
              "  <tbody>\n",
              "    <tr>\n",
              "      <th>fixed acidity</th>\n",
              "      <td>float64</td>\n",
              "      <td>5197</td>\n",
              "      <td>104</td>\n",
              "      <td>0</td>\n",
              "      <td>0.0</td>\n",
              "    </tr>\n",
              "    <tr>\n",
              "      <th>volatile acidity</th>\n",
              "      <td>float64</td>\n",
              "      <td>5197</td>\n",
              "      <td>178</td>\n",
              "      <td>0</td>\n",
              "      <td>0.0</td>\n",
              "    </tr>\n",
              "    <tr>\n",
              "      <th>citric acid</th>\n",
              "      <td>float64</td>\n",
              "      <td>5197</td>\n",
              "      <td>87</td>\n",
              "      <td>0</td>\n",
              "      <td>0.0</td>\n",
              "    </tr>\n",
              "    <tr>\n",
              "      <th>residual sugar</th>\n",
              "      <td>float64</td>\n",
              "      <td>5197</td>\n",
              "      <td>292</td>\n",
              "      <td>0</td>\n",
              "      <td>0.0</td>\n",
              "    </tr>\n",
              "    <tr>\n",
              "      <th>chlorides</th>\n",
              "      <td>float64</td>\n",
              "      <td>5197</td>\n",
              "      <td>203</td>\n",
              "      <td>0</td>\n",
              "      <td>0.0</td>\n",
              "    </tr>\n",
              "    <tr>\n",
              "      <th>free sulfur dioxide</th>\n",
              "      <td>float64</td>\n",
              "      <td>5197</td>\n",
              "      <td>126</td>\n",
              "      <td>0</td>\n",
              "      <td>0.0</td>\n",
              "    </tr>\n",
              "    <tr>\n",
              "      <th>total sulfur dioxide</th>\n",
              "      <td>float64</td>\n",
              "      <td>5197</td>\n",
              "      <td>268</td>\n",
              "      <td>0</td>\n",
              "      <td>0.0</td>\n",
              "    </tr>\n",
              "    <tr>\n",
              "      <th>density</th>\n",
              "      <td>float64</td>\n",
              "      <td>5197</td>\n",
              "      <td>943</td>\n",
              "      <td>0</td>\n",
              "      <td>0.0</td>\n",
              "    </tr>\n",
              "    <tr>\n",
              "      <th>pH</th>\n",
              "      <td>float64</td>\n",
              "      <td>5197</td>\n",
              "      <td>107</td>\n",
              "      <td>0</td>\n",
              "      <td>0.0</td>\n",
              "    </tr>\n",
              "    <tr>\n",
              "      <th>sulphates</th>\n",
              "      <td>float64</td>\n",
              "      <td>5197</td>\n",
              "      <td>108</td>\n",
              "      <td>0</td>\n",
              "      <td>0.0</td>\n",
              "    </tr>\n",
              "    <tr>\n",
              "      <th>alcohol</th>\n",
              "      <td>float64</td>\n",
              "      <td>5197</td>\n",
              "      <td>103</td>\n",
              "      <td>0</td>\n",
              "      <td>0.0</td>\n",
              "    </tr>\n",
              "    <tr>\n",
              "      <th>type_white</th>\n",
              "      <td>uint8</td>\n",
              "      <td>5197</td>\n",
              "      <td>2</td>\n",
              "      <td>0</td>\n",
              "      <td>0.0</td>\n",
              "    </tr>\n",
              "  </tbody>\n",
              "</table>\n",
              "</div>"
            ],
            "text/plain": [
              "                     DataType  Non-null_Values  Unique_Values  NaN_Values  \\\n",
              "fixed acidity         float64             5197            104           0   \n",
              "volatile acidity      float64             5197            178           0   \n",
              "citric acid           float64             5197             87           0   \n",
              "residual sugar        float64             5197            292           0   \n",
              "chlorides             float64             5197            203           0   \n",
              "free sulfur dioxide   float64             5197            126           0   \n",
              "total sulfur dioxide  float64             5197            268           0   \n",
              "density               float64             5197            943           0   \n",
              "pH                    float64             5197            107           0   \n",
              "sulphates             float64             5197            108           0   \n",
              "alcohol               float64             5197            103           0   \n",
              "type_white              uint8             5197              2           0   \n",
              "\n",
              "                      NaN_Values_Percentage  \n",
              "fixed acidity                           0.0  \n",
              "volatile acidity                        0.0  \n",
              "citric acid                             0.0  \n",
              "residual sugar                          0.0  \n",
              "chlorides                               0.0  \n",
              "free sulfur dioxide                     0.0  \n",
              "total sulfur dioxide                    0.0  \n",
              "density                                 0.0  \n",
              "pH                                      0.0  \n",
              "sulphates                               0.0  \n",
              "alcohol                                 0.0  \n",
              "type_white                              0.0  "
            ]
          },
          "execution_count": 201,
          "metadata": {},
          "output_type": "execute_result"
        }
      ],
      "source": [
        "datainfo(X_train)"
      ]
    },
    {
      "cell_type": "code",
      "execution_count": 202,
      "metadata": {},
      "outputs": [
        {
          "data": {
            "text/html": [
              "<div>\n",
              "<style scoped>\n",
              "    .dataframe tbody tr th:only-of-type {\n",
              "        vertical-align: middle;\n",
              "    }\n",
              "\n",
              "    .dataframe tbody tr th {\n",
              "        vertical-align: top;\n",
              "    }\n",
              "\n",
              "    .dataframe thead th {\n",
              "        text-align: right;\n",
              "    }\n",
              "</style>\n",
              "<table border=\"1\" class=\"dataframe\">\n",
              "  <thead>\n",
              "    <tr style=\"text-align: right;\">\n",
              "      <th></th>\n",
              "      <th>DataType</th>\n",
              "      <th>Non-null_Values</th>\n",
              "      <th>Unique_Values</th>\n",
              "      <th>NaN_Values</th>\n",
              "      <th>NaN_Values_Percentage</th>\n",
              "    </tr>\n",
              "  </thead>\n",
              "  <tbody>\n",
              "    <tr>\n",
              "      <th>fixed acidity</th>\n",
              "      <td>float64</td>\n",
              "      <td>1300</td>\n",
              "      <td>81</td>\n",
              "      <td>0</td>\n",
              "      <td>0.0</td>\n",
              "    </tr>\n",
              "    <tr>\n",
              "      <th>volatile acidity</th>\n",
              "      <td>float64</td>\n",
              "      <td>1300</td>\n",
              "      <td>118</td>\n",
              "      <td>0</td>\n",
              "      <td>0.0</td>\n",
              "    </tr>\n",
              "    <tr>\n",
              "      <th>citric acid</th>\n",
              "      <td>float64</td>\n",
              "      <td>1300</td>\n",
              "      <td>77</td>\n",
              "      <td>0</td>\n",
              "      <td>0.0</td>\n",
              "    </tr>\n",
              "    <tr>\n",
              "      <th>residual sugar</th>\n",
              "      <td>float64</td>\n",
              "      <td>1300</td>\n",
              "      <td>223</td>\n",
              "      <td>0</td>\n",
              "      <td>0.0</td>\n",
              "    </tr>\n",
              "    <tr>\n",
              "      <th>chlorides</th>\n",
              "      <td>float64</td>\n",
              "      <td>1300</td>\n",
              "      <td>131</td>\n",
              "      <td>0</td>\n",
              "      <td>0.0</td>\n",
              "    </tr>\n",
              "    <tr>\n",
              "      <th>free sulfur dioxide</th>\n",
              "      <td>float64</td>\n",
              "      <td>1300</td>\n",
              "      <td>94</td>\n",
              "      <td>0</td>\n",
              "      <td>0.0</td>\n",
              "    </tr>\n",
              "    <tr>\n",
              "      <th>total sulfur dioxide</th>\n",
              "      <td>float64</td>\n",
              "      <td>1300</td>\n",
              "      <td>241</td>\n",
              "      <td>0</td>\n",
              "      <td>0.0</td>\n",
              "    </tr>\n",
              "    <tr>\n",
              "      <th>density</th>\n",
              "      <td>float64</td>\n",
              "      <td>1300</td>\n",
              "      <td>534</td>\n",
              "      <td>0</td>\n",
              "      <td>0.0</td>\n",
              "    </tr>\n",
              "    <tr>\n",
              "      <th>pH</th>\n",
              "      <td>float64</td>\n",
              "      <td>1300</td>\n",
              "      <td>88</td>\n",
              "      <td>0</td>\n",
              "      <td>0.0</td>\n",
              "    </tr>\n",
              "    <tr>\n",
              "      <th>sulphates</th>\n",
              "      <td>float64</td>\n",
              "      <td>1300</td>\n",
              "      <td>85</td>\n",
              "      <td>0</td>\n",
              "      <td>0.0</td>\n",
              "    </tr>\n",
              "    <tr>\n",
              "      <th>alcohol</th>\n",
              "      <td>float64</td>\n",
              "      <td>1300</td>\n",
              "      <td>74</td>\n",
              "      <td>0</td>\n",
              "      <td>0.0</td>\n",
              "    </tr>\n",
              "    <tr>\n",
              "      <th>type_white</th>\n",
              "      <td>uint8</td>\n",
              "      <td>1300</td>\n",
              "      <td>2</td>\n",
              "      <td>0</td>\n",
              "      <td>0.0</td>\n",
              "    </tr>\n",
              "  </tbody>\n",
              "</table>\n",
              "</div>"
            ],
            "text/plain": [
              "                     DataType  Non-null_Values  Unique_Values  NaN_Values  \\\n",
              "fixed acidity         float64             1300             81           0   \n",
              "volatile acidity      float64             1300            118           0   \n",
              "citric acid           float64             1300             77           0   \n",
              "residual sugar        float64             1300            223           0   \n",
              "chlorides             float64             1300            131           0   \n",
              "free sulfur dioxide   float64             1300             94           0   \n",
              "total sulfur dioxide  float64             1300            241           0   \n",
              "density               float64             1300            534           0   \n",
              "pH                    float64             1300             88           0   \n",
              "sulphates             float64             1300             85           0   \n",
              "alcohol               float64             1300             74           0   \n",
              "type_white              uint8             1300              2           0   \n",
              "\n",
              "                      NaN_Values_Percentage  \n",
              "fixed acidity                           0.0  \n",
              "volatile acidity                        0.0  \n",
              "citric acid                             0.0  \n",
              "residual sugar                          0.0  \n",
              "chlorides                               0.0  \n",
              "free sulfur dioxide                     0.0  \n",
              "total sulfur dioxide                    0.0  \n",
              "density                                 0.0  \n",
              "pH                                      0.0  \n",
              "sulphates                               0.0  \n",
              "alcohol                                 0.0  \n",
              "type_white                              0.0  "
            ]
          },
          "execution_count": 202,
          "metadata": {},
          "output_type": "execute_result"
        }
      ],
      "source": [
        "datainfo(X_test)"
      ]
    },
    {
      "attachments": {},
      "cell_type": "markdown",
      "metadata": {
        "id": "-lWZJgV7oYSg"
      },
      "source": [
        "> d) Estandarice las variables categóricas numéricas no binarias, es decir, todas excepto el tipo de vino y la variable objetivo."
      ]
    },
    {
      "cell_type": "code",
      "execution_count": 208,
      "metadata": {
        "id": "f0oIEq98H7cL"
      },
      "outputs": [],
      "source": [
        "X_scaler = preprocessing.StandardScaler()\n",
        "y_scaler = preprocessing.StandardScaler()\n",
        "\n",
        "\n",
        "cols_to_normalize = ['fixed acidity',\n",
        "                     'volatile acidity',\n",
        "                     'citric acid',\t\n",
        "                     'residual sugar',\n",
        "                     'chlorides',\n",
        "                     'free sulfur dioxide',\n",
        "                     'total sulfur dioxide',\n",
        "                     'density',\n",
        "                     'pH',\n",
        "                     'sulphates',\n",
        "                     'alcohol']\n",
        "\n",
        "X_train[cols_to_normalize]= X_scaler.fit_transform(X_train[cols_to_normalize])\n",
        "X_test[cols_to_normalize] = X_scaler.transform(X_test[cols_to_normalize])\n",
        "y_train = y_scaler.fit_transform(np.array(y_train).reshape(-1,1))"
      ]
    },
    {
      "attachments": {},
      "cell_type": "markdown",
      "metadata": {
        "id": "BDqQNoG7rhQ7"
      },
      "source": [
        "e) Grafique la relevancia de cada variable con respecto a la variable objetivo utilizando la información mutua entre ambas, en otras palabras: MutualInformation($x_i,y$) siendo $x_i$ la $i$-ésima variable."
      ]
    },
    {
      "cell_type": "code",
      "execution_count": 214,
      "metadata": {
        "id": "_XJ70-UQsuhK"
      },
      "outputs": [
        {
          "data": {
            "image/png": "[encoded data removed]",
            "text/plain": [
              "<Figure size 1800x600 with 1 Axes>"
            ]
          },
          "metadata": {},
          "output_type": "display_data"
        }
      ],
      "source": [
        "from sklearn.feature_selection import mutual_info_regression\n",
        "\n",
        "mi =mutual_info_regression(X_train, y_train.ravel())\n",
        "for i in range(100):\n",
        "    mi +=mutual_info_regression(X_train, y_train.ravel())\n",
        "labels = X_train.columns\n",
        "\n",
        "fig, ax = plt.subplots(1, 1, figsize=(18,6),)\n",
        "ax.bar(labels, mi/101.0)\n",
        "fig.tight_layout()\n",
        "plt.show()"
      ]
    },
    {
      "attachments": {},
      "cell_type": "markdown",
      "metadata": {
        "id": "YlrYOAqhs_M9"
      },
      "source": [
        "> f) Cree un segundo conjunto quitando las características que menos aportan información según lo observado en su gráfico de la pregunta anterior. El número de características a quitar es algo que usted deberá escoger y argumentar por qué lo escogió. En adelante al conjunto con todas las variables lo llamaremos conjunto $\\textit{A}$ y al nuevo conjunto creado con las características quitadas lo llamaremos conjunto $\\textit{B}$.\n",
        "\n",
        "\n",
        "Debido a que en cada ejecucion de la funcion obtenemos ponderaciones ligeramente distintas, la mejor forma de encontrar este k es calcular el promedio de la informacion mutua de cada variables despues de varias ejecuciones, aca de aplica la ley de los grandes numeros para justificar que estos son los verdaderos valores. Con esto es mente, se observa que 3 de las variables son las que tienen el menor valor, por ello se eligio un $k=3$."
      ]
    },
    {
      "cell_type": "code",
      "execution_count": 216,
      "metadata": {
        "id": "V9GntnP0cl0B"
      },
      "outputs": [],
      "source": [
        "A = (X_train, y_train, X_test, y_test)\n",
        "#A = (X_train_b, y_train_b, X_test_b, y_test_b)\n",
        "\n",
        "\n",
        "## CODIGO EXTRAIDO DE LA TAREA 1\n",
        "k = 3\n",
        "n = len(mi) - k\n",
        "sorted_indices = np.argsort(mi)\n",
        "selected_indices = sorted_indices[-n:]\n",
        "selected_x_train = X_train.iloc[:, selected_indices]\n",
        "selected_x_test = X_test.iloc[:, selected_indices]\n",
        "X_train_b = selected_x_train.copy()\n",
        "X_test_b = selected_x_test.copy()\n",
        "\n",
        "B = (X_train_b, y_train, X_test_b, y_test)"
      ]
    },
    {
      "cell_type": "code",
      "execution_count": 217,
      "metadata": {},
      "outputs": [
        {
          "data": {
            "text/html": [
              "<div>\n",
              "<style scoped>\n",
              "    .dataframe tbody tr th:only-of-type {\n",
              "        vertical-align: middle;\n",
              "    }\n",
              "\n",
              "    .dataframe tbody tr th {\n",
              "        vertical-align: top;\n",
              "    }\n",
              "\n",
              "    .dataframe thead th {\n",
              "        text-align: right;\n",
              "    }\n",
              "</style>\n",
              "<table border=\"1\" class=\"dataframe\">\n",
              "  <thead>\n",
              "    <tr style=\"text-align: right;\">\n",
              "      <th></th>\n",
              "      <th>sulphates</th>\n",
              "      <th>free sulfur dioxide</th>\n",
              "      <th>citric acid</th>\n",
              "      <th>volatile acidity</th>\n",
              "      <th>residual sugar</th>\n",
              "      <th>total sulfur dioxide</th>\n",
              "      <th>chlorides</th>\n",
              "      <th>density</th>\n",
              "      <th>alcohol</th>\n",
              "    </tr>\n",
              "  </thead>\n",
              "  <tbody>\n",
              "    <tr>\n",
              "      <th>1161</th>\n",
              "      <td>-1.031727</td>\n",
              "      <td>-0.429669</td>\n",
              "      <td>-0.194486</td>\n",
              "      <td>-0.242373</td>\n",
              "      <td>2.399836</td>\n",
              "      <td>0.346154</td>\n",
              "      <td>-0.061802</td>\n",
              "      <td>1.693429</td>\n",
              "      <td>-1.255901</td>\n",
              "    </tr>\n",
              "    <tr>\n",
              "      <th>4652</th>\n",
              "      <td>-0.213691</td>\n",
              "      <td>1.646084</td>\n",
              "      <td>1.049167</td>\n",
              "      <td>0.242245</td>\n",
              "      <td>-0.847580</td>\n",
              "      <td>1.678508</td>\n",
              "      <td>-0.147467</td>\n",
              "      <td>-0.537391</td>\n",
              "      <td>-0.751343</td>\n",
              "    </tr>\n",
              "    <tr>\n",
              "      <th>6417</th>\n",
              "      <td>0.331666</td>\n",
              "      <td>-0.948608</td>\n",
              "      <td>-1.645414</td>\n",
              "      <td>2.180719</td>\n",
              "      <td>-0.595353</td>\n",
              "      <td>-1.572435</td>\n",
              "      <td>1.423058</td>\n",
              "      <td>0.646174</td>\n",
              "      <td>-0.246785</td>\n",
              "    </tr>\n",
              "    <tr>\n",
              "      <th>406</th>\n",
              "      <td>-0.963557</td>\n",
              "      <td>0.550548</td>\n",
              "      <td>0.150973</td>\n",
              "      <td>-0.363528</td>\n",
              "      <td>-0.301089</td>\n",
              "      <td>-0.293376</td>\n",
              "      <td>-0.718567</td>\n",
              "      <td>-1.697684</td>\n",
              "      <td>1.939633</td>\n",
              "    </tr>\n",
              "    <tr>\n",
              "      <th>2929</th>\n",
              "      <td>-0.213691</td>\n",
              "      <td>0.492888</td>\n",
              "      <td>-0.194486</td>\n",
              "      <td>-0.726992</td>\n",
              "      <td>1.884874</td>\n",
              "      <td>0.044154</td>\n",
              "      <td>-0.290242</td>\n",
              "      <td>1.208035</td>\n",
              "      <td>-1.171808</td>\n",
              "    </tr>\n",
              "  </tbody>\n",
              "</table>\n",
              "</div>"
            ],
            "text/plain": [
              "      sulphates  free sulfur dioxide  citric acid  volatile acidity  \\\n",
              "1161  -1.031727            -0.429669    -0.194486         -0.242373   \n",
              "4652  -0.213691             1.646084     1.049167          0.242245   \n",
              "6417   0.331666            -0.948608    -1.645414          2.180719   \n",
              "406   -0.963557             0.550548     0.150973         -0.363528   \n",
              "2929  -0.213691             0.492888    -0.194486         -0.726992   \n",
              "\n",
              "      residual sugar  total sulfur dioxide  chlorides   density   alcohol  \n",
              "1161        2.399836              0.346154  -0.061802  1.693429 -1.255901  \n",
              "4652       -0.847580              1.678508  -0.147467 -0.537391 -0.751343  \n",
              "6417       -0.595353             -1.572435   1.423058  0.646174 -0.246785  \n",
              "406        -0.301089             -0.293376  -0.718567 -1.697684  1.939633  \n",
              "2929        1.884874              0.044154  -0.290242  1.208035 -1.171808  "
            ]
          },
          "execution_count": 217,
          "metadata": {},
          "output_type": "execute_result"
        }
      ],
      "source": [
        "B[0].head()"
      ]
    },
    {
      "attachments": {},
      "cell_type": "markdown",
      "metadata": {
        "id": "TFTHk1mUgrdq"
      },
      "source": [
        "## 1.2 Modelos de Regresión\n",
        "\n",
        "Para las siguientes preguntas usted debera entrenar, validar y evaluar los modelos utilizando los conjuntos $A$ y $B$ por separado, para luego hacer las respectivas comparaciones entre ambos. Cada modelo tiene sus propios hiperparámetros que usted deberá ajustar a través de una búsqueda en grilla, obteniendo así un conjunto de modelos distintos para posteriormente comparar las métricas de evaluación sobre el conjunto de prueba. Usted estará explorando un subconjunto del espacio de hipótesis variando los hiperparámetros que se le indiquen en cada modelo usando el módulo gridsearchcv de la librería sklearn. En el módulo gridsearchcv fije fije los parámetros de la forma: "
      ]
    },
    {
      "cell_type": "code",
      "execution_count": null,
      "metadata": {
        "id": "tcndRMyXhgXz"
      },
      "outputs": [],
      "source": [
        "GridSearchCV(estimator, param_grid, scoring=mean_squared_error, refit=True)"
      ]
    },
    {
      "attachments": {},
      "cell_type": "markdown",
      "metadata": {
        "id": "0SKTwg4LhtjU"
      },
      "source": [
        "Siendo estimator el modelo a utilizar, scoring, la métrica para evaluar el modelo y refit=True para una vez probado todo el subconjunto del espacio de hipótesis, escojer el mejor modelo y entrnarlo con todo el conjunto de entrenamiento.\n",
        "\n",
        "**Nota:** puede utilizar parte del código utilizado en la tarea 1 de esta asignatura."
      ]
    },
    {
      "attachments": {},
      "cell_type": "markdown",
      "metadata": {
        "id": "KqzXP2_EgyPE"
      },
      "source": [
        "### 1.2.1 Árbol de regresión\n",
        "\n",
        "Entrene un árbol de regresión manteniendo fijos por defecto los que no se mencionen y variando los siguientes parámetros utilizando el módulo gridsearchcv de la librería sklearn:\n",
        "\n",
        "> a) max_depth: Probar con las profundidades 2, 20, 200. Describa brevemente qué es lo que significa modificar este hiperparámetro.\n",
        "\n",
        "> b) max_leaf_nodes: Probar con los valores 10, 50, 100. Describa brevemente qué es lo que significa modificar este hiperparámetro.\n",
        "\n",
        "Responda las siguientes preguntas:\n",
        "\n",
        "> c) ¿Cuántos modelos de árboles de regresión le quedan en total?\n",
        "\n",
        "> d) De todas las combinaciones que entrenó, ¿cual es la que mejores resultados le da? Para esta pregunta evalue el modelo con el conjunto de validación de la grilla utilizando la métrica de evaluación $mean\\_squared\\_error$.\n",
        "\n",
        "**Nota:** Recuerde que estos experimentos debe realizarlos para ambas representaciones de los conjuntos ($A$ y $B$).\n",
        "\n"
      ]
    },
    {
      "cell_type": "code",
      "execution_count": 218,
      "metadata": {},
      "outputs": [
        {
          "data": {
            "text/html": [
              "<div>\n",
              "<style scoped>\n",
              "    .dataframe tbody tr th:only-of-type {\n",
              "        vertical-align: middle;\n",
              "    }\n",
              "\n",
              "    .dataframe tbody tr th {\n",
              "        vertical-align: top;\n",
              "    }\n",
              "\n",
              "    .dataframe thead th {\n",
              "        text-align: right;\n",
              "    }\n",
              "</style>\n",
              "<table border=\"1\" class=\"dataframe\">\n",
              "  <thead>\n",
              "    <tr style=\"text-align: right;\">\n",
              "      <th></th>\n",
              "      <th>mean_fit_time</th>\n",
              "      <th>std_fit_time</th>\n",
              "      <th>mean_score_time</th>\n",
              "      <th>std_score_time</th>\n",
              "      <th>param_max_depth</th>\n",
              "      <th>param_max_leaf_nodes</th>\n",
              "      <th>params</th>\n",
              "      <th>split0_test_score</th>\n",
              "      <th>split1_test_score</th>\n",
              "      <th>split2_test_score</th>\n",
              "      <th>split3_test_score</th>\n",
              "      <th>split4_test_score</th>\n",
              "      <th>mean_test_score</th>\n",
              "      <th>std_test_score</th>\n",
              "      <th>rank_test_score</th>\n",
              "    </tr>\n",
              "  </thead>\n",
              "  <tbody>\n",
              "    <tr>\n",
              "      <th>4</th>\n",
              "      <td>0.018201</td>\n",
              "      <td>0.000394</td>\n",
              "      <td>0.000980</td>\n",
              "      <td>0.000071</td>\n",
              "      <td>20</td>\n",
              "      <td>50</td>\n",
              "      <td>{'max_depth': 20, 'max_leaf_nodes': 50}</td>\n",
              "      <td>-0.698797</td>\n",
              "      <td>-0.674768</td>\n",
              "      <td>-0.828858</td>\n",
              "      <td>-0.724310</td>\n",
              "      <td>-0.734497</td>\n",
              "      <td>-0.732246</td>\n",
              "      <td>0.052582</td>\n",
              "      <td>1</td>\n",
              "    </tr>\n",
              "    <tr>\n",
              "      <th>7</th>\n",
              "      <td>0.018259</td>\n",
              "      <td>0.000353</td>\n",
              "      <td>0.001049</td>\n",
              "      <td>0.000061</td>\n",
              "      <td>200</td>\n",
              "      <td>50</td>\n",
              "      <td>{'max_depth': 200, 'max_leaf_nodes': 50}</td>\n",
              "      <td>-0.698797</td>\n",
              "      <td>-0.674768</td>\n",
              "      <td>-0.828858</td>\n",
              "      <td>-0.724310</td>\n",
              "      <td>-0.734497</td>\n",
              "      <td>-0.732246</td>\n",
              "      <td>0.052582</td>\n",
              "      <td>1</td>\n",
              "    </tr>\n",
              "    <tr>\n",
              "      <th>3</th>\n",
              "      <td>0.011284</td>\n",
              "      <td>0.000136</td>\n",
              "      <td>0.000981</td>\n",
              "      <td>0.000119</td>\n",
              "      <td>20</td>\n",
              "      <td>10</td>\n",
              "      <td>{'max_depth': 20, 'max_leaf_nodes': 10}</td>\n",
              "      <td>-0.698352</td>\n",
              "      <td>-0.660515</td>\n",
              "      <td>-0.792367</td>\n",
              "      <td>-0.770934</td>\n",
              "      <td>-0.769096</td>\n",
              "      <td>-0.738253</td>\n",
              "      <td>0.050166</td>\n",
              "      <td>3</td>\n",
              "    </tr>\n",
              "    <tr>\n",
              "      <th>6</th>\n",
              "      <td>0.011146</td>\n",
              "      <td>0.000093</td>\n",
              "      <td>0.000860</td>\n",
              "      <td>0.000062</td>\n",
              "      <td>200</td>\n",
              "      <td>10</td>\n",
              "      <td>{'max_depth': 200, 'max_leaf_nodes': 10}</td>\n",
              "      <td>-0.698352</td>\n",
              "      <td>-0.660515</td>\n",
              "      <td>-0.792367</td>\n",
              "      <td>-0.770934</td>\n",
              "      <td>-0.769096</td>\n",
              "      <td>-0.738253</td>\n",
              "      <td>0.050166</td>\n",
              "      <td>3</td>\n",
              "    </tr>\n",
              "    <tr>\n",
              "      <th>8</th>\n",
              "      <td>0.022062</td>\n",
              "      <td>0.000351</td>\n",
              "      <td>0.001068</td>\n",
              "      <td>0.000072</td>\n",
              "      <td>200</td>\n",
              "      <td>100</td>\n",
              "      <td>{'max_depth': 200, 'max_leaf_nodes': 100}</td>\n",
              "      <td>-0.706089</td>\n",
              "      <td>-0.715256</td>\n",
              "      <td>-0.846818</td>\n",
              "      <td>-0.745279</td>\n",
              "      <td>-0.749593</td>\n",
              "      <td>-0.752607</td>\n",
              "      <td>0.049995</td>\n",
              "      <td>5</td>\n",
              "    </tr>\n",
              "    <tr>\n",
              "      <th>5</th>\n",
              "      <td>0.021970</td>\n",
              "      <td>0.000515</td>\n",
              "      <td>0.000983</td>\n",
              "      <td>0.000064</td>\n",
              "      <td>20</td>\n",
              "      <td>100</td>\n",
              "      <td>{'max_depth': 20, 'max_leaf_nodes': 100}</td>\n",
              "      <td>-0.716641</td>\n",
              "      <td>-0.714796</td>\n",
              "      <td>-0.844674</td>\n",
              "      <td>-0.745279</td>\n",
              "      <td>-0.747414</td>\n",
              "      <td>-0.753761</td>\n",
              "      <td>0.047484</td>\n",
              "      <td>6</td>\n",
              "    </tr>\n",
              "    <tr>\n",
              "      <th>0</th>\n",
              "      <td>0.007362</td>\n",
              "      <td>0.002287</td>\n",
              "      <td>0.001079</td>\n",
              "      <td>0.000116</td>\n",
              "      <td>2</td>\n",
              "      <td>10</td>\n",
              "      <td>{'max_depth': 2, 'max_leaf_nodes': 10}</td>\n",
              "      <td>-0.721422</td>\n",
              "      <td>-0.691955</td>\n",
              "      <td>-0.836740</td>\n",
              "      <td>-0.789392</td>\n",
              "      <td>-0.821679</td>\n",
              "      <td>-0.772238</td>\n",
              "      <td>0.056439</td>\n",
              "      <td>7</td>\n",
              "    </tr>\n",
              "    <tr>\n",
              "      <th>1</th>\n",
              "      <td>0.006213</td>\n",
              "      <td>0.000094</td>\n",
              "      <td>0.000917</td>\n",
              "      <td>0.000122</td>\n",
              "      <td>2</td>\n",
              "      <td>50</td>\n",
              "      <td>{'max_depth': 2, 'max_leaf_nodes': 50}</td>\n",
              "      <td>-0.721422</td>\n",
              "      <td>-0.691955</td>\n",
              "      <td>-0.836740</td>\n",
              "      <td>-0.789392</td>\n",
              "      <td>-0.821679</td>\n",
              "      <td>-0.772238</td>\n",
              "      <td>0.056439</td>\n",
              "      <td>7</td>\n",
              "    </tr>\n",
              "    <tr>\n",
              "      <th>2</th>\n",
              "      <td>0.006268</td>\n",
              "      <td>0.000165</td>\n",
              "      <td>0.000917</td>\n",
              "      <td>0.000092</td>\n",
              "      <td>2</td>\n",
              "      <td>100</td>\n",
              "      <td>{'max_depth': 2, 'max_leaf_nodes': 100}</td>\n",
              "      <td>-0.721422</td>\n",
              "      <td>-0.691955</td>\n",
              "      <td>-0.836740</td>\n",
              "      <td>-0.789392</td>\n",
              "      <td>-0.821679</td>\n",
              "      <td>-0.772238</td>\n",
              "      <td>0.056439</td>\n",
              "      <td>7</td>\n",
              "    </tr>\n",
              "  </tbody>\n",
              "</table>\n",
              "</div>"
            ],
            "text/plain": [
              "   mean_fit_time  std_fit_time  mean_score_time  std_score_time  \\\n",
              "4       0.018201      0.000394         0.000980        0.000071   \n",
              "7       0.018259      0.000353         0.001049        0.000061   \n",
              "3       0.011284      0.000136         0.000981        0.000119   \n",
              "6       0.011146      0.000093         0.000860        0.000062   \n",
              "8       0.022062      0.000351         0.001068        0.000072   \n",
              "5       0.021970      0.000515         0.000983        0.000064   \n",
              "0       0.007362      0.002287         0.001079        0.000116   \n",
              "1       0.006213      0.000094         0.000917        0.000122   \n",
              "2       0.006268      0.000165         0.000917        0.000092   \n",
              "\n",
              "  param_max_depth param_max_leaf_nodes  \\\n",
              "4              20                   50   \n",
              "7             200                   50   \n",
              "3              20                   10   \n",
              "6             200                   10   \n",
              "8             200                  100   \n",
              "5              20                  100   \n",
              "0               2                   10   \n",
              "1               2                   50   \n",
              "2               2                  100   \n",
              "\n",
              "                                      params  split0_test_score  \\\n",
              "4    {'max_depth': 20, 'max_leaf_nodes': 50}          -0.698797   \n",
              "7   {'max_depth': 200, 'max_leaf_nodes': 50}          -0.698797   \n",
              "3    {'max_depth': 20, 'max_leaf_nodes': 10}          -0.698352   \n",
              "6   {'max_depth': 200, 'max_leaf_nodes': 10}          -0.698352   \n",
              "8  {'max_depth': 200, 'max_leaf_nodes': 100}          -0.706089   \n",
              "5   {'max_depth': 20, 'max_leaf_nodes': 100}          -0.716641   \n",
              "0     {'max_depth': 2, 'max_leaf_nodes': 10}          -0.721422   \n",
              "1     {'max_depth': 2, 'max_leaf_nodes': 50}          -0.721422   \n",
              "2    {'max_depth': 2, 'max_leaf_nodes': 100}          -0.721422   \n",
              "\n",
              "   split1_test_score  split2_test_score  split3_test_score  split4_test_score  \\\n",
              "4          -0.674768          -0.828858          -0.724310          -0.734497   \n",
              "7          -0.674768          -0.828858          -0.724310          -0.734497   \n",
              "3          -0.660515          -0.792367          -0.770934          -0.769096   \n",
              "6          -0.660515          -0.792367          -0.770934          -0.769096   \n",
              "8          -0.715256          -0.846818          -0.745279          -0.749593   \n",
              "5          -0.714796          -0.844674          -0.745279          -0.747414   \n",
              "0          -0.691955          -0.836740          -0.789392          -0.821679   \n",
              "1          -0.691955          -0.836740          -0.789392          -0.821679   \n",
              "2          -0.691955          -0.836740          -0.789392          -0.821679   \n",
              "\n",
              "   mean_test_score  std_test_score  rank_test_score  \n",
              "4        -0.732246        0.052582                1  \n",
              "7        -0.732246        0.052582                1  \n",
              "3        -0.738253        0.050166                3  \n",
              "6        -0.738253        0.050166                3  \n",
              "8        -0.752607        0.049995                5  \n",
              "5        -0.753761        0.047484                6  \n",
              "0        -0.772238        0.056439                7  \n",
              "1        -0.772238        0.056439                7  \n",
              "2        -0.772238        0.056439                7  "
            ]
          },
          "execution_count": 218,
          "metadata": {},
          "output_type": "execute_result"
        }
      ],
      "source": [
        "k = 5\n",
        "cv_folds = KFold(n_splits=k, shuffle=True)\n",
        "model1 = DecisionTreeRegressor()\n",
        "\n",
        "param_grid = {'max_depth': [2, 20, 200], \n",
        "              'max_leaf_nodes': [10,50,100]\n",
        "             }\n",
        "\n",
        "hypereg = GridSearchCV(\n",
        "    model1, \n",
        "    param_grid, \n",
        "    scoring='neg_mean_squared_error',              \n",
        "    refit=True, \n",
        "    cv=cv_folds, \n",
        "    verbose=0, \n",
        ")\n",
        "\n",
        "\n",
        "hypereg.fit(A[0], A[1])\n",
        "pd.DataFrame(hypereg.cv_results_).sort_values('rank_test_score', ascending=True)"
      ]
    },
    {
      "cell_type": "code",
      "execution_count": 219,
      "metadata": {},
      "outputs": [
        {
          "data": {
            "text/plain": [
              "(DecisionTreeRegressor(max_depth=20, max_leaf_nodes=50),\n",
              " {'max_depth': 20, 'max_leaf_nodes': 50})"
            ]
          },
          "execution_count": 219,
          "metadata": {},
          "output_type": "execute_result"
        }
      ],
      "source": [
        "hypereg.best_estimator_, hypereg.best_params_"
      ]
    },
    {
      "cell_type": "code",
      "execution_count": 220,
      "metadata": {},
      "outputs": [
        {
          "data": {
            "text/html": [
              "<div>\n",
              "<style scoped>\n",
              "    .dataframe tbody tr th:only-of-type {\n",
              "        vertical-align: middle;\n",
              "    }\n",
              "\n",
              "    .dataframe tbody tr th {\n",
              "        vertical-align: top;\n",
              "    }\n",
              "\n",
              "    .dataframe thead th {\n",
              "        text-align: right;\n",
              "    }\n",
              "</style>\n",
              "<table border=\"1\" class=\"dataframe\">\n",
              "  <thead>\n",
              "    <tr style=\"text-align: right;\">\n",
              "      <th></th>\n",
              "      <th>mean_fit_time</th>\n",
              "      <th>std_fit_time</th>\n",
              "      <th>mean_score_time</th>\n",
              "      <th>std_score_time</th>\n",
              "      <th>param_max_depth</th>\n",
              "      <th>param_max_leaf_nodes</th>\n",
              "      <th>params</th>\n",
              "      <th>split0_test_score</th>\n",
              "      <th>split1_test_score</th>\n",
              "      <th>split2_test_score</th>\n",
              "      <th>split3_test_score</th>\n",
              "      <th>split4_test_score</th>\n",
              "      <th>mean_test_score</th>\n",
              "      <th>std_test_score</th>\n",
              "      <th>rank_test_score</th>\n",
              "    </tr>\n",
              "  </thead>\n",
              "  <tbody>\n",
              "    <tr>\n",
              "      <th>4</th>\n",
              "      <td>0.014718</td>\n",
              "      <td>0.000206</td>\n",
              "      <td>0.000757</td>\n",
              "      <td>0.000033</td>\n",
              "      <td>20</td>\n",
              "      <td>50</td>\n",
              "      <td>{'max_depth': 20, 'max_leaf_nodes': 50}</td>\n",
              "      <td>-0.698820</td>\n",
              "      <td>-0.742167</td>\n",
              "      <td>-0.657641</td>\n",
              "      <td>-0.710369</td>\n",
              "      <td>-0.724687</td>\n",
              "      <td>-0.706737</td>\n",
              "      <td>0.028509</td>\n",
              "      <td>1</td>\n",
              "    </tr>\n",
              "    <tr>\n",
              "      <th>7</th>\n",
              "      <td>0.015101</td>\n",
              "      <td>0.000351</td>\n",
              "      <td>0.001010</td>\n",
              "      <td>0.000064</td>\n",
              "      <td>200</td>\n",
              "      <td>50</td>\n",
              "      <td>{'max_depth': 200, 'max_leaf_nodes': 50}</td>\n",
              "      <td>-0.698820</td>\n",
              "      <td>-0.742167</td>\n",
              "      <td>-0.657641</td>\n",
              "      <td>-0.710369</td>\n",
              "      <td>-0.724687</td>\n",
              "      <td>-0.706737</td>\n",
              "      <td>0.028509</td>\n",
              "      <td>1</td>\n",
              "    </tr>\n",
              "    <tr>\n",
              "      <th>8</th>\n",
              "      <td>0.018101</td>\n",
              "      <td>0.000344</td>\n",
              "      <td>0.000844</td>\n",
              "      <td>0.000077</td>\n",
              "      <td>200</td>\n",
              "      <td>100</td>\n",
              "      <td>{'max_depth': 200, 'max_leaf_nodes': 100}</td>\n",
              "      <td>-0.715557</td>\n",
              "      <td>-0.765812</td>\n",
              "      <td>-0.661511</td>\n",
              "      <td>-0.722390</td>\n",
              "      <td>-0.734429</td>\n",
              "      <td>-0.719940</td>\n",
              "      <td>0.033921</td>\n",
              "      <td>3</td>\n",
              "    </tr>\n",
              "    <tr>\n",
              "      <th>5</th>\n",
              "      <td>0.018114</td>\n",
              "      <td>0.000360</td>\n",
              "      <td>0.000917</td>\n",
              "      <td>0.000108</td>\n",
              "      <td>20</td>\n",
              "      <td>100</td>\n",
              "      <td>{'max_depth': 20, 'max_leaf_nodes': 100}</td>\n",
              "      <td>-0.715557</td>\n",
              "      <td>-0.761987</td>\n",
              "      <td>-0.667892</td>\n",
              "      <td>-0.722390</td>\n",
              "      <td>-0.734429</td>\n",
              "      <td>-0.720451</td>\n",
              "      <td>0.030695</td>\n",
              "      <td>4</td>\n",
              "    </tr>\n",
              "    <tr>\n",
              "      <th>3</th>\n",
              "      <td>0.009335</td>\n",
              "      <td>0.000074</td>\n",
              "      <td>0.000812</td>\n",
              "      <td>0.000076</td>\n",
              "      <td>20</td>\n",
              "      <td>10</td>\n",
              "      <td>{'max_depth': 20, 'max_leaf_nodes': 10}</td>\n",
              "      <td>-0.733801</td>\n",
              "      <td>-0.793960</td>\n",
              "      <td>-0.667862</td>\n",
              "      <td>-0.723816</td>\n",
              "      <td>-0.745004</td>\n",
              "      <td>-0.732888</td>\n",
              "      <td>0.040468</td>\n",
              "      <td>5</td>\n",
              "    </tr>\n",
              "    <tr>\n",
              "      <th>6</th>\n",
              "      <td>0.009444</td>\n",
              "      <td>0.000120</td>\n",
              "      <td>0.000931</td>\n",
              "      <td>0.000153</td>\n",
              "      <td>200</td>\n",
              "      <td>10</td>\n",
              "      <td>{'max_depth': 200, 'max_leaf_nodes': 10}</td>\n",
              "      <td>-0.733801</td>\n",
              "      <td>-0.793960</td>\n",
              "      <td>-0.667862</td>\n",
              "      <td>-0.723816</td>\n",
              "      <td>-0.745004</td>\n",
              "      <td>-0.732888</td>\n",
              "      <td>0.040468</td>\n",
              "      <td>5</td>\n",
              "    </tr>\n",
              "    <tr>\n",
              "      <th>1</th>\n",
              "      <td>0.005090</td>\n",
              "      <td>0.000035</td>\n",
              "      <td>0.000773</td>\n",
              "      <td>0.000119</td>\n",
              "      <td>2</td>\n",
              "      <td>50</td>\n",
              "      <td>{'max_depth': 2, 'max_leaf_nodes': 50}</td>\n",
              "      <td>-0.764418</td>\n",
              "      <td>-0.834803</td>\n",
              "      <td>-0.707845</td>\n",
              "      <td>-0.750096</td>\n",
              "      <td>-0.789430</td>\n",
              "      <td>-0.769318</td>\n",
              "      <td>0.042108</td>\n",
              "      <td>7</td>\n",
              "    </tr>\n",
              "    <tr>\n",
              "      <th>0</th>\n",
              "      <td>0.005681</td>\n",
              "      <td>0.000638</td>\n",
              "      <td>0.000959</td>\n",
              "      <td>0.000116</td>\n",
              "      <td>2</td>\n",
              "      <td>10</td>\n",
              "      <td>{'max_depth': 2, 'max_leaf_nodes': 10}</td>\n",
              "      <td>-0.764418</td>\n",
              "      <td>-0.834803</td>\n",
              "      <td>-0.707845</td>\n",
              "      <td>-0.750096</td>\n",
              "      <td>-0.789430</td>\n",
              "      <td>-0.769318</td>\n",
              "      <td>0.042108</td>\n",
              "      <td>8</td>\n",
              "    </tr>\n",
              "    <tr>\n",
              "      <th>2</th>\n",
              "      <td>0.005015</td>\n",
              "      <td>0.000038</td>\n",
              "      <td>0.000671</td>\n",
              "      <td>0.000006</td>\n",
              "      <td>2</td>\n",
              "      <td>100</td>\n",
              "      <td>{'max_depth': 2, 'max_leaf_nodes': 100}</td>\n",
              "      <td>-0.764418</td>\n",
              "      <td>-0.834803</td>\n",
              "      <td>-0.707845</td>\n",
              "      <td>-0.750096</td>\n",
              "      <td>-0.789430</td>\n",
              "      <td>-0.769318</td>\n",
              "      <td>0.042108</td>\n",
              "      <td>8</td>\n",
              "    </tr>\n",
              "  </tbody>\n",
              "</table>\n",
              "</div>"
            ],
            "text/plain": [
              "   mean_fit_time  std_fit_time  mean_score_time  std_score_time  \\\n",
              "4       0.014718      0.000206         0.000757        0.000033   \n",
              "7       0.015101      0.000351         0.001010        0.000064   \n",
              "8       0.018101      0.000344         0.000844        0.000077   \n",
              "5       0.018114      0.000360         0.000917        0.000108   \n",
              "3       0.009335      0.000074         0.000812        0.000076   \n",
              "6       0.009444      0.000120         0.000931        0.000153   \n",
              "1       0.005090      0.000035         0.000773        0.000119   \n",
              "0       0.005681      0.000638         0.000959        0.000116   \n",
              "2       0.005015      0.000038         0.000671        0.000006   \n",
              "\n",
              "  param_max_depth param_max_leaf_nodes  \\\n",
              "4              20                   50   \n",
              "7             200                   50   \n",
              "8             200                  100   \n",
              "5              20                  100   \n",
              "3              20                   10   \n",
              "6             200                   10   \n",
              "1               2                   50   \n",
              "0               2                   10   \n",
              "2               2                  100   \n",
              "\n",
              "                                      params  split0_test_score  \\\n",
              "4    {'max_depth': 20, 'max_leaf_nodes': 50}          -0.698820   \n",
              "7   {'max_depth': 200, 'max_leaf_nodes': 50}          -0.698820   \n",
              "8  {'max_depth': 200, 'max_leaf_nodes': 100}          -0.715557   \n",
              "5   {'max_depth': 20, 'max_leaf_nodes': 100}          -0.715557   \n",
              "3    {'max_depth': 20, 'max_leaf_nodes': 10}          -0.733801   \n",
              "6   {'max_depth': 200, 'max_leaf_nodes': 10}          -0.733801   \n",
              "1     {'max_depth': 2, 'max_leaf_nodes': 50}          -0.764418   \n",
              "0     {'max_depth': 2, 'max_leaf_nodes': 10}          -0.764418   \n",
              "2    {'max_depth': 2, 'max_leaf_nodes': 100}          -0.764418   \n",
              "\n",
              "   split1_test_score  split2_test_score  split3_test_score  split4_test_score  \\\n",
              "4          -0.742167          -0.657641          -0.710369          -0.724687   \n",
              "7          -0.742167          -0.657641          -0.710369          -0.724687   \n",
              "8          -0.765812          -0.661511          -0.722390          -0.734429   \n",
              "5          -0.761987          -0.667892          -0.722390          -0.734429   \n",
              "3          -0.793960          -0.667862          -0.723816          -0.745004   \n",
              "6          -0.793960          -0.667862          -0.723816          -0.745004   \n",
              "1          -0.834803          -0.707845          -0.750096          -0.789430   \n",
              "0          -0.834803          -0.707845          -0.750096          -0.789430   \n",
              "2          -0.834803          -0.707845          -0.750096          -0.789430   \n",
              "\n",
              "   mean_test_score  std_test_score  rank_test_score  \n",
              "4        -0.706737        0.028509                1  \n",
              "7        -0.706737        0.028509                1  \n",
              "8        -0.719940        0.033921                3  \n",
              "5        -0.720451        0.030695                4  \n",
              "3        -0.732888        0.040468                5  \n",
              "6        -0.732888        0.040468                5  \n",
              "1        -0.769318        0.042108                7  \n",
              "0        -0.769318        0.042108                8  \n",
              "2        -0.769318        0.042108                8  "
            ]
          },
          "execution_count": 220,
          "metadata": {},
          "output_type": "execute_result"
        }
      ],
      "source": [
        "hypereg.fit(B[0], B[1])\n",
        "pd.DataFrame(hypereg.cv_results_).sort_values('rank_test_score', ascending=True)"
      ]
    },
    {
      "cell_type": "code",
      "execution_count": 221,
      "metadata": {},
      "outputs": [
        {
          "data": {
            "text/plain": [
              "(DecisionTreeRegressor(max_depth=20, max_leaf_nodes=50),\n",
              " {'max_depth': 20, 'max_leaf_nodes': 50})"
            ]
          },
          "execution_count": 221,
          "metadata": {},
          "output_type": "execute_result"
        }
      ],
      "source": [
        "hypereg.best_estimator_, hypereg.best_params_"
      ]
    },
    {
      "attachments": {},
      "cell_type": "markdown",
      "metadata": {
        "id": "2M87NTHqpYsO"
      },
      "source": [
        "> c) Entrene el conjunto de entrenamiento completo con el mejor modelo y mejor representación ($A$ o $B$) obtenida y evalúe su desempeño sobre el conjunto de prueba utilizando la métrica de evaluación $mean\\_squared\\_error$.\n",
        "\n",
        "El mejor modelo es el con una profundidad maxima de 20 y un numero maximo de 50 hojas con la representacion B."
      ]
    },
    {
      "cell_type": "code",
      "execution_count": 223,
      "metadata": {},
      "outputs": [
        {
          "name": "stdout",
          "output_type": "stream",
          "text": [
            "0.7101105348100054\n"
          ]
        }
      ],
      "source": [
        "model1_best = DecisionTreeRegressor(max_depth= 20, max_leaf_nodes= 50)\n",
        "model1_best.fit(B[0], B[1])\n",
        "y_pred = y_scaler.inverse_transform(np.array(model1_best.predict(B[2])).reshape(-1, 1))\n",
        "print(mean_squared_error(y_test, y_pred))"
      ]
    },
    {
      "attachments": {},
      "cell_type": "markdown",
      "metadata": {
        "id": "UNVi9PhtjAGQ"
      },
      "source": [
        "### 1.2.2 Random Forest Regressor\n",
        "\n",
        "Entrene un bosque aleatorio de regresión manteniendo fijos por defecto los que no se mencionen y variando los siguientes parámetros utilizando el módulo gridsearchcv de la librería sklearn:\n",
        "\n",
        "* max_depth: Probar con las profundidades 2, 20, 200. Describa brevemente qué es lo que significa modificar este hiperparámetro.\n",
        "\n",
        "* max_samples: Probar con las siguientes proporciones 0.1, 0.5, 1.0. Describa brevemente qué es lo que significa modificar este hiperparámetro.\n",
        "\n",
        "El objetivo de los métodos $\\textit{ensemble machine}$ es combinar las predicciones de varios estimadores base construidos con un algoritmo de aprendizaje determinado para mejorar la capacidad de generalización / robustez respecto a un único estimador. Se suelen distinguir dos familias de métodos ensemble: los métodos $averaging$ y los métodos $boosting$. Respecto a lo anterior responda las siguientes preguntas:\n",
        "\n",
        "> a) Defina con sus propias palabras qué son y en qué se diferencian los métodos $averaging$ y $boosting$.\n",
        "\n",
        "> b) A cual de los dos anteriormente definidos pertenece el modelo de regresión Random Forest?\n",
        "\n",
        "> c) De todas las combinaciones que entrenó, ¿cual es la que mejores resultados le da? Para esta pregunta evalue el modelo con el conjunto de validación utilizando la métrica de evaluación $mean\\_squared\\_error$."
      ]
    },
    {
      "cell_type": "code",
      "execution_count": 225,
      "metadata": {},
      "outputs": [
        {
          "data": {
            "text/html": [
              "<div>\n",
              "<style scoped>\n",
              "    .dataframe tbody tr th:only-of-type {\n",
              "        vertical-align: middle;\n",
              "    }\n",
              "\n",
              "    .dataframe tbody tr th {\n",
              "        vertical-align: top;\n",
              "    }\n",
              "\n",
              "    .dataframe thead th {\n",
              "        text-align: right;\n",
              "    }\n",
              "</style>\n",
              "<table border=\"1\" class=\"dataframe\">\n",
              "  <thead>\n",
              "    <tr style=\"text-align: right;\">\n",
              "      <th></th>\n",
              "      <th>mean_fit_time</th>\n",
              "      <th>std_fit_time</th>\n",
              "      <th>mean_score_time</th>\n",
              "      <th>std_score_time</th>\n",
              "      <th>param_max_depth</th>\n",
              "      <th>param_max_samples</th>\n",
              "      <th>params</th>\n",
              "      <th>split0_test_score</th>\n",
              "      <th>split1_test_score</th>\n",
              "      <th>split2_test_score</th>\n",
              "      <th>split3_test_score</th>\n",
              "      <th>split4_test_score</th>\n",
              "      <th>mean_test_score</th>\n",
              "      <th>std_test_score</th>\n",
              "      <th>rank_test_score</th>\n",
              "    </tr>\n",
              "  </thead>\n",
              "  <tbody>\n",
              "    <tr>\n",
              "      <th>8</th>\n",
              "      <td>2.312246</td>\n",
              "      <td>0.059520</td>\n",
              "      <td>0.022289</td>\n",
              "      <td>0.000428</td>\n",
              "      <td>200</td>\n",
              "      <td>1.0</td>\n",
              "      <td>{'max_depth': 200, 'max_samples': 1.0}</td>\n",
              "      <td>-0.462834</td>\n",
              "      <td>-0.539368</td>\n",
              "      <td>-0.523931</td>\n",
              "      <td>-0.504222</td>\n",
              "      <td>-0.545886</td>\n",
              "      <td>-0.515248</td>\n",
              "      <td>0.029882</td>\n",
              "      <td>1</td>\n",
              "    </tr>\n",
              "    <tr>\n",
              "      <th>5</th>\n",
              "      <td>2.390031</td>\n",
              "      <td>0.160468</td>\n",
              "      <td>0.022957</td>\n",
              "      <td>0.001394</td>\n",
              "      <td>20</td>\n",
              "      <td>1.0</td>\n",
              "      <td>{'max_depth': 20, 'max_samples': 1.0}</td>\n",
              "      <td>-0.464062</td>\n",
              "      <td>-0.540724</td>\n",
              "      <td>-0.525473</td>\n",
              "      <td>-0.507695</td>\n",
              "      <td>-0.547271</td>\n",
              "      <td>-0.517045</td>\n",
              "      <td>0.029799</td>\n",
              "      <td>2</td>\n",
              "    </tr>\n",
              "    <tr>\n",
              "      <th>7</th>\n",
              "      <td>1.426188</td>\n",
              "      <td>0.070317</td>\n",
              "      <td>0.020861</td>\n",
              "      <td>0.001091</td>\n",
              "      <td>200</td>\n",
              "      <td>0.5</td>\n",
              "      <td>{'max_depth': 200, 'max_samples': 0.5}</td>\n",
              "      <td>-0.494532</td>\n",
              "      <td>-0.551865</td>\n",
              "      <td>-0.568968</td>\n",
              "      <td>-0.524145</td>\n",
              "      <td>-0.575915</td>\n",
              "      <td>-0.543085</td>\n",
              "      <td>0.030136</td>\n",
              "      <td>3</td>\n",
              "    </tr>\n",
              "    <tr>\n",
              "      <th>4</th>\n",
              "      <td>1.389991</td>\n",
              "      <td>0.010659</td>\n",
              "      <td>0.020232</td>\n",
              "      <td>0.000110</td>\n",
              "      <td>20</td>\n",
              "      <td>0.5</td>\n",
              "      <td>{'max_depth': 20, 'max_samples': 0.5}</td>\n",
              "      <td>-0.496250</td>\n",
              "      <td>-0.553417</td>\n",
              "      <td>-0.566715</td>\n",
              "      <td>-0.523582</td>\n",
              "      <td>-0.578264</td>\n",
              "      <td>-0.543646</td>\n",
              "      <td>0.029917</td>\n",
              "      <td>4</td>\n",
              "    </tr>\n",
              "    <tr>\n",
              "      <th>3</th>\n",
              "      <td>0.333002</td>\n",
              "      <td>0.003468</td>\n",
              "      <td>0.015757</td>\n",
              "      <td>0.000185</td>\n",
              "      <td>20</td>\n",
              "      <td>0.1</td>\n",
              "      <td>{'max_depth': 20, 'max_samples': 0.1}</td>\n",
              "      <td>-0.567482</td>\n",
              "      <td>-0.636303</td>\n",
              "      <td>-0.654591</td>\n",
              "      <td>-0.599127</td>\n",
              "      <td>-0.641721</td>\n",
              "      <td>-0.619845</td>\n",
              "      <td>0.032024</td>\n",
              "      <td>5</td>\n",
              "    </tr>\n",
              "    <tr>\n",
              "      <th>6</th>\n",
              "      <td>0.330319</td>\n",
              "      <td>0.005085</td>\n",
              "      <td>0.015729</td>\n",
              "      <td>0.000100</td>\n",
              "      <td>200</td>\n",
              "      <td>0.1</td>\n",
              "      <td>{'max_depth': 200, 'max_samples': 0.1}</td>\n",
              "      <td>-0.567542</td>\n",
              "      <td>-0.636303</td>\n",
              "      <td>-0.654590</td>\n",
              "      <td>-0.599127</td>\n",
              "      <td>-0.641822</td>\n",
              "      <td>-0.619877</td>\n",
              "      <td>0.032019</td>\n",
              "      <td>6</td>\n",
              "    </tr>\n",
              "    <tr>\n",
              "      <th>0</th>\n",
              "      <td>0.134982</td>\n",
              "      <td>0.012935</td>\n",
              "      <td>0.007437</td>\n",
              "      <td>0.000454</td>\n",
              "      <td>2</td>\n",
              "      <td>0.1</td>\n",
              "      <td>{'max_depth': 2, 'max_samples': 0.1}</td>\n",
              "      <td>-0.680284</td>\n",
              "      <td>-0.742849</td>\n",
              "      <td>-0.769173</td>\n",
              "      <td>-0.720699</td>\n",
              "      <td>-0.741874</td>\n",
              "      <td>-0.730976</td>\n",
              "      <td>0.029645</td>\n",
              "      <td>7</td>\n",
              "    </tr>\n",
              "    <tr>\n",
              "      <th>1</th>\n",
              "      <td>0.303190</td>\n",
              "      <td>0.016350</td>\n",
              "      <td>0.007343</td>\n",
              "      <td>0.000373</td>\n",
              "      <td>2</td>\n",
              "      <td>0.5</td>\n",
              "      <td>{'max_depth': 2, 'max_samples': 0.5}</td>\n",
              "      <td>-0.701682</td>\n",
              "      <td>-0.750912</td>\n",
              "      <td>-0.782462</td>\n",
              "      <td>-0.739409</td>\n",
              "      <td>-0.750661</td>\n",
              "      <td>-0.745025</td>\n",
              "      <td>0.025993</td>\n",
              "      <td>8</td>\n",
              "    </tr>\n",
              "    <tr>\n",
              "      <th>2</th>\n",
              "      <td>0.420426</td>\n",
              "      <td>0.005920</td>\n",
              "      <td>0.007020</td>\n",
              "      <td>0.000161</td>\n",
              "      <td>2</td>\n",
              "      <td>1.0</td>\n",
              "      <td>{'max_depth': 2, 'max_samples': 1.0}</td>\n",
              "      <td>-0.707687</td>\n",
              "      <td>-0.757040</td>\n",
              "      <td>-0.792226</td>\n",
              "      <td>-0.750976</td>\n",
              "      <td>-0.757193</td>\n",
              "      <td>-0.753025</td>\n",
              "      <td>0.026944</td>\n",
              "      <td>9</td>\n",
              "    </tr>\n",
              "  </tbody>\n",
              "</table>\n",
              "</div>"
            ],
            "text/plain": [
              "   mean_fit_time  std_fit_time  mean_score_time  std_score_time  \\\n",
              "8       2.312246      0.059520         0.022289        0.000428   \n",
              "5       2.390031      0.160468         0.022957        0.001394   \n",
              "7       1.426188      0.070317         0.020861        0.001091   \n",
              "4       1.389991      0.010659         0.020232        0.000110   \n",
              "3       0.333002      0.003468         0.015757        0.000185   \n",
              "6       0.330319      0.005085         0.015729        0.000100   \n",
              "0       0.134982      0.012935         0.007437        0.000454   \n",
              "1       0.303190      0.016350         0.007343        0.000373   \n",
              "2       0.420426      0.005920         0.007020        0.000161   \n",
              "\n",
              "  param_max_depth param_max_samples                                  params  \\\n",
              "8             200               1.0  {'max_depth': 200, 'max_samples': 1.0}   \n",
              "5              20               1.0   {'max_depth': 20, 'max_samples': 1.0}   \n",
              "7             200               0.5  {'max_depth': 200, 'max_samples': 0.5}   \n",
              "4              20               0.5   {'max_depth': 20, 'max_samples': 0.5}   \n",
              "3              20               0.1   {'max_depth': 20, 'max_samples': 0.1}   \n",
              "6             200               0.1  {'max_depth': 200, 'max_samples': 0.1}   \n",
              "0               2               0.1    {'max_depth': 2, 'max_samples': 0.1}   \n",
              "1               2               0.5    {'max_depth': 2, 'max_samples': 0.5}   \n",
              "2               2               1.0    {'max_depth': 2, 'max_samples': 1.0}   \n",
              "\n",
              "   split0_test_score  split1_test_score  split2_test_score  split3_test_score  \\\n",
              "8          -0.462834          -0.539368          -0.523931          -0.504222   \n",
              "5          -0.464062          -0.540724          -0.525473          -0.507695   \n",
              "7          -0.494532          -0.551865          -0.568968          -0.524145   \n",
              "4          -0.496250          -0.553417          -0.566715          -0.523582   \n",
              "3          -0.567482          -0.636303          -0.654591          -0.599127   \n",
              "6          -0.567542          -0.636303          -0.654590          -0.599127   \n",
              "0          -0.680284          -0.742849          -0.769173          -0.720699   \n",
              "1          -0.701682          -0.750912          -0.782462          -0.739409   \n",
              "2          -0.707687          -0.757040          -0.792226          -0.750976   \n",
              "\n",
              "   split4_test_score  mean_test_score  std_test_score  rank_test_score  \n",
              "8          -0.545886        -0.515248        0.029882                1  \n",
              "5          -0.547271        -0.517045        0.029799                2  \n",
              "7          -0.575915        -0.543085        0.030136                3  \n",
              "4          -0.578264        -0.543646        0.029917                4  \n",
              "3          -0.641721        -0.619845        0.032024                5  \n",
              "6          -0.641822        -0.619877        0.032019                6  \n",
              "0          -0.741874        -0.730976        0.029645                7  \n",
              "1          -0.750661        -0.745025        0.025993                8  \n",
              "2          -0.757193        -0.753025        0.026944                9  "
            ]
          },
          "execution_count": 225,
          "metadata": {},
          "output_type": "execute_result"
        }
      ],
      "source": [
        "from sklearn.ensemble import RandomForestRegressor\n",
        "\n",
        "k = 5\n",
        "cv_folds = KFold(n_splits=k, shuffle=True)\n",
        "model2 = RandomForestRegressor(random_state=0)\n",
        "\n",
        "param_grid = {'max_depth': [2, 20, 200], \n",
        "              'max_samples': [0.1,0.5,1.0]\n",
        "             }\n",
        "\n",
        "hypereg = GridSearchCV(\n",
        "    model2, \n",
        "    param_grid, \n",
        "    scoring='neg_mean_squared_error',              \n",
        "    refit=True, \n",
        "    cv=cv_folds, \n",
        "    verbose=0, \n",
        ")\n",
        "\n",
        "\n",
        "hypereg.fit(A[0], A[1].ravel())\n",
        "pd.DataFrame(hypereg.cv_results_).sort_values('rank_test_score', ascending=True)"
      ]
    },
    {
      "cell_type": "code",
      "execution_count": 226,
      "metadata": {},
      "outputs": [
        {
          "data": {
            "text/plain": [
              "(RandomForestRegressor(max_depth=200, max_samples=1.0, random_state=0),\n",
              " {'max_depth': 200, 'max_samples': 1.0})"
            ]
          },
          "execution_count": 226,
          "metadata": {},
          "output_type": "execute_result"
        }
      ],
      "source": [
        "hypereg.best_estimator_, hypereg.best_params_"
      ]
    },
    {
      "cell_type": "code",
      "execution_count": 227,
      "metadata": {},
      "outputs": [
        {
          "data": {
            "text/html": [
              "<div>\n",
              "<style scoped>\n",
              "    .dataframe tbody tr th:only-of-type {\n",
              "        vertical-align: middle;\n",
              "    }\n",
              "\n",
              "    .dataframe tbody tr th {\n",
              "        vertical-align: top;\n",
              "    }\n",
              "\n",
              "    .dataframe thead th {\n",
              "        text-align: right;\n",
              "    }\n",
              "</style>\n",
              "<table border=\"1\" class=\"dataframe\">\n",
              "  <thead>\n",
              "    <tr style=\"text-align: right;\">\n",
              "      <th></th>\n",
              "      <th>mean_fit_time</th>\n",
              "      <th>std_fit_time</th>\n",
              "      <th>mean_score_time</th>\n",
              "      <th>std_score_time</th>\n",
              "      <th>param_max_depth</th>\n",
              "      <th>param_max_samples</th>\n",
              "      <th>params</th>\n",
              "      <th>split0_test_score</th>\n",
              "      <th>split1_test_score</th>\n",
              "      <th>split2_test_score</th>\n",
              "      <th>split3_test_score</th>\n",
              "      <th>split4_test_score</th>\n",
              "      <th>mean_test_score</th>\n",
              "      <th>std_test_score</th>\n",
              "      <th>rank_test_score</th>\n",
              "    </tr>\n",
              "  </thead>\n",
              "  <tbody>\n",
              "    <tr>\n",
              "      <th>8</th>\n",
              "      <td>1.848699</td>\n",
              "      <td>0.009378</td>\n",
              "      <td>0.022158</td>\n",
              "      <td>0.000101</td>\n",
              "      <td>200</td>\n",
              "      <td>1.0</td>\n",
              "      <td>{'max_depth': 200, 'max_samples': 1.0}</td>\n",
              "      <td>-0.533486</td>\n",
              "      <td>-0.477882</td>\n",
              "      <td>-0.533251</td>\n",
              "      <td>-0.535193</td>\n",
              "      <td>-0.501136</td>\n",
              "      <td>-0.516190</td>\n",
              "      <td>0.023002</td>\n",
              "      <td>1</td>\n",
              "    </tr>\n",
              "    <tr>\n",
              "      <th>5</th>\n",
              "      <td>1.836574</td>\n",
              "      <td>0.008933</td>\n",
              "      <td>0.021913</td>\n",
              "      <td>0.000186</td>\n",
              "      <td>20</td>\n",
              "      <td>1.0</td>\n",
              "      <td>{'max_depth': 20, 'max_samples': 1.0}</td>\n",
              "      <td>-0.534055</td>\n",
              "      <td>-0.482763</td>\n",
              "      <td>-0.532694</td>\n",
              "      <td>-0.535186</td>\n",
              "      <td>-0.505356</td>\n",
              "      <td>-0.518011</td>\n",
              "      <td>0.020835</td>\n",
              "      <td>2</td>\n",
              "    </tr>\n",
              "    <tr>\n",
              "      <th>7</th>\n",
              "      <td>1.127606</td>\n",
              "      <td>0.004039</td>\n",
              "      <td>0.020398</td>\n",
              "      <td>0.000102</td>\n",
              "      <td>200</td>\n",
              "      <td>0.5</td>\n",
              "      <td>{'max_depth': 200, 'max_samples': 0.5}</td>\n",
              "      <td>-0.551209</td>\n",
              "      <td>-0.517917</td>\n",
              "      <td>-0.549139</td>\n",
              "      <td>-0.554768</td>\n",
              "      <td>-0.525484</td>\n",
              "      <td>-0.539703</td>\n",
              "      <td>0.015001</td>\n",
              "      <td>3</td>\n",
              "    </tr>\n",
              "    <tr>\n",
              "      <th>4</th>\n",
              "      <td>1.121999</td>\n",
              "      <td>0.005181</td>\n",
              "      <td>0.020273</td>\n",
              "      <td>0.000100</td>\n",
              "      <td>20</td>\n",
              "      <td>0.5</td>\n",
              "      <td>{'max_depth': 20, 'max_samples': 0.5}</td>\n",
              "      <td>-0.550981</td>\n",
              "      <td>-0.517407</td>\n",
              "      <td>-0.550107</td>\n",
              "      <td>-0.554948</td>\n",
              "      <td>-0.527970</td>\n",
              "      <td>-0.540283</td>\n",
              "      <td>0.014839</td>\n",
              "      <td>4</td>\n",
              "    </tr>\n",
              "    <tr>\n",
              "      <th>6</th>\n",
              "      <td>0.278721</td>\n",
              "      <td>0.001702</td>\n",
              "      <td>0.015520</td>\n",
              "      <td>0.000172</td>\n",
              "      <td>200</td>\n",
              "      <td>0.1</td>\n",
              "      <td>{'max_depth': 200, 'max_samples': 0.1}</td>\n",
              "      <td>-0.614458</td>\n",
              "      <td>-0.617603</td>\n",
              "      <td>-0.626954</td>\n",
              "      <td>-0.635016</td>\n",
              "      <td>-0.619219</td>\n",
              "      <td>-0.622650</td>\n",
              "      <td>0.007427</td>\n",
              "      <td>5</td>\n",
              "    </tr>\n",
              "    <tr>\n",
              "      <th>3</th>\n",
              "      <td>0.278460</td>\n",
              "      <td>0.002100</td>\n",
              "      <td>0.015773</td>\n",
              "      <td>0.000201</td>\n",
              "      <td>20</td>\n",
              "      <td>0.1</td>\n",
              "      <td>{'max_depth': 20, 'max_samples': 0.1}</td>\n",
              "      <td>-0.614245</td>\n",
              "      <td>-0.617939</td>\n",
              "      <td>-0.627161</td>\n",
              "      <td>-0.635059</td>\n",
              "      <td>-0.619048</td>\n",
              "      <td>-0.622690</td>\n",
              "      <td>0.007485</td>\n",
              "      <td>6</td>\n",
              "    </tr>\n",
              "    <tr>\n",
              "      <th>0</th>\n",
              "      <td>0.121763</td>\n",
              "      <td>0.008327</td>\n",
              "      <td>0.007069</td>\n",
              "      <td>0.000102</td>\n",
              "      <td>2</td>\n",
              "      <td>0.1</td>\n",
              "      <td>{'max_depth': 2, 'max_samples': 0.1}</td>\n",
              "      <td>-0.703780</td>\n",
              "      <td>-0.730787</td>\n",
              "      <td>-0.721471</td>\n",
              "      <td>-0.757889</td>\n",
              "      <td>-0.733017</td>\n",
              "      <td>-0.729389</td>\n",
              "      <td>0.017584</td>\n",
              "      <td>7</td>\n",
              "    </tr>\n",
              "    <tr>\n",
              "      <th>1</th>\n",
              "      <td>0.257818</td>\n",
              "      <td>0.007233</td>\n",
              "      <td>0.007348</td>\n",
              "      <td>0.000614</td>\n",
              "      <td>2</td>\n",
              "      <td>0.5</td>\n",
              "      <td>{'max_depth': 2, 'max_samples': 0.5}</td>\n",
              "      <td>-0.714211</td>\n",
              "      <td>-0.742348</td>\n",
              "      <td>-0.734737</td>\n",
              "      <td>-0.764942</td>\n",
              "      <td>-0.751369</td>\n",
              "      <td>-0.741522</td>\n",
              "      <td>0.016959</td>\n",
              "      <td>8</td>\n",
              "    </tr>\n",
              "    <tr>\n",
              "      <th>2</th>\n",
              "      <td>0.351503</td>\n",
              "      <td>0.001056</td>\n",
              "      <td>0.006826</td>\n",
              "      <td>0.000098</td>\n",
              "      <td>2</td>\n",
              "      <td>1.0</td>\n",
              "      <td>{'max_depth': 2, 'max_samples': 1.0}</td>\n",
              "      <td>-0.721753</td>\n",
              "      <td>-0.750225</td>\n",
              "      <td>-0.742058</td>\n",
              "      <td>-0.770994</td>\n",
              "      <td>-0.762500</td>\n",
              "      <td>-0.749506</td>\n",
              "      <td>0.017069</td>\n",
              "      <td>9</td>\n",
              "    </tr>\n",
              "  </tbody>\n",
              "</table>\n",
              "</div>"
            ],
            "text/plain": [
              "   mean_fit_time  std_fit_time  mean_score_time  std_score_time  \\\n",
              "8       1.848699      0.009378         0.022158        0.000101   \n",
              "5       1.836574      0.008933         0.021913        0.000186   \n",
              "7       1.127606      0.004039         0.020398        0.000102   \n",
              "4       1.121999      0.005181         0.020273        0.000100   \n",
              "6       0.278721      0.001702         0.015520        0.000172   \n",
              "3       0.278460      0.002100         0.015773        0.000201   \n",
              "0       0.121763      0.008327         0.007069        0.000102   \n",
              "1       0.257818      0.007233         0.007348        0.000614   \n",
              "2       0.351503      0.001056         0.006826        0.000098   \n",
              "\n",
              "  param_max_depth param_max_samples                                  params  \\\n",
              "8             200               1.0  {'max_depth': 200, 'max_samples': 1.0}   \n",
              "5              20               1.0   {'max_depth': 20, 'max_samples': 1.0}   \n",
              "7             200               0.5  {'max_depth': 200, 'max_samples': 0.5}   \n",
              "4              20               0.5   {'max_depth': 20, 'max_samples': 0.5}   \n",
              "6             200               0.1  {'max_depth': 200, 'max_samples': 0.1}   \n",
              "3              20               0.1   {'max_depth': 20, 'max_samples': 0.1}   \n",
              "0               2               0.1    {'max_depth': 2, 'max_samples': 0.1}   \n",
              "1               2               0.5    {'max_depth': 2, 'max_samples': 0.5}   \n",
              "2               2               1.0    {'max_depth': 2, 'max_samples': 1.0}   \n",
              "\n",
              "   split0_test_score  split1_test_score  split2_test_score  split3_test_score  \\\n",
              "8          -0.533486          -0.477882          -0.533251          -0.535193   \n",
              "5          -0.534055          -0.482763          -0.532694          -0.535186   \n",
              "7          -0.551209          -0.517917          -0.549139          -0.554768   \n",
              "4          -0.550981          -0.517407          -0.550107          -0.554948   \n",
              "6          -0.614458          -0.617603          -0.626954          -0.635016   \n",
              "3          -0.614245          -0.617939          -0.627161          -0.635059   \n",
              "0          -0.703780          -0.730787          -0.721471          -0.757889   \n",
              "1          -0.714211          -0.742348          -0.734737          -0.764942   \n",
              "2          -0.721753          -0.750225          -0.742058          -0.770994   \n",
              "\n",
              "   split4_test_score  mean_test_score  std_test_score  rank_test_score  \n",
              "8          -0.501136        -0.516190        0.023002                1  \n",
              "5          -0.505356        -0.518011        0.020835                2  \n",
              "7          -0.525484        -0.539703        0.015001                3  \n",
              "4          -0.527970        -0.540283        0.014839                4  \n",
              "6          -0.619219        -0.622650        0.007427                5  \n",
              "3          -0.619048        -0.622690        0.007485                6  \n",
              "0          -0.733017        -0.729389        0.017584                7  \n",
              "1          -0.751369        -0.741522        0.016959                8  \n",
              "2          -0.762500        -0.749506        0.017069                9  "
            ]
          },
          "execution_count": 227,
          "metadata": {},
          "output_type": "execute_result"
        }
      ],
      "source": [
        "hypereg.fit(B[0], B[1].ravel())\n",
        "pd.DataFrame(hypereg.cv_results_).sort_values('rank_test_score', ascending=True)"
      ]
    },
    {
      "cell_type": "code",
      "execution_count": 228,
      "metadata": {},
      "outputs": [
        {
          "data": {
            "text/plain": [
              "(RandomForestRegressor(max_depth=200, max_samples=1.0, random_state=0),\n",
              " {'max_depth': 200, 'max_samples': 1.0})"
            ]
          },
          "execution_count": 228,
          "metadata": {},
          "output_type": "execute_result"
        }
      ],
      "source": [
        "hypereg.best_estimator_, hypereg.best_params_"
      ]
    },
    {
      "cell_type": "code",
      "execution_count": 229,
      "metadata": {},
      "outputs": [
        {
          "name": "stdout",
          "output_type": "stream",
          "text": [
            "0.5118592329608233\n"
          ]
        }
      ],
      "source": [
        "model2_best = RandomForestRegressor(random_state=0, max_depth=200 , max_samples= 1.0)\n",
        "model2_best.fit(A[0], A[1].ravel())\n",
        "\n",
        "y_pred = y_scaler.inverse_transform(np.array(model2_best.predict(A[2])).reshape(-1, 1))\n",
        "print(mean_squared_error(y_test, y_pred))"
      ]
    },
    {
      "attachments": {},
      "cell_type": "markdown",
      "metadata": {
        "id": "W4fwVniNjgPM"
      },
      "source": [
        "### 1.2.3 Bagging Regressor\n",
        "\n",
        "Entrene un Bagging regresor utilizando como estimador (parámetro $estimator$) el mejor árbol de decisión obtenido en la pregunta 1.2.1, variando los siguientes parámetros utilizando el módulo gridsearchcv de la librería sklearn:\n",
        "\n",
        "* n_estimators: Probar con 10, 100, 1000 estimadores. Describa brevemente qué es lo que significa modificar este hiperparámetro.\n",
        "\n",
        "* max_samples: Probar con las siguientes proporciones 0.1, 0.5, 1.0. Describa brevemente qué es lo que significa modificar este hiperparámetro.\n",
        "\n",
        "Responda las siguientes preguntas\n",
        "\n",
        "> a) ¿Cómo funciona el modelo Bagging?\n",
        "\n",
        "> b) A qué familia de métodos pertenece el Bagging regresor: $averaging$ o $boosting$.\n",
        "\n",
        "> c) De todas las combinaciones que entrenó, ¿cual es la que mejores resultados le da? Para esta pregunta evalue el modelo con el conjunto de validación utilizando la métrica de evaluación $mean\\_squared\\_error$."
      ]
    },
    {
      "cell_type": "code",
      "execution_count": 232,
      "metadata": {},
      "outputs": [],
      "source": [
        "from sklearn.ensemble import BaggingRegressor\n",
        "\n",
        "model3 = BaggingRegressor(estimator = DecisionTreeRegressor(max_depth= 20, max_leaf_nodes= 50))\n",
        "\n",
        "k = 5\n",
        "cv_folds = KFold(n_splits=k, shuffle=True)\n",
        "\n",
        "param_grid = {'n_estimators': [10,100,1000], \n",
        "              'max_samples': [0.1,0.5,1.0]\n",
        "             }\n",
        "\n",
        "hypereg = GridSearchCV(\n",
        "    model3, \n",
        "    param_grid, \n",
        "    scoring='neg_mean_squared_error',              \n",
        "    refit=True, \n",
        "    cv=cv_folds, \n",
        "    verbose=0, \n",
        ")"
      ]
    },
    {
      "cell_type": "code",
      "execution_count": 233,
      "metadata": {},
      "outputs": [
        {
          "name": "stdout",
          "output_type": "stream",
          "text": [
            "###########################\n",
            "Resultados para A:\n"
          ]
        },
        {
          "data": {
            "text/html": [
              "<div>\n",
              "<style scoped>\n",
              "    .dataframe tbody tr th:only-of-type {\n",
              "        vertical-align: middle;\n",
              "    }\n",
              "\n",
              "    .dataframe tbody tr th {\n",
              "        vertical-align: top;\n",
              "    }\n",
              "\n",
              "    .dataframe thead th {\n",
              "        text-align: right;\n",
              "    }\n",
              "</style>\n",
              "<table border=\"1\" class=\"dataframe\">\n",
              "  <thead>\n",
              "    <tr style=\"text-align: right;\">\n",
              "      <th></th>\n",
              "      <th>mean_fit_time</th>\n",
              "      <th>std_fit_time</th>\n",
              "      <th>mean_score_time</th>\n",
              "      <th>std_score_time</th>\n",
              "      <th>param_max_samples</th>\n",
              "      <th>param_n_estimators</th>\n",
              "      <th>params</th>\n",
              "      <th>split0_test_score</th>\n",
              "      <th>split1_test_score</th>\n",
              "      <th>split2_test_score</th>\n",
              "      <th>split3_test_score</th>\n",
              "      <th>split4_test_score</th>\n",
              "      <th>mean_test_score</th>\n",
              "      <th>std_test_score</th>\n",
              "      <th>rank_test_score</th>\n",
              "    </tr>\n",
              "  </thead>\n",
              "  <tbody>\n",
              "    <tr>\n",
              "      <th>5</th>\n",
              "      <td>8.721618</td>\n",
              "      <td>0.237445</td>\n",
              "      <td>0.129016</td>\n",
              "      <td>0.002000</td>\n",
              "      <td>0.5</td>\n",
              "      <td>1000</td>\n",
              "      <td>{'max_samples': 0.5, 'n_estimators': 1000}</td>\n",
              "      <td>-0.615996</td>\n",
              "      <td>-0.622490</td>\n",
              "      <td>-0.619539</td>\n",
              "      <td>-0.627009</td>\n",
              "      <td>-0.616083</td>\n",
              "      <td>-0.620223</td>\n",
              "      <td>0.004163</td>\n",
              "      <td>1</td>\n",
              "    </tr>\n",
              "    <tr>\n",
              "      <th>8</th>\n",
              "      <td>12.599317</td>\n",
              "      <td>0.077772</td>\n",
              "      <td>0.129265</td>\n",
              "      <td>0.002104</td>\n",
              "      <td>1.0</td>\n",
              "      <td>1000</td>\n",
              "      <td>{'max_samples': 1.0, 'n_estimators': 1000}</td>\n",
              "      <td>-0.614838</td>\n",
              "      <td>-0.625676</td>\n",
              "      <td>-0.620636</td>\n",
              "      <td>-0.625648</td>\n",
              "      <td>-0.619436</td>\n",
              "      <td>-0.621247</td>\n",
              "      <td>0.004092</td>\n",
              "      <td>2</td>\n",
              "    </tr>\n",
              "    <tr>\n",
              "      <th>4</th>\n",
              "      <td>0.907300</td>\n",
              "      <td>0.047933</td>\n",
              "      <td>0.015166</td>\n",
              "      <td>0.002448</td>\n",
              "      <td>0.5</td>\n",
              "      <td>100</td>\n",
              "      <td>{'max_samples': 0.5, 'n_estimators': 100}</td>\n",
              "      <td>-0.614277</td>\n",
              "      <td>-0.627666</td>\n",
              "      <td>-0.619145</td>\n",
              "      <td>-0.630000</td>\n",
              "      <td>-0.622822</td>\n",
              "      <td>-0.622782</td>\n",
              "      <td>0.005684</td>\n",
              "      <td>3</td>\n",
              "    </tr>\n",
              "    <tr>\n",
              "      <th>7</th>\n",
              "      <td>1.281247</td>\n",
              "      <td>0.046075</td>\n",
              "      <td>0.014127</td>\n",
              "      <td>0.000377</td>\n",
              "      <td>1.0</td>\n",
              "      <td>100</td>\n",
              "      <td>{'max_samples': 1.0, 'n_estimators': 100}</td>\n",
              "      <td>-0.615778</td>\n",
              "      <td>-0.627712</td>\n",
              "      <td>-0.622575</td>\n",
              "      <td>-0.629843</td>\n",
              "      <td>-0.621010</td>\n",
              "      <td>-0.623384</td>\n",
              "      <td>0.004992</td>\n",
              "      <td>4</td>\n",
              "    </tr>\n",
              "    <tr>\n",
              "      <th>2</th>\n",
              "      <td>3.159720</td>\n",
              "      <td>0.169438</td>\n",
              "      <td>0.133334</td>\n",
              "      <td>0.002464</td>\n",
              "      <td>0.1</td>\n",
              "      <td>1000</td>\n",
              "      <td>{'max_samples': 0.1, 'n_estimators': 1000}</td>\n",
              "      <td>-0.626795</td>\n",
              "      <td>-0.638477</td>\n",
              "      <td>-0.627638</td>\n",
              "      <td>-0.637635</td>\n",
              "      <td>-0.615219</td>\n",
              "      <td>-0.629153</td>\n",
              "      <td>0.008496</td>\n",
              "      <td>5</td>\n",
              "    </tr>\n",
              "    <tr>\n",
              "      <th>6</th>\n",
              "      <td>0.126029</td>\n",
              "      <td>0.001520</td>\n",
              "      <td>0.002304</td>\n",
              "      <td>0.000070</td>\n",
              "      <td>1.0</td>\n",
              "      <td>10</td>\n",
              "      <td>{'max_samples': 1.0, 'n_estimators': 10}</td>\n",
              "      <td>-0.632381</td>\n",
              "      <td>-0.640095</td>\n",
              "      <td>-0.624605</td>\n",
              "      <td>-0.630963</td>\n",
              "      <td>-0.636146</td>\n",
              "      <td>-0.632838</td>\n",
              "      <td>0.005198</td>\n",
              "      <td>6</td>\n",
              "    </tr>\n",
              "    <tr>\n",
              "      <th>1</th>\n",
              "      <td>0.310141</td>\n",
              "      <td>0.003927</td>\n",
              "      <td>0.014533</td>\n",
              "      <td>0.000342</td>\n",
              "      <td>0.1</td>\n",
              "      <td>100</td>\n",
              "      <td>{'max_samples': 0.1, 'n_estimators': 100}</td>\n",
              "      <td>-0.626294</td>\n",
              "      <td>-0.638178</td>\n",
              "      <td>-0.633553</td>\n",
              "      <td>-0.645233</td>\n",
              "      <td>-0.623420</td>\n",
              "      <td>-0.633336</td>\n",
              "      <td>0.007911</td>\n",
              "      <td>7</td>\n",
              "    </tr>\n",
              "    <tr>\n",
              "      <th>3</th>\n",
              "      <td>0.088538</td>\n",
              "      <td>0.001536</td>\n",
              "      <td>0.002397</td>\n",
              "      <td>0.000048</td>\n",
              "      <td>0.5</td>\n",
              "      <td>10</td>\n",
              "      <td>{'max_samples': 0.5, 'n_estimators': 10}</td>\n",
              "      <td>-0.628837</td>\n",
              "      <td>-0.638401</td>\n",
              "      <td>-0.631251</td>\n",
              "      <td>-0.653885</td>\n",
              "      <td>-0.626356</td>\n",
              "      <td>-0.635746</td>\n",
              "      <td>0.009921</td>\n",
              "      <td>8</td>\n",
              "    </tr>\n",
              "    <tr>\n",
              "      <th>0</th>\n",
              "      <td>0.034641</td>\n",
              "      <td>0.002026</td>\n",
              "      <td>0.002907</td>\n",
              "      <td>0.000750</td>\n",
              "      <td>0.1</td>\n",
              "      <td>10</td>\n",
              "      <td>{'max_samples': 0.1, 'n_estimators': 10}</td>\n",
              "      <td>-0.684214</td>\n",
              "      <td>-0.689777</td>\n",
              "      <td>-0.698350</td>\n",
              "      <td>-0.709305</td>\n",
              "      <td>-0.649724</td>\n",
              "      <td>-0.686274</td>\n",
              "      <td>0.020143</td>\n",
              "      <td>9</td>\n",
              "    </tr>\n",
              "  </tbody>\n",
              "</table>\n",
              "</div>"
            ],
            "text/plain": [
              "   mean_fit_time  std_fit_time  mean_score_time  std_score_time  \\\n",
              "5       8.721618      0.237445         0.129016        0.002000   \n",
              "8      12.599317      0.077772         0.129265        0.002104   \n",
              "4       0.907300      0.047933         0.015166        0.002448   \n",
              "7       1.281247      0.046075         0.014127        0.000377   \n",
              "2       3.159720      0.169438         0.133334        0.002464   \n",
              "6       0.126029      0.001520         0.002304        0.000070   \n",
              "1       0.310141      0.003927         0.014533        0.000342   \n",
              "3       0.088538      0.001536         0.002397        0.000048   \n",
              "0       0.034641      0.002026         0.002907        0.000750   \n",
              "\n",
              "  param_max_samples param_n_estimators  \\\n",
              "5               0.5               1000   \n",
              "8               1.0               1000   \n",
              "4               0.5                100   \n",
              "7               1.0                100   \n",
              "2               0.1               1000   \n",
              "6               1.0                 10   \n",
              "1               0.1                100   \n",
              "3               0.5                 10   \n",
              "0               0.1                 10   \n",
              "\n",
              "                                       params  split0_test_score  \\\n",
              "5  {'max_samples': 0.5, 'n_estimators': 1000}          -0.615996   \n",
              "8  {'max_samples': 1.0, 'n_estimators': 1000}          -0.614838   \n",
              "4   {'max_samples': 0.5, 'n_estimators': 100}          -0.614277   \n",
              "7   {'max_samples': 1.0, 'n_estimators': 100}          -0.615778   \n",
              "2  {'max_samples': 0.1, 'n_estimators': 1000}          -0.626795   \n",
              "6    {'max_samples': 1.0, 'n_estimators': 10}          -0.632381   \n",
              "1   {'max_samples': 0.1, 'n_estimators': 100}          -0.626294   \n",
              "3    {'max_samples': 0.5, 'n_estimators': 10}          -0.628837   \n",
              "0    {'max_samples': 0.1, 'n_estimators': 10}          -0.684214   \n",
              "\n",
              "   split1_test_score  split2_test_score  split3_test_score  split4_test_score  \\\n",
              "5          -0.622490          -0.619539          -0.627009          -0.616083   \n",
              "8          -0.625676          -0.620636          -0.625648          -0.619436   \n",
              "4          -0.627666          -0.619145          -0.630000          -0.622822   \n",
              "7          -0.627712          -0.622575          -0.629843          -0.621010   \n",
              "2          -0.638477          -0.627638          -0.637635          -0.615219   \n",
              "6          -0.640095          -0.624605          -0.630963          -0.636146   \n",
              "1          -0.638178          -0.633553          -0.645233          -0.623420   \n",
              "3          -0.638401          -0.631251          -0.653885          -0.626356   \n",
              "0          -0.689777          -0.698350          -0.709305          -0.649724   \n",
              "\n",
              "   mean_test_score  std_test_score  rank_test_score  \n",
              "5        -0.620223        0.004163                1  \n",
              "8        -0.621247        0.004092                2  \n",
              "4        -0.622782        0.005684                3  \n",
              "7        -0.623384        0.004992                4  \n",
              "2        -0.629153        0.008496                5  \n",
              "6        -0.632838        0.005198                6  \n",
              "1        -0.633336        0.007911                7  \n",
              "3        -0.635746        0.009921                8  \n",
              "0        -0.686274        0.020143                9  "
            ]
          },
          "execution_count": 233,
          "metadata": {},
          "output_type": "execute_result"
        }
      ],
      "source": [
        "print('###########################')\n",
        "print('Resultados para A:')\n",
        "hypereg.fit(A[0], A[1].ravel())\n",
        "pd.DataFrame(hypereg.cv_results_).sort_values('rank_test_score', ascending=True)"
      ]
    },
    {
      "cell_type": "code",
      "execution_count": 234,
      "metadata": {},
      "outputs": [
        {
          "name": "stdout",
          "output_type": "stream",
          "text": [
            "BaggingRegressor(estimator=DecisionTreeRegressor(max_depth=20,\n",
            "                                                 max_leaf_nodes=50),\n",
            "                 max_samples=0.5, n_estimators=1000) {'max_samples': 0.5, 'n_estimators': 1000}\n"
          ]
        }
      ],
      "source": [
        "print(hypereg.best_estimator_, hypereg.best_params_)"
      ]
    },
    {
      "cell_type": "code",
      "execution_count": 235,
      "metadata": {},
      "outputs": [
        {
          "name": "stdout",
          "output_type": "stream",
          "text": [
            "###########################\n",
            "Resultados para B:\n"
          ]
        },
        {
          "data": {
            "text/html": [
              "<div>\n",
              "<style scoped>\n",
              "    .dataframe tbody tr th:only-of-type {\n",
              "        vertical-align: middle;\n",
              "    }\n",
              "\n",
              "    .dataframe tbody tr th {\n",
              "        vertical-align: top;\n",
              "    }\n",
              "\n",
              "    .dataframe thead th {\n",
              "        text-align: right;\n",
              "    }\n",
              "</style>\n",
              "<table border=\"1\" class=\"dataframe\">\n",
              "  <thead>\n",
              "    <tr style=\"text-align: right;\">\n",
              "      <th></th>\n",
              "      <th>mean_fit_time</th>\n",
              "      <th>std_fit_time</th>\n",
              "      <th>mean_score_time</th>\n",
              "      <th>std_score_time</th>\n",
              "      <th>param_max_samples</th>\n",
              "      <th>param_n_estimators</th>\n",
              "      <th>params</th>\n",
              "      <th>split0_test_score</th>\n",
              "      <th>split1_test_score</th>\n",
              "      <th>split2_test_score</th>\n",
              "      <th>split3_test_score</th>\n",
              "      <th>split4_test_score</th>\n",
              "      <th>mean_test_score</th>\n",
              "      <th>std_test_score</th>\n",
              "      <th>rank_test_score</th>\n",
              "    </tr>\n",
              "  </thead>\n",
              "  <tbody>\n",
              "    <tr>\n",
              "      <th>5</th>\n",
              "      <td>7.121638</td>\n",
              "      <td>0.047954</td>\n",
              "      <td>0.125955</td>\n",
              "      <td>0.001230</td>\n",
              "      <td>0.5</td>\n",
              "      <td>1000</td>\n",
              "      <td>{'max_samples': 0.5, 'n_estimators': 1000}</td>\n",
              "      <td>-0.618130</td>\n",
              "      <td>-0.636773</td>\n",
              "      <td>-0.628303</td>\n",
              "      <td>-0.611489</td>\n",
              "      <td>-0.634120</td>\n",
              "      <td>-0.625763</td>\n",
              "      <td>0.009587</td>\n",
              "      <td>1</td>\n",
              "    </tr>\n",
              "    <tr>\n",
              "      <th>8</th>\n",
              "      <td>10.570777</td>\n",
              "      <td>0.336696</td>\n",
              "      <td>0.126889</td>\n",
              "      <td>0.002473</td>\n",
              "      <td>1.0</td>\n",
              "      <td>1000</td>\n",
              "      <td>{'max_samples': 1.0, 'n_estimators': 1000}</td>\n",
              "      <td>-0.619226</td>\n",
              "      <td>-0.635179</td>\n",
              "      <td>-0.633503</td>\n",
              "      <td>-0.610715</td>\n",
              "      <td>-0.636038</td>\n",
              "      <td>-0.626932</td>\n",
              "      <td>0.010163</td>\n",
              "      <td>2</td>\n",
              "    </tr>\n",
              "    <tr>\n",
              "      <th>4</th>\n",
              "      <td>0.713007</td>\n",
              "      <td>0.005560</td>\n",
              "      <td>0.013466</td>\n",
              "      <td>0.000162</td>\n",
              "      <td>0.5</td>\n",
              "      <td>100</td>\n",
              "      <td>{'max_samples': 0.5, 'n_estimators': 100}</td>\n",
              "      <td>-0.620657</td>\n",
              "      <td>-0.633163</td>\n",
              "      <td>-0.631111</td>\n",
              "      <td>-0.615512</td>\n",
              "      <td>-0.638677</td>\n",
              "      <td>-0.627824</td>\n",
              "      <td>0.008486</td>\n",
              "      <td>3</td>\n",
              "    </tr>\n",
              "    <tr>\n",
              "      <th>7</th>\n",
              "      <td>1.045694</td>\n",
              "      <td>0.008867</td>\n",
              "      <td>0.013553</td>\n",
              "      <td>0.000256</td>\n",
              "      <td>1.0</td>\n",
              "      <td>100</td>\n",
              "      <td>{'max_samples': 1.0, 'n_estimators': 100}</td>\n",
              "      <td>-0.620075</td>\n",
              "      <td>-0.635779</td>\n",
              "      <td>-0.636967</td>\n",
              "      <td>-0.618279</td>\n",
              "      <td>-0.636537</td>\n",
              "      <td>-0.629527</td>\n",
              "      <td>0.008479</td>\n",
              "      <td>4</td>\n",
              "    </tr>\n",
              "    <tr>\n",
              "      <th>2</th>\n",
              "      <td>2.603486</td>\n",
              "      <td>0.010456</td>\n",
              "      <td>0.130738</td>\n",
              "      <td>0.001389</td>\n",
              "      <td>0.1</td>\n",
              "      <td>1000</td>\n",
              "      <td>{'max_samples': 0.1, 'n_estimators': 1000}</td>\n",
              "      <td>-0.629416</td>\n",
              "      <td>-0.643682</td>\n",
              "      <td>-0.627452</td>\n",
              "      <td>-0.617422</td>\n",
              "      <td>-0.639319</td>\n",
              "      <td>-0.631458</td>\n",
              "      <td>0.009257</td>\n",
              "      <td>5</td>\n",
              "    </tr>\n",
              "    <tr>\n",
              "      <th>3</th>\n",
              "      <td>0.072412</td>\n",
              "      <td>0.001194</td>\n",
              "      <td>0.002187</td>\n",
              "      <td>0.000056</td>\n",
              "      <td>0.5</td>\n",
              "      <td>10</td>\n",
              "      <td>{'max_samples': 0.5, 'n_estimators': 10}</td>\n",
              "      <td>-0.638388</td>\n",
              "      <td>-0.645700</td>\n",
              "      <td>-0.646358</td>\n",
              "      <td>-0.621134</td>\n",
              "      <td>-0.636661</td>\n",
              "      <td>-0.637648</td>\n",
              "      <td>0.009110</td>\n",
              "      <td>6</td>\n",
              "    </tr>\n",
              "    <tr>\n",
              "      <th>1</th>\n",
              "      <td>0.262408</td>\n",
              "      <td>0.001569</td>\n",
              "      <td>0.013672</td>\n",
              "      <td>0.000268</td>\n",
              "      <td>0.1</td>\n",
              "      <td>100</td>\n",
              "      <td>{'max_samples': 0.1, 'n_estimators': 100}</td>\n",
              "      <td>-0.639797</td>\n",
              "      <td>-0.656615</td>\n",
              "      <td>-0.635385</td>\n",
              "      <td>-0.626011</td>\n",
              "      <td>-0.643239</td>\n",
              "      <td>-0.640209</td>\n",
              "      <td>0.010034</td>\n",
              "      <td>7</td>\n",
              "    </tr>\n",
              "    <tr>\n",
              "      <th>6</th>\n",
              "      <td>0.105964</td>\n",
              "      <td>0.001310</td>\n",
              "      <td>0.002295</td>\n",
              "      <td>0.000071</td>\n",
              "      <td>1.0</td>\n",
              "      <td>10</td>\n",
              "      <td>{'max_samples': 1.0, 'n_estimators': 10}</td>\n",
              "      <td>-0.633759</td>\n",
              "      <td>-0.654482</td>\n",
              "      <td>-0.640704</td>\n",
              "      <td>-0.618238</td>\n",
              "      <td>-0.655681</td>\n",
              "      <td>-0.640573</td>\n",
              "      <td>0.013907</td>\n",
              "      <td>8</td>\n",
              "    </tr>\n",
              "    <tr>\n",
              "      <th>0</th>\n",
              "      <td>0.028285</td>\n",
              "      <td>0.001327</td>\n",
              "      <td>0.002283</td>\n",
              "      <td>0.000098</td>\n",
              "      <td>0.1</td>\n",
              "      <td>10</td>\n",
              "      <td>{'max_samples': 0.1, 'n_estimators': 10}</td>\n",
              "      <td>-0.689936</td>\n",
              "      <td>-0.702724</td>\n",
              "      <td>-0.684649</td>\n",
              "      <td>-0.688255</td>\n",
              "      <td>-0.666948</td>\n",
              "      <td>-0.686502</td>\n",
              "      <td>0.011522</td>\n",
              "      <td>9</td>\n",
              "    </tr>\n",
              "  </tbody>\n",
              "</table>\n",
              "</div>"
            ],
            "text/plain": [
              "   mean_fit_time  std_fit_time  mean_score_time  std_score_time  \\\n",
              "5       7.121638      0.047954         0.125955        0.001230   \n",
              "8      10.570777      0.336696         0.126889        0.002473   \n",
              "4       0.713007      0.005560         0.013466        0.000162   \n",
              "7       1.045694      0.008867         0.013553        0.000256   \n",
              "2       2.603486      0.010456         0.130738        0.001389   \n",
              "3       0.072412      0.001194         0.002187        0.000056   \n",
              "1       0.262408      0.001569         0.013672        0.000268   \n",
              "6       0.105964      0.001310         0.002295        0.000071   \n",
              "0       0.028285      0.001327         0.002283        0.000098   \n",
              "\n",
              "  param_max_samples param_n_estimators  \\\n",
              "5               0.5               1000   \n",
              "8               1.0               1000   \n",
              "4               0.5                100   \n",
              "7               1.0                100   \n",
              "2               0.1               1000   \n",
              "3               0.5                 10   \n",
              "1               0.1                100   \n",
              "6               1.0                 10   \n",
              "0               0.1                 10   \n",
              "\n",
              "                                       params  split0_test_score  \\\n",
              "5  {'max_samples': 0.5, 'n_estimators': 1000}          -0.618130   \n",
              "8  {'max_samples': 1.0, 'n_estimators': 1000}          -0.619226   \n",
              "4   {'max_samples': 0.5, 'n_estimators': 100}          -0.620657   \n",
              "7   {'max_samples': 1.0, 'n_estimators': 100}          -0.620075   \n",
              "2  {'max_samples': 0.1, 'n_estimators': 1000}          -0.629416   \n",
              "3    {'max_samples': 0.5, 'n_estimators': 10}          -0.638388   \n",
              "1   {'max_samples': 0.1, 'n_estimators': 100}          -0.639797   \n",
              "6    {'max_samples': 1.0, 'n_estimators': 10}          -0.633759   \n",
              "0    {'max_samples': 0.1, 'n_estimators': 10}          -0.689936   \n",
              "\n",
              "   split1_test_score  split2_test_score  split3_test_score  split4_test_score  \\\n",
              "5          -0.636773          -0.628303          -0.611489          -0.634120   \n",
              "8          -0.635179          -0.633503          -0.610715          -0.636038   \n",
              "4          -0.633163          -0.631111          -0.615512          -0.638677   \n",
              "7          -0.635779          -0.636967          -0.618279          -0.636537   \n",
              "2          -0.643682          -0.627452          -0.617422          -0.639319   \n",
              "3          -0.645700          -0.646358          -0.621134          -0.636661   \n",
              "1          -0.656615          -0.635385          -0.626011          -0.643239   \n",
              "6          -0.654482          -0.640704          -0.618238          -0.655681   \n",
              "0          -0.702724          -0.684649          -0.688255          -0.666948   \n",
              "\n",
              "   mean_test_score  std_test_score  rank_test_score  \n",
              "5        -0.625763        0.009587                1  \n",
              "8        -0.626932        0.010163                2  \n",
              "4        -0.627824        0.008486                3  \n",
              "7        -0.629527        0.008479                4  \n",
              "2        -0.631458        0.009257                5  \n",
              "3        -0.637648        0.009110                6  \n",
              "1        -0.640209        0.010034                7  \n",
              "6        -0.640573        0.013907                8  \n",
              "0        -0.686502        0.011522                9  "
            ]
          },
          "execution_count": 235,
          "metadata": {},
          "output_type": "execute_result"
        }
      ],
      "source": [
        "print('###########################')\n",
        "print('Resultados para B:')\n",
        "hypereg.fit(B[0], B[1].ravel())\n",
        "pd.DataFrame(hypereg.cv_results_).sort_values('rank_test_score', ascending=True)"
      ]
    },
    {
      "cell_type": "code",
      "execution_count": 236,
      "metadata": {},
      "outputs": [
        {
          "name": "stdout",
          "output_type": "stream",
          "text": [
            "BaggingRegressor(estimator=DecisionTreeRegressor(max_depth=20,\n",
            "                                                 max_leaf_nodes=50),\n",
            "                 max_samples=0.5, n_estimators=1000) {'max_samples': 0.5, 'n_estimators': 1000}\n"
          ]
        }
      ],
      "source": [
        "print(hypereg.best_estimator_, hypereg.best_params_)"
      ]
    },
    {
      "cell_type": "code",
      "execution_count": 238,
      "metadata": {},
      "outputs": [
        {
          "name": "stdout",
          "output_type": "stream",
          "text": [
            "0.6332715540446888\n"
          ]
        }
      ],
      "source": [
        "model3_best = BaggingRegressor(estimator = DecisionTreeRegressor(max_depth= 20, max_leaf_nodes= 50),\n",
        "                         n_estimators = 1000, max_samples = 0.5)\n",
        "\n",
        "model3_best.fit(A[0], A[1].ravel())\n",
        "\n",
        "y_pred = y_scaler.inverse_transform(np.array(model3_best.predict(A[2])).reshape(-1, 1))\n",
        "print(mean_squared_error(y_test, y_pred))"
      ]
    },
    {
      "attachments": {},
      "cell_type": "markdown",
      "metadata": {
        "id": "pay3G53ZkkdA"
      },
      "source": [
        "## 1.3 Conclusiones\n",
        "\n",
        "Comente con qué modelo y representación obtiene los mejores resultados, ¿qué otros experimentos realizaría para intentar mejorar los resultados?"
      ]
    },
    {
      "attachments": {},
      "cell_type": "markdown",
      "metadata": {
        "id": "A3M0LqssgFsS"
      },
      "source": [
        "# 2. Reconocimiento de actividad humana mediante sensores de movimiento.\n",
        "\n",
        "Los conjuntos de datos provienen del UCI Machine Learning Repository. En este conjuntos de datos cada persona realizó seis actividades (CWALKING, WALKING_UPSTAIRS, WALKING_DOWNSTAIRS, SITTING, STANDING, LAYING) llevando un smartphone en la cintura. Utilizando su acelerómetro y giroscopio integrados, capturamos la aceleración lineal de 3 ejes y la velocidad angular de 3 ejes a una frecuencia constante de 50 Hz. El conjunto de datos obtenido se ha dividido aleatoriamente en dos conjuntos, de los que se seleccionó el 70% de los voluntarios para generar los datos de entrenamiento y el 30% los datos de prueba.\n",
        "\n",
        "<center><img src=\"https://imgtr.ee/images/2023/06/04/bSx54.jpg\" alt=\"bSx54.jpg\" border=\"0\" width=\"480\" height=\"480\" /></center>\n",
        "\n",
        "Para esta pregunta nos centraremos en la tarea de clasificación de actividades (variable objetivo) según los datos de movimiento proporcionados por los sensores (atributos).\n",
        "\n",
        "Para cada registro en el conjunto de datos nos centraremos en:\n",
        "* Aceleración triaxial del acelerómetro (aceleración total) y la aceleración estimada del cuerpo.\n",
        "* Velocidad angular triaxial del giroscopio.\n",
        "\n",
        "* Su etiqueta de actividad.\n",
        "\n",
        "Para obtener el dataset, artículos publicados y más información, por favor dirigirse al siguiente [link](https://archive.ics.uci.edu/ml/datasets/human+activity+recognition+using+smartphones).\n",
        "\n"
      ]
    },
    {
      "attachments": {},
      "cell_type": "markdown",
      "metadata": {
        "id": "PbQApV_ds6rV"
      },
      "source": [
        "## 2.1 Obtención, manipulación y exploración del conjunto de datos\n",
        "\n",
        "Con el link proporcionado arriba, haga click en Data Folders y luego en *UCI HAR Dataset.names* para obtener una guía acerca de la estructura de los directorios. Descargue, descomprima los datos y explore la estructura de los directorios (*UCI HAR Dataset.zip*).\n",
        "\n",
        "Para esta oportunidad solo nos centraremos en los dato que se encuentran en las carpetas *Inertial Signals*, para entrenamiento y pruebas."
      ]
    },
    {
      "attachments": {},
      "cell_type": "markdown",
      "metadata": {
        "id": "-0Bg_ZMkvpvy"
      },
      "source": [
        "### 2.1.1 Exploración del conjunto de datos\n",
        "\n",
        "Una vez comprendida la estructura de los directorios, asegurese de poder navegar por los archivos correctamente:\n",
        "\n",
        "> a) El código a continuación debe imprimir las rutas a todos los archivos del conjunto de datos que usted acaba de descargar. Ejemplo: /su ruta/UCI HAR Dataset/train/Inertial Signals/body_acc_z_train.txt"
      ]
    },
    {
      "cell_type": "code",
      "execution_count": 3,
      "metadata": {
        "id": "qK-hkRBJEiEP"
      },
      "outputs": [
        {
          "name": "stdout",
          "output_type": "stream",
          "text": [
            "human+activity+recognition+using+smartphones/UCI HAR Dataset/train/Inertial Signals/body_gyro_z_train.txt\n",
            "human+activity+recognition+using+smartphones/UCI HAR Dataset/train/Inertial Signals/body_acc_y_train.txt\n",
            "human+activity+recognition+using+smartphones/UCI HAR Dataset/train/Inertial Signals/total_acc_z_train.txt\n",
            "human+activity+recognition+using+smartphones/UCI HAR Dataset/train/Inertial Signals/body_acc_x_train.txt\n",
            "human+activity+recognition+using+smartphones/UCI HAR Dataset/train/Inertial Signals/body_gyro_x_train.txt\n",
            "human+activity+recognition+using+smartphones/UCI HAR Dataset/train/Inertial Signals/total_acc_y_train.txt\n",
            "human+activity+recognition+using+smartphones/UCI HAR Dataset/train/Inertial Signals/body_gyro_y_train.txt\n",
            "human+activity+recognition+using+smartphones/UCI HAR Dataset/train/Inertial Signals/total_acc_x_train.txt\n",
            "human+activity+recognition+using+smartphones/UCI HAR Dataset/train/Inertial Signals/body_acc_z_train.txt\n"
          ]
        }
      ],
      "source": [
        "import os\n",
        "\n",
        "for dirname, _, filenames in os.walk('human+activity+recognition+using+smartphones/UCI HAR Dataset/train/Inertial Signals'):\n",
        "    for filename in filenames:\n",
        "        print(os.path.join(dirname, filename))"
      ]
    },
    {
      "cell_type": "code",
      "execution_count": 4,
      "metadata": {
        "id": "eREpRAkMIh06"
      },
      "outputs": [],
      "source": [
        "LABELS = ['WALKING', 'WALKING_UPSTAIRS', 'WALKING_DOWNSTAIRS', 'SITTING', 'STANDING', 'LAYING']\n",
        "SIGNALS = [\"body_acc_x_\", \"body_acc_y_\", \"body_acc_z_\",\n",
        "           \"body_gyro_x_\", \"body_gyro_y_\", \"body_gyro_z_\",\n",
        "           \"total_acc_x_\", \"total_acc_y_\", \"total_acc_z_\"]"
      ]
    },
    {
      "attachments": {},
      "cell_type": "markdown",
      "metadata": {
        "id": "gV3t_zAMyTIZ"
      },
      "source": [
        "> b) Obtenga la ruta exacta de los archivos e insertelos en una lista (entrenamiento y prueba ). El código a continuación es solo una sugerencia, usted puede optimizar y modificarlo."
      ]
    },
    {
      "cell_type": "code",
      "execution_count": 13,
      "metadata": {
        "id": "seHdXXlTIlB_"
      },
      "outputs": [],
      "source": [
        "train_paths = ['human+activity+recognition+using+smartphones/UCI HAR Dataset/train/Inertial Signals/' + signal + 'train.txt' for signal in SIGNALS]\n",
        "test_paths = ['human+activity+recognition+using+smartphones/UCI HAR Dataset/test/Inertial Signals/' + signal + 'test.txt' for signal in SIGNALS]"
      ]
    },
    {
      "attachments": {},
      "cell_type": "markdown",
      "metadata": {
        "id": "D-XeCXTPy_0I"
      },
      "source": [
        "> c) Cree una función __load_X que reciba una lista de rutas como alguna de las anteriormente creadas, y retorne un arreglo de numpy con las siguientes dimensiones (n_samples, signal_len, sensor) donde:\n",
        "* n_samples: es el tamaño de la muestra, o sea, el total de experimentos.\n",
        "* signal_len: es el largo de la señal de los sensores.\n",
        "* sensor: es el sensor o el eje del sensor el cual registra la señal, por ejemplo acelerómetro en el eje $y$.\n"
      ]
    },
    {
      "cell_type": "code",
      "execution_count": 36,
      "metadata": {
        "id": "WJ_edXrhI4QF"
      },
      "outputs": [],
      "source": [
        "def __load_X(X_signal_paths):\n",
        "    X_signals = []    \n",
        "    for route in X_signal_paths:\n",
        "        X_signals.append( np.loadtxt(route).T )\n",
        "\n",
        "    return np.array(X_signals).T"
      ]
    },
    {
      "cell_type": "code",
      "execution_count": 72,
      "metadata": {
        "id": "rW8ZWBcmI9YX"
      },
      "outputs": [],
      "source": [
        "x_train = __load_X(train_paths)\n",
        "x_test = __load_X(test_paths)"
      ]
    },
    {
      "attachments": {},
      "cell_type": "markdown",
      "metadata": {
        "id": "uw_PBgBN1I6J"
      },
      "source": [
        "> d) Cargue las clases del conjunto de entrenamiento y pruebas en arreglos numpy."
      ]
    },
    {
      "cell_type": "code",
      "execution_count": 73,
      "metadata": {
        "id": "Gb0t2nELJEC7"
      },
      "outputs": [],
      "source": [
        "y_train = np.loadtxt('human+activity+recognition+using+smartphones/UCI HAR Dataset/train/y_train.txt',  dtype=np.int32)\n",
        "y_test = np.loadtxt('human+activity+recognition+using+smartphones/UCI HAR Dataset/test/y_test.txt', dtype=np.int32)"
      ]
    },
    {
      "attachments": {},
      "cell_type": "markdown",
      "metadata": {
        "id": "pc1PFOmo2OUx"
      },
      "source": [
        "### 2.1.2 Análisis del conjunto de datos\n",
        "\n",
        "Responda las siguientes preguntas:\n",
        "\n",
        "> a) ¿Cuántos experimentos le quedan en el conjunto de entrenamiento y en el de test?\n",
        "\n",
        "En el dataset de entrenamiento quedan 7352 experimentos, mientras que en el de test quedan 2947.\n",
        "\n",
        "> b) ¿Qué valores obtiene para las dimensiones recién definidas (n_samples, signal_len, sensor)?\n",
        "\n",
        "En el conjunto de entrenamiento tenemos $(7352, 128, 9)$ y en el de test $(2947, 128, 9)$\n",
        "\n",
        "> c) Considerando todo lo que usted ha aprendido en este curso y en las tareas anteriores, ¿Qué puede decir de los atributos de este conjunto de datos?. Obtenga estadísticas descriptivas y sintetice brevemente con sus propias palabras lo que observe, apoyándose de gráficos como histográmas, boxplots heatmaps de correlación, etc.\n",
        "\n",
        "> d) Si quisiera entrenar una red neuronal feedforward con este conjunto de datos, ¿cómo deben representarse las dimensiones de cada experimento (sample) para que sirvan de entrada para este tipo de red?\n",
        "\n",
        "Cada sample tiene que ser unidimensional, es decir, tiene que ser un arreglo de caracteristicas, concentrandonos en esta tarea, en vez de ser $(128, 9)$, tiene que ser $(n,1)$.\n",
        "\n",
        "> e) Modifique las dimensiones de los atributos para luego entrenar una red neuronal feedforward."
      ]
    },
    {
      "attachments": {},
      "cell_type": "markdown",
      "metadata": {},
      "source": [
        "#### Matriz inicial"
      ]
    },
    {
      "cell_type": "code",
      "execution_count": 74,
      "metadata": {},
      "outputs": [
        {
          "name": "stdout",
          "output_type": "stream",
          "text": [
            "Dimension conjunto entrenamiento:  (7352, 128, 9)\n",
            "Dimension conjunto test:  (2947, 128, 9)\n"
          ]
        }
      ],
      "source": [
        "print(\"Dimension conjunto entrenamiento: \", x_train.shape)\n",
        "print(\"Dimension conjunto test: \", x_test.shape)"
      ]
    },
    {
      "attachments": {},
      "cell_type": "markdown",
      "metadata": {},
      "source": [
        "#### Graficos descriptivos"
      ]
    },
    {
      "cell_type": "code",
      "execution_count": 75,
      "metadata": {
        "id": "OvTNRfU-KDxO"
      },
      "outputs": [],
      "source": [
        "x_train = x_train.reshape((x_train.shape[0], x_train.shape[1] * x_train.shape[2]))\n",
        "x_test = x_test.reshape((x_test.shape[0], x_test.shape[1] * x_test.shape[2]))"
      ]
    },
    {
      "attachments": {},
      "cell_type": "markdown",
      "metadata": {
        "id": "NnHLIZLCGJ7z"
      },
      "source": [
        "> f) ¿Cómo quedó cada atributo ahora que modificó sus dimensiones?\n",
        "\n",
        "En el conjunto de entrenamiento tenemos una dimension $(7352, 1152)$ y en el de test $(2947, 1152)$"
      ]
    },
    {
      "cell_type": "code",
      "execution_count": 76,
      "metadata": {},
      "outputs": [
        {
          "name": "stdout",
          "output_type": "stream",
          "text": [
            "Dimension conjunto entrenamiento:  (7352, 1152)\n",
            "Dimension conjunto test:  (2947, 1152)\n"
          ]
        }
      ],
      "source": [
        "print(\"Dimension conjunto entrenamiento: \", x_train.shape)\n",
        "print(\"Dimension conjunto test: \", x_test.shape)"
      ]
    },
    {
      "attachments": {},
      "cell_type": "markdown",
      "metadata": {
        "id": "t24ihaodFuSk"
      },
      "source": [
        "### 2.1.3 Procesamiento del conjunto de datos\n",
        "\n",
        "> a)Transforme las clases a One Hot Encoder"
      ]
    },
    {
      "cell_type": "code",
      "execution_count": 77,
      "metadata": {
        "colab": {
          "base_uri": "https://localhost:8080/"
        },
        "id": "OA9KM95lNAmk",
        "outputId": "791a741f-910b-49a4-c377-6d74c4383595"
      },
      "outputs": [
        {
          "name": "stdout",
          "output_type": "stream",
          "text": [
            "Original Labels:\n",
            "(7352,)\n",
            "\n",
            "One-Hot Encoded Labels:\n",
            "(7352, 6)\n"
          ]
        }
      ],
      "source": [
        "from sklearn.preprocessing import OneHotEncoder\n",
        "\n",
        "onehot_encoder = OneHotEncoder(sparse_output=False)\n",
        "\n",
        "y_train_OHE = onehot_encoder.fit_transform(y_train.reshape(len(y_train), 1))\n",
        "y_test_OHE = onehot_encoder.transform(y_test.reshape(len(y_test), 1))\n",
        "\n",
        "# Print the original labels and the one-hot encoded labels\n",
        "print(\"Original Labels:\")\n",
        "print(y_train.shape)\n",
        "print(\"\\nOne-Hot Encoded Labels:\")\n",
        "print(y_train_OHE.shape)"
      ]
    },
    {
      "cell_type": "code",
      "execution_count": 78,
      "metadata": {
        "id": "cPN-BmgKSNS1"
      },
      "outputs": [
        {
          "data": {
            "text/plain": [
              "'SITTING'"
            ]
          },
          "execution_count": 78,
          "metadata": {},
          "output_type": "execute_result"
        }
      ],
      "source": [
        "LABELS[np.argmax(y_train_OHE[400])]"
      ]
    },
    {
      "attachments": {},
      "cell_type": "markdown",
      "metadata": {
        "id": "DLA0RcqYfveg"
      },
      "source": [
        "> b) ¿Estan bien balanceadas las clases?\n",
        "\n",
        "Se observa una leve diferencia, pero se puede decir que estan balanceadas"
      ]
    },
    {
      "cell_type": "code",
      "execution_count": 81,
      "metadata": {},
      "outputs": [
        {
          "data": {
            "text/plain": [
              "array([[0., 0., 0., 0., 1., 0.],\n",
              "       [0., 0., 0., 0., 1., 0.],\n",
              "       [0., 0., 0., 0., 1., 0.],\n",
              "       [0., 0., 0., 0., 1., 0.],\n",
              "       [0., 0., 0., 0., 1., 0.]])"
            ]
          },
          "execution_count": 81,
          "metadata": {},
          "output_type": "execute_result"
        }
      ],
      "source": [
        "y_train_OHE[:5]"
      ]
    },
    {
      "cell_type": "code",
      "execution_count": 79,
      "metadata": {},
      "outputs": [
        {
          "data": {
            "image/png": "[encoded data removed]",
            "text/plain": [
              "<Figure size 1800x600 with 1 Axes>"
            ]
          },
          "metadata": {},
          "output_type": "display_data"
        }
      ],
      "source": [
        "aux_y = y_train_OHE.T\n",
        "fig, ax = plt.subplots(1, 1, figsize=(18,6),)\n",
        "ax.bar(range(6), [np.sum(aux_y[i]) for i in range(6) ])\n",
        "fig.tight_layout()\n",
        "plt.show()"
      ]
    },
    {
      "attachments": {},
      "cell_type": "markdown",
      "metadata": {
        "id": "X9B4CW50G25Y"
      },
      "source": [
        "> c) Estandarice los atributos con media 0 y variaza 1."
      ]
    },
    {
      "cell_type": "code",
      "execution_count": 80,
      "metadata": {
        "id": "OSxBl1AlSlsL"
      },
      "outputs": [],
      "source": [
        "from sklearn.preprocessing import StandardScaler\n",
        "\n",
        "# Create a StandardScaler object\n",
        "scaler = StandardScaler()\n",
        "\n",
        "# Fit the scaler on the training data\n",
        "scaler.fit(x_train)\n",
        "\n",
        "# Apply the scaler to transform the training data\n",
        "x_train = scaler.transform(x_train)\n",
        "x_test = scaler.transform(x_test)\n"
      ]
    },
    {
      "attachments": {},
      "cell_type": "markdown",
      "metadata": {
        "id": "71HaVDffHEFs"
      },
      "source": [
        "## 2.2 Modelos de clasificación"
      ]
    },
    {
      "attachments": {},
      "cell_type": "markdown",
      "metadata": {
        "id": "oAPZSuZvHbq-"
      },
      "source": [
        "### 2.2.1 Redes Neuronales\n",
        "\n",
        "> a) ¿Cómo se entrena una red neuronal feedforward?\n",
        "\n",
        "Las redes neuronales se entrenan ajuntando los pesos que conectan a cada una de las neuronas entre capas. Mientras la red extrae caracteristicas del conjunto de entrenamiento, esta va actualizando los pesos de las conexiones, de esta forma va a ajustandose a las caracteristicas del conjunto. \n",
        "\n",
        "> b) ¿Qué es una neurona en este contexto?\n",
        "\n",
        "\n",
        "\n",
        "> c) ¿Qué es una función de activación y para que sirven?\n",
        "\n",
        "Es un tipo de funcion que determina el output de una neurona dado un conjunto de valores. \n",
        "\n",
        "\n",
        "> d) ¿A qué se le llama capa densa?\n",
        "\n",
        "> e) Si usted conoce la dimensión entrada, la de salida, la cantidad de capas y neuronas de cada capa, ¿cómo se calcula la cantidad de pesos de la red?\n",
        "\n",
        "> f) ¿A qué se refiere el fenómeno de gradiente desvaneciente?, ¿y el gradiente explosivo?\n",
        "\n",
        "> g) Para esta tarea, como debería ser la capa de salida de la red considerando que previemente aplicó una transformación One Hot Encoding a las clases del conjunto?\n",
        "\n",
        "> h) Considere que la capa de entrada se llama \"input_layer\",  a la capa de salida le llamaremos \"output_layer\" y a las capas intermedias \"hidden_layer(_units_, _activation_)\" donde los parametros significan el numero de neuronas que tiene esa capa densa (Dense en Keras) y su activación. Cree las siguientes redes neuronales:\n",
        "\n",
        "* input_layer -> output_layer\n",
        "\n",
        "* input_layer -> hidden_layer(32, tanh) -> output_layer\n",
        "\n",
        "* input_layer -> hidden_layer(32, sigmoid) -> output_layer\n",
        "\n",
        "* input_layer -> hidden_layer(32, relu) -> output_layer\n",
        "\n",
        "> i) Una vez creado el modelo, imprima el sumario (modelo.summary()) y compare los resultados obtenidos con su razonamiento explicado en la pregunta e)."
      ]
    },
    {
      "cell_type": "code",
      "execution_count": 90,
      "metadata": {},
      "outputs": [],
      "source": [
        "import tensorflow as tf\n",
        "from keras.models import Model\n",
        "from keras.layers import Dense, Input, Dropout, Flatten\n",
        "\n",
        "input_layer = Input(shape = (x_train.shape[1:]))\n",
        "output_layer = Dense(units=6, activation=\"softmax\")(input_layer)\n",
        "ANN = Model(inputs = input_layer , outputs = output_layer)"
      ]
    },
    {
      "cell_type": "code",
      "execution_count": 91,
      "metadata": {},
      "outputs": [
        {
          "name": "stdout",
          "output_type": "stream",
          "text": [
            "Model: \"model_5\"\n",
            "_________________________________________________________________\n",
            " Layer (type)                Output Shape              Param #   \n",
            "=================================================================\n",
            " input_6 (InputLayer)        [(None, 1152)]            0         \n",
            "                                                                 \n",
            " dense_18 (Dense)            (None, 6)                 6918      \n",
            "                                                                 \n",
            "=================================================================\n",
            "Total params: 6918 (27.02 KB)\n",
            "Trainable params: 6918 (27.02 KB)\n",
            "Non-trainable params: 0 (0.00 Byte)\n",
            "_________________________________________________________________\n"
          ]
        }
      ],
      "source": [
        "ANN.summary()"
      ]
    },
    {
      "cell_type": "code",
      "execution_count": 84,
      "metadata": {
        "id": "3khbB8B9KRbf"
      },
      "outputs": [],
      "source": [
        "input_layer = Input(shape = (x_train.shape[1:]))\n",
        "layer_1 = Dense(units=32, activation=\"tanh\")(input_layer)\n",
        "output_layer = Dense(units=6, activation=\"softmax\")(layer_1)\n",
        "ANN_1 = Model(inputs = input_layer , outputs = output_layer)"
      ]
    },
    {
      "cell_type": "code",
      "execution_count": 85,
      "metadata": {
        "id": "PXjL3NxKU0Qd"
      },
      "outputs": [
        {
          "name": "stdout",
          "output_type": "stream",
          "text": [
            "Model: \"model_2\"\n",
            "_________________________________________________________________\n",
            " Layer (type)                Output Shape              Param #   \n",
            "=================================================================\n",
            " input_3 (InputLayer)        [(None, 1152)]            0         \n",
            "                                                                 \n",
            " dense_12 (Dense)            (None, 32)                36896     \n",
            "                                                                 \n",
            " dense_13 (Dense)            (None, 6)                 198       \n",
            "                                                                 \n",
            "=================================================================\n",
            "Total params: 37094 (144.90 KB)\n",
            "Trainable params: 37094 (144.90 KB)\n",
            "Non-trainable params: 0 (0.00 Byte)\n",
            "_________________________________________________________________\n"
          ]
        }
      ],
      "source": [
        "ANN_1.summary()"
      ]
    },
    {
      "cell_type": "code",
      "execution_count": 86,
      "metadata": {},
      "outputs": [],
      "source": [
        "input_layer = Input(shape = (x_train.shape[1:]))\n",
        "layer_1 = Dense(units=32, activation=\"sigmoid\")(input_layer)\n",
        "output_layer = Dense(units=6, activation=\"softmax\")(layer_1)\n",
        "ANN_2 = Model(inputs = input_layer , outputs = output_layer)"
      ]
    },
    {
      "cell_type": "code",
      "execution_count": 87,
      "metadata": {},
      "outputs": [
        {
          "name": "stdout",
          "output_type": "stream",
          "text": [
            "Model: \"model_3\"\n",
            "_________________________________________________________________\n",
            " Layer (type)                Output Shape              Param #   \n",
            "=================================================================\n",
            " input_4 (InputLayer)        [(None, 1152)]            0         \n",
            "                                                                 \n",
            " dense_14 (Dense)            (None, 32)                36896     \n",
            "                                                                 \n",
            " dense_15 (Dense)            (None, 6)                 198       \n",
            "                                                                 \n",
            "=================================================================\n",
            "Total params: 37094 (144.90 KB)\n",
            "Trainable params: 37094 (144.90 KB)\n",
            "Non-trainable params: 0 (0.00 Byte)\n",
            "_________________________________________________________________\n"
          ]
        }
      ],
      "source": [
        "ANN_2.summary()"
      ]
    },
    {
      "cell_type": "code",
      "execution_count": 88,
      "metadata": {},
      "outputs": [],
      "source": [
        "input_layer = Input(shape = (x_train.shape[1:]))\n",
        "layer_1 = Dense(units=32, activation=\"relu\")(input_layer)\n",
        "output_layer = Dense(units=6, activation=\"softmax\")(layer_1)\n",
        "ANN_3 = Model(inputs = input_layer , outputs = output_layer)"
      ]
    },
    {
      "cell_type": "code",
      "execution_count": 89,
      "metadata": {},
      "outputs": [
        {
          "name": "stdout",
          "output_type": "stream",
          "text": [
            "Model: \"model_4\"\n",
            "_________________________________________________________________\n",
            " Layer (type)                Output Shape              Param #   \n",
            "=================================================================\n",
            " input_5 (InputLayer)        [(None, 1152)]            0         \n",
            "                                                                 \n",
            " dense_16 (Dense)            (None, 32)                36896     \n",
            "                                                                 \n",
            " dense_17 (Dense)            (None, 6)                 198       \n",
            "                                                                 \n",
            "=================================================================\n",
            "Total params: 37094 (144.90 KB)\n",
            "Trainable params: 37094 (144.90 KB)\n",
            "Non-trainable params: 0 (0.00 Byte)\n",
            "_________________________________________________________________\n"
          ]
        }
      ],
      "source": [
        "ANN_3.summary()"
      ]
    },
    {
      "attachments": {},
      "cell_type": "markdown",
      "metadata": {
        "id": "65makHJ-R-Ri"
      },
      "source": [
        " > j) Defina un callback de Early Stopping para evitar un sobre ajuste de la red basandose en sus respuestas a las siguientes preguntas:\n",
        "\n",
        "* ¿Qué es lo que se debería monitorear para evitar el sobre ajuste en esta red?\n",
        "\n",
        "Se tiene que monitorear las funciones de perdida, en concreto la del conjunto de validacion, ya que se busca que no ocurra un sobreajuste en el conjunto de entrenamiento que de una mala prediccion en el conjunto de validacion.\n",
        "\n",
        "* ¿Qué es la paciencia en este contexto?\n",
        "\n",
        "Es el numero de epocas que se pueden permitir cuando no se encuentran mejoras, es decir, cuando se encuentra en un punto sin mejoras de la variable monitoreada, se permiten ejecutar $n$ epocas más. \n",
        "\n",
        "* ¿Para qué se usa el parámetro min_delta?\n",
        "\n",
        "Es el parametro que indica que es considerado como una mejora y que no. En otras palabras, corresponde al valor minimo que se puede obtener de la diferencia entre epocas de la variable monitoreada para ser considerado como una mejora.\n",
        "\n",
        "> k) Compile el modelo usando como optimizador el gradiente descendente estocástico, utilice la métrica \"categorical_accuracy\" y responda lo siguiente:\n",
        "\n",
        "* ¿Qúe función de pérdida se debe usar para este problema (loss)?\n",
        "\n",
        "Como aca nos importa la correcta clasificacion, lo mas logico seria utilizar ''categorical_crossentropy''.\n",
        "\n",
        "**Nota:** Si bien en un mundo ideal donde hay tiempo y recursos para explorar un subconjunto del espacio de hipótesis lo suficientemente amplio como para cubrir todas las posibles combinaciones de hiperparámetros, en esta tarea solo se explorarán algunos."
      ]
    },
    {
      "cell_type": "code",
      "execution_count": 136,
      "metadata": {
        "id": "H1X90GcGdUhG"
      },
      "outputs": [],
      "source": [
        "from keras.callbacks import ModelCheckpoint, EarlyStopping\n",
        "\n",
        "early_stop = EarlyStopping(monitor='val_loss',mode='max', verbose=1, patience=20)"
      ]
    },
    {
      "attachments": {},
      "cell_type": "markdown",
      "metadata": {
        "id": "QFnrOI-TZNpY"
      },
      "source": [
        "> l) Entrene el modelo utilizando el callback definido en la pregunta anterior con 100 epochs,un batch_size=256, y validation split=0.1.\n",
        "\n",
        "* ¿Qué significa el batch_size?\n",
        "\n",
        "**Nota:** Por favor recuerde ocultar el output del entrenamiento!! Mantenga el orden de su tarea y justifique de forma óptima sus resultados."
      ]
    },
    {
      "cell_type": "code",
      "execution_count": 137,
      "metadata": {
        "id": "48b7cFteeqFM"
      },
      "outputs": [
        {
          "name": "stdout",
          "output_type": "stream",
          "text": [
            "Epoch 27: early stopping\n"
          ]
        }
      ],
      "source": [
        "ANN.compile(optimizer='sgd', loss='categorical_crossentropy',metrics=['categorical_accuracy'])\n",
        "history0 = ANN.fit(x_train, y_train_OHE, \n",
        "                  batch_size=64*4, \n",
        "                  epochs=100,\n",
        "                  validation_split=0.1,\n",
        "                  callbacks=[early_stop], verbose=0)"
      ]
    },
    {
      "cell_type": "code",
      "execution_count": 138,
      "metadata": {},
      "outputs": [
        {
          "name": "stdout",
          "output_type": "stream",
          "text": [
            "Epoch 21: early stopping\n"
          ]
        }
      ],
      "source": [
        "ANN_1.compile(optimizer='sgd', loss='categorical_crossentropy',metrics=['categorical_accuracy'])\n",
        "history_1 = ANN_1.fit(x_train, y_train_OHE, \n",
        "                  batch_size=64*4, \n",
        "                  epochs=100,\n",
        "                  validation_split=0.1,\n",
        "                  callbacks=[early_stop], verbose=0)"
      ]
    },
    {
      "cell_type": "code",
      "execution_count": 139,
      "metadata": {},
      "outputs": [
        {
          "name": "stdout",
          "output_type": "stream",
          "text": [
            "Epoch 21: early stopping\n"
          ]
        }
      ],
      "source": [
        "ANN_2.compile(optimizer='sgd', loss='categorical_crossentropy',metrics=['categorical_accuracy'])\n",
        "history_2 = ANN_2.fit(x_train, y_train_OHE, \n",
        "                  batch_size=64*4, \n",
        "                  epochs=100,\n",
        "                  validation_split=0.1,\n",
        "                  callbacks=[early_stop], verbose=0)"
      ]
    },
    {
      "cell_type": "code",
      "execution_count": 140,
      "metadata": {},
      "outputs": [
        {
          "name": "stdout",
          "output_type": "stream",
          "text": [
            "Epoch 21: early stopping\n"
          ]
        }
      ],
      "source": [
        "ANN_3.compile(optimizer='sgd', loss='categorical_crossentropy',metrics=['categorical_accuracy'])\n",
        "history_3 = ANN_3.fit(x_train, y_train_OHE, \n",
        "                  batch_size=64*4, \n",
        "                  epochs=100,\n",
        "                  validation_split=0.1,\n",
        "                  callbacks=[early_stop], verbose=0)"
      ]
    },
    {
      "cell_type": "code",
      "execution_count": 141,
      "metadata": {},
      "outputs": [
        {
          "data": {
            "image/png": "[encoded data removed]",
            "text/plain": [
              "<Figure size 1500x300 with 4 Axes>"
            ]
          },
          "metadata": {},
          "output_type": "display_data"
        }
      ],
      "source": [
        "fig, ax = plt.subplots(1, 4, figsize=(15,3),)\n",
        "aux = [history0, history_1, history_2, history_3]\n",
        "\n",
        "for i in range(len(aux)):\n",
        "    ax[i].plot(aux[i].history['loss'])\n",
        "    ax[i].plot(aux[i].history['val_loss'])\n",
        "    ax[i].legend(['Entrenamiento', 'Validacion'], loc='upper right')\n",
        "    ax[i].set_ylim(0.0, 2)\n",
        "    ax[i].set_xlabel('epoch')\n",
        "    ax[i].set_title(\"Modelo \"+str(i+1))\n",
        "plt.show()"
      ]
    },
    {
      "attachments": {},
      "cell_type": "markdown",
      "metadata": {
        "id": "wqse2x-GazGT"
      },
      "source": [
        "> m) Escoja el mejor modelo según la función de activación y puntuación obtenida en el conjunto de validación y pruebe con los siguientes modelos:\n",
        "\n",
        "* input_layer -> hidden_layer(64, best_activ) -> hidden_layer(32, best_activ) -> output_layer\n",
        "\n",
        "* input_layer -> hidden_layer(128, best_activ) -> hidden_layer(64, best_activ) -> hidden_layer(32, best_activ) -> output_layer\n",
        "\n",
        "* input_layer -> hidden_layer(256, best_activ) -> hidden_layer(128, best_activ) -> hidden_layer(64, best_activ) -> hidden_layer(32, best_activ) -> output_layer\n",
        "\n",
        "\n",
        "En base al grafico anterior, se puede observar que el mejor rendimiento lo entrega la funcion de activacion ''relu''."
      ]
    },
    {
      "cell_type": "code",
      "execution_count": 142,
      "metadata": {
        "id": "buwW4LGtb5gC"
      },
      "outputs": [],
      "source": [
        "input_layer = Input(shape = (x_train.shape[1:]))\n",
        "layer_1 = Dense(units=64, activation=\"relu\")(input_layer)\n",
        "layer_2 = Dense(units=32, activation=\"relu\")(layer_1)\n",
        "output_layer = Dense(units=6, activation=\"softmax\")(layer_2)\n",
        "ANN_4 = Model(inputs = input_layer , outputs = output_layer)\n",
        "\n",
        "input_layer = Input(shape = (x_train.shape[1:]))\n",
        "layer_1 = Dense(units=128, activation=\"relu\")(input_layer)\n",
        "layer_2 = Dense(units=64, activation=\"relu\")(layer_1)\n",
        "layer_3 = Dense(units=32, activation=\"relu\")(layer_2)\n",
        "output_layer = Dense(units=6, activation=\"softmax\")(layer_3)\n",
        "ANN_5 = Model(inputs = input_layer , outputs = output_layer)\n",
        "\n",
        "input_layer = Input(shape = (x_train.shape[1:]))\n",
        "layer_1 = Dense(units=256, activation=\"relu\")(input_layer)\n",
        "layer_2 = Dense(units=128, activation=\"relu\")(layer_1)\n",
        "layer_3 = Dense(units=64, activation=\"relu\")(layer_2)\n",
        "layer_4 = Dense(units=32, activation=\"relu\")(layer_3)\n",
        "output_layer = Dense(units=6, activation=\"softmax\")(layer_4)\n",
        "ANN_6 = Model(inputs = input_layer , outputs = output_layer)"
      ]
    },
    {
      "cell_type": "code",
      "execution_count": 143,
      "metadata": {},
      "outputs": [
        {
          "name": "stdout",
          "output_type": "stream",
          "text": [
            "Epoch 21: early stopping\n"
          ]
        }
      ],
      "source": [
        "ANN_4.compile(optimizer='sgd', loss='categorical_crossentropy',metrics=['categorical_accuracy'])\n",
        "history_4 = ANN_4.fit(x_train, y_train_OHE, \n",
        "                  batch_size=64*4, \n",
        "                  epochs=100,\n",
        "                  validation_split=0.1,\n",
        "                  callbacks=[early_stop], verbose=0)"
      ]
    },
    {
      "cell_type": "code",
      "execution_count": 144,
      "metadata": {},
      "outputs": [
        {
          "name": "stdout",
          "output_type": "stream",
          "text": [
            "Epoch 21: early stopping\n"
          ]
        }
      ],
      "source": [
        "ANN_5.compile(optimizer='sgd', loss='categorical_crossentropy',metrics=['categorical_accuracy'])\n",
        "history_5 = ANN_5.fit(x_train, y_train_OHE, \n",
        "                  batch_size=64*4, \n",
        "                  epochs=100,\n",
        "                  validation_split=0.1,\n",
        "                  callbacks=[early_stop], verbose=0)"
      ]
    },
    {
      "cell_type": "code",
      "execution_count": 145,
      "metadata": {},
      "outputs": [
        {
          "name": "stdout",
          "output_type": "stream",
          "text": [
            "Epoch 21: early stopping\n"
          ]
        }
      ],
      "source": [
        "ANN_6.compile(optimizer='sgd', loss='categorical_crossentropy',metrics=['categorical_accuracy'])\n",
        "history_6 = ANN_6.fit(x_train, y_train_OHE, \n",
        "                  batch_size=64*4, \n",
        "                  epochs=100,\n",
        "                  validation_split=0.1,\n",
        "                  callbacks=[early_stop], verbose=0)"
      ]
    },
    {
      "attachments": {},
      "cell_type": "markdown",
      "metadata": {
        "id": "WyFCM8N7b82n"
      },
      "source": [
        ">n) Imprima las curvas de error y accuracy del conjunto de entrenamiento y de validación para observar como se comporta el _aprendizaje_ de sus modelos."
      ]
    },
    {
      "cell_type": "code",
      "execution_count": 146,
      "metadata": {},
      "outputs": [
        {
          "data": {
            "image/png": "[encoded data removed]",
            "text/plain": [
              "<Figure size 1500x300 with 3 Axes>"
            ]
          },
          "metadata": {},
          "output_type": "display_data"
        }
      ],
      "source": [
        "fig, ax = plt.subplots(1, 3, figsize=(15,3),)\n",
        "aux = [history_4, history_5, history_6]\n",
        "\n",
        "for i in range(len(aux)):\n",
        "    ax[i].plot(aux[i].history['loss'])\n",
        "    ax[i].plot(aux[i].history['val_loss'])\n",
        "    ax[i].legend(['Entrenamiento', 'Validacion'], loc='upper right')\n",
        "    ax[i].set_ylim(0.0, 2)\n",
        "    ax[i].set_xlabel('epoch')\n",
        "    ax[i].set_title(\"Modelo \"+str(i+1))\n",
        "plt.show()"
      ]
    },
    {
      "cell_type": "code",
      "execution_count": null,
      "metadata": {
        "id": "h6xS3p9Rg_jM"
      },
      "outputs": [],
      "source": [
        "import matplotlib.pyplot as plt\n",
        "\n",
        "# Access the training and validation errors from the history object\n",
        "train_errors = history.history['accuracy']\n",
        "val_errors = history.history['val_accuracy']\n",
        "\n",
        "# Get the number of epochs\n",
        "epochs = range(1, len(train_errors) + 1)\n",
        "\n",
        "# Plotting the learning curves\n",
        "plt.plot(epochs, train_errors, label='Training Accuracy')\n",
        "plt.plot(epochs, val_errors, label='Validation Accuracy')\n",
        "\n",
        "# Adding labels and title\n",
        "plt.xlabel('Epochs')\n",
        "plt.ylabel('Accuracy')\n",
        "plt.title('Learning Curves')\n",
        "plt.legend()\n",
        "\n",
        "# Displaying the plot\n",
        "plt.show()"
      ]
    },
    {
      "attachments": {},
      "cell_type": "markdown",
      "metadata": {
        "id": "_OGcBz2jcT3k"
      },
      "source": [
        "> o) Una vez terminados los entrenamientos elija la mejor red hasta ahora y entrénela con el conjunto de entrenamiento completo sin validation split."
      ]
    },
    {
      "cell_type": "code",
      "execution_count": 149,
      "metadata": {
        "id": "dq9q5Bn_cxG6"
      },
      "outputs": [
        {
          "name": "stdout",
          "output_type": "stream",
          "text": [
            "Epoch 1/100\n",
            "29/29 [==============================] - 0s 3ms/step - loss: 1.5754 - categorical_accuracy: 0.4415\n",
            "Epoch 2/100\n",
            "29/29 [==============================] - 0s 3ms/step - loss: 1.1453 - categorical_accuracy: 0.6200\n",
            "Epoch 3/100\n",
            "29/29 [==============================] - 0s 3ms/step - loss: 0.9650 - categorical_accuracy: 0.6882\n",
            "Epoch 4/100\n",
            "29/29 [==============================] - 0s 3ms/step - loss: 0.8420 - categorical_accuracy: 0.7357\n",
            "Epoch 5/100\n",
            "29/29 [==============================] - 0s 3ms/step - loss: 0.7479 - categorical_accuracy: 0.7666\n",
            "Epoch 6/100\n",
            "29/29 [==============================] - 0s 2ms/step - loss: 0.6705 - categorical_accuracy: 0.7939\n",
            "Epoch 7/100\n",
            "29/29 [==============================] - 0s 3ms/step - loss: 0.6059 - categorical_accuracy: 0.8156\n",
            "Epoch 8/100\n",
            "29/29 [==============================] - 0s 3ms/step - loss: 0.5510 - categorical_accuracy: 0.8365\n",
            "Epoch 9/100\n",
            "29/29 [==============================] - 0s 2ms/step - loss: 0.5041 - categorical_accuracy: 0.8519\n",
            "Epoch 10/100\n",
            "29/29 [==============================] - 0s 2ms/step - loss: 0.4641 - categorical_accuracy: 0.8637\n",
            "Epoch 11/100\n",
            "29/29 [==============================] - 0s 2ms/step - loss: 0.4299 - categorical_accuracy: 0.8723\n",
            "Epoch 12/100\n",
            "29/29 [==============================] - 0s 2ms/step - loss: 0.3995 - categorical_accuracy: 0.8800\n",
            "Epoch 13/100\n",
            "29/29 [==============================] - 0s 2ms/step - loss: 0.3736 - categorical_accuracy: 0.8879\n",
            "Epoch 14/100\n",
            "29/29 [==============================] - 0s 3ms/step - loss: 0.3508 - categorical_accuracy: 0.8925\n",
            "Epoch 15/100\n",
            "29/29 [==============================] - 0s 3ms/step - loss: 0.3307 - categorical_accuracy: 0.8979\n",
            "Epoch 16/100\n",
            "29/29 [==============================] - 0s 3ms/step - loss: 0.3128 - categorical_accuracy: 0.9051\n",
            "Epoch 17/100\n",
            "29/29 [==============================] - 0s 3ms/step - loss: 0.2970 - categorical_accuracy: 0.9089\n",
            "Epoch 18/100\n",
            "29/29 [==============================] - 0s 3ms/step - loss: 0.2829 - categorical_accuracy: 0.9139\n",
            "Epoch 19/100\n",
            "29/29 [==============================] - 0s 2ms/step - loss: 0.2703 - categorical_accuracy: 0.9178\n",
            "Epoch 20/100\n",
            "29/29 [==============================] - 0s 2ms/step - loss: 0.2591 - categorical_accuracy: 0.9218\n",
            "Epoch 21/100\n",
            "29/29 [==============================] - 0s 3ms/step - loss: 0.2487 - categorical_accuracy: 0.9253\n",
            "Epoch 22/100\n",
            "29/29 [==============================] - 0s 3ms/step - loss: 0.2397 - categorical_accuracy: 0.9257\n",
            "Epoch 23/100\n",
            "29/29 [==============================] - 0s 3ms/step - loss: 0.2312 - categorical_accuracy: 0.9285\n",
            "Epoch 24/100\n",
            "29/29 [==============================] - 0s 2ms/step - loss: 0.2236 - categorical_accuracy: 0.9313\n",
            "Epoch 25/100\n",
            "29/29 [==============================] - 0s 2ms/step - loss: 0.2166 - categorical_accuracy: 0.9324\n",
            "Epoch 26/100\n",
            "29/29 [==============================] - 0s 2ms/step - loss: 0.2101 - categorical_accuracy: 0.9343\n",
            "Epoch 27/100\n",
            "29/29 [==============================] - 0s 2ms/step - loss: 0.2041 - categorical_accuracy: 0.9354\n",
            "Epoch 28/100\n",
            "29/29 [==============================] - 0s 2ms/step - loss: 0.1988 - categorical_accuracy: 0.9365\n",
            "Epoch 29/100\n",
            "29/29 [==============================] - 0s 2ms/step - loss: 0.1937 - categorical_accuracy: 0.9400\n",
            "Epoch 30/100\n",
            "29/29 [==============================] - 0s 2ms/step - loss: 0.1889 - categorical_accuracy: 0.9406\n",
            "Epoch 31/100\n",
            "29/29 [==============================] - 0s 2ms/step - loss: 0.1847 - categorical_accuracy: 0.9415\n",
            "Epoch 32/100\n",
            "29/29 [==============================] - 0s 2ms/step - loss: 0.1806 - categorical_accuracy: 0.9421\n",
            "Epoch 33/100\n",
            "29/29 [==============================] - 0s 2ms/step - loss: 0.1768 - categorical_accuracy: 0.9430\n",
            "Epoch 34/100\n",
            "29/29 [==============================] - 0s 2ms/step - loss: 0.1734 - categorical_accuracy: 0.9438\n",
            "Epoch 35/100\n",
            "29/29 [==============================] - 0s 2ms/step - loss: 0.1700 - categorical_accuracy: 0.9446\n",
            "Epoch 36/100\n",
            "29/29 [==============================] - 0s 2ms/step - loss: 0.1669 - categorical_accuracy: 0.9449\n",
            "Epoch 37/100\n",
            "29/29 [==============================] - 0s 2ms/step - loss: 0.1640 - categorical_accuracy: 0.9475\n",
            "Epoch 38/100\n",
            "29/29 [==============================] - 0s 2ms/step - loss: 0.1613 - categorical_accuracy: 0.9480\n",
            "Epoch 39/100\n",
            "29/29 [==============================] - 0s 2ms/step - loss: 0.1587 - categorical_accuracy: 0.9486\n",
            "Epoch 40/100\n",
            "29/29 [==============================] - 0s 2ms/step - loss: 0.1562 - categorical_accuracy: 0.9494\n",
            "Epoch 41/100\n",
            "29/29 [==============================] - 0s 2ms/step - loss: 0.1540 - categorical_accuracy: 0.9509\n",
            "Epoch 42/100\n",
            "29/29 [==============================] - 0s 2ms/step - loss: 0.1519 - categorical_accuracy: 0.9504\n",
            "Epoch 43/100\n",
            "29/29 [==============================] - 0s 2ms/step - loss: 0.1498 - categorical_accuracy: 0.9510\n",
            "Epoch 44/100\n",
            "29/29 [==============================] - 0s 2ms/step - loss: 0.1479 - categorical_accuracy: 0.9516\n",
            "Epoch 45/100\n",
            "29/29 [==============================] - 0s 3ms/step - loss: 0.1460 - categorical_accuracy: 0.9514\n",
            "Epoch 46/100\n",
            "29/29 [==============================] - 0s 2ms/step - loss: 0.1443 - categorical_accuracy: 0.9528\n",
            "Epoch 47/100\n",
            "29/29 [==============================] - 0s 2ms/step - loss: 0.1426 - categorical_accuracy: 0.9533\n",
            "Epoch 48/100\n",
            "29/29 [==============================] - 0s 2ms/step - loss: 0.1410 - categorical_accuracy: 0.9524\n",
            "Epoch 49/100\n",
            "29/29 [==============================] - 0s 2ms/step - loss: 0.1396 - categorical_accuracy: 0.9531\n",
            "Epoch 50/100\n",
            "29/29 [==============================] - 0s 2ms/step - loss: 0.1380 - categorical_accuracy: 0.9540\n",
            "Epoch 51/100\n",
            "29/29 [==============================] - 0s 2ms/step - loss: 0.1367 - categorical_accuracy: 0.9540\n",
            "Epoch 52/100\n",
            "29/29 [==============================] - 0s 2ms/step - loss: 0.1354 - categorical_accuracy: 0.9535\n",
            "Epoch 53/100\n",
            "29/29 [==============================] - 0s 2ms/step - loss: 0.1342 - categorical_accuracy: 0.9538\n",
            "Epoch 54/100\n",
            "29/29 [==============================] - 0s 2ms/step - loss: 0.1330 - categorical_accuracy: 0.9540\n",
            "Epoch 55/100\n",
            "29/29 [==============================] - 0s 2ms/step - loss: 0.1318 - categorical_accuracy: 0.9547\n",
            "Epoch 56/100\n",
            "29/29 [==============================] - 0s 2ms/step - loss: 0.1308 - categorical_accuracy: 0.9544\n",
            "Epoch 57/100\n",
            "29/29 [==============================] - 0s 2ms/step - loss: 0.1297 - categorical_accuracy: 0.9544\n",
            "Epoch 58/100\n",
            "29/29 [==============================] - 0s 2ms/step - loss: 0.1286 - categorical_accuracy: 0.9551\n",
            "Epoch 59/100\n",
            "29/29 [==============================] - 0s 2ms/step - loss: 0.1277 - categorical_accuracy: 0.9543\n",
            "Epoch 60/100\n",
            "29/29 [==============================] - 0s 2ms/step - loss: 0.1268 - categorical_accuracy: 0.9554\n",
            "Epoch 61/100\n",
            "29/29 [==============================] - 0s 2ms/step - loss: 0.1259 - categorical_accuracy: 0.9551\n",
            "Epoch 62/100\n",
            "29/29 [==============================] - 0s 2ms/step - loss: 0.1250 - categorical_accuracy: 0.9551\n",
            "Epoch 63/100\n",
            "29/29 [==============================] - 0s 2ms/step - loss: 0.1242 - categorical_accuracy: 0.9558\n",
            "Epoch 64/100\n",
            "29/29 [==============================] - 0s 2ms/step - loss: 0.1234 - categorical_accuracy: 0.9561\n",
            "Epoch 65/100\n",
            "29/29 [==============================] - 0s 2ms/step - loss: 0.1226 - categorical_accuracy: 0.9562\n",
            "Epoch 66/100\n",
            "29/29 [==============================] - 0s 2ms/step - loss: 0.1218 - categorical_accuracy: 0.9557\n",
            "Epoch 67/100\n",
            "29/29 [==============================] - 0s 2ms/step - loss: 0.1211 - categorical_accuracy: 0.9574\n",
            "Epoch 68/100\n",
            "29/29 [==============================] - 0s 2ms/step - loss: 0.1204 - categorical_accuracy: 0.9567\n",
            "Epoch 69/100\n",
            "29/29 [==============================] - 0s 2ms/step - loss: 0.1198 - categorical_accuracy: 0.9572\n",
            "Epoch 70/100\n",
            "29/29 [==============================] - 0s 2ms/step - loss: 0.1191 - categorical_accuracy: 0.9574\n",
            "Epoch 71/100\n",
            "29/29 [==============================] - 0s 2ms/step - loss: 0.1185 - categorical_accuracy: 0.9570\n",
            "Epoch 72/100\n",
            "29/29 [==============================] - 0s 2ms/step - loss: 0.1178 - categorical_accuracy: 0.9573\n",
            "Epoch 73/100\n",
            "29/29 [==============================] - 0s 2ms/step - loss: 0.1173 - categorical_accuracy: 0.9574\n",
            "Epoch 74/100\n",
            "29/29 [==============================] - 0s 2ms/step - loss: 0.1167 - categorical_accuracy: 0.9567\n",
            "Epoch 75/100\n",
            "29/29 [==============================] - 0s 3ms/step - loss: 0.1161 - categorical_accuracy: 0.9574\n",
            "Epoch 76/100\n",
            "29/29 [==============================] - 0s 2ms/step - loss: 0.1156 - categorical_accuracy: 0.9572\n",
            "Epoch 77/100\n",
            "29/29 [==============================] - 0s 2ms/step - loss: 0.1151 - categorical_accuracy: 0.9572\n",
            "Epoch 78/100\n",
            "29/29 [==============================] - 0s 2ms/step - loss: 0.1146 - categorical_accuracy: 0.9582\n",
            "Epoch 79/100\n",
            "29/29 [==============================] - 0s 2ms/step - loss: 0.1141 - categorical_accuracy: 0.9581\n",
            "Epoch 80/100\n",
            "29/29 [==============================] - 0s 2ms/step - loss: 0.1136 - categorical_accuracy: 0.9576\n",
            "Epoch 81/100\n",
            "29/29 [==============================] - 0s 2ms/step - loss: 0.1131 - categorical_accuracy: 0.9578\n",
            "Epoch 82/100\n",
            "29/29 [==============================] - 0s 2ms/step - loss: 0.1127 - categorical_accuracy: 0.9574\n",
            "Epoch 83/100\n",
            "29/29 [==============================] - 0s 2ms/step - loss: 0.1123 - categorical_accuracy: 0.9580\n",
            "Epoch 84/100\n",
            "29/29 [==============================] - 0s 2ms/step - loss: 0.1119 - categorical_accuracy: 0.9570\n",
            "Epoch 85/100\n",
            "29/29 [==============================] - 0s 2ms/step - loss: 0.1113 - categorical_accuracy: 0.9580\n",
            "Epoch 86/100\n",
            "29/29 [==============================] - 0s 2ms/step - loss: 0.1111 - categorical_accuracy: 0.9582\n",
            "Epoch 87/100\n",
            "29/29 [==============================] - 0s 2ms/step - loss: 0.1106 - categorical_accuracy: 0.9578\n",
            "Epoch 88/100\n",
            "29/29 [==============================] - 0s 2ms/step - loss: 0.1102 - categorical_accuracy: 0.9581\n",
            "Epoch 89/100\n",
            "29/29 [==============================] - 0s 2ms/step - loss: 0.1098 - categorical_accuracy: 0.9584\n",
            "Epoch 90/100\n",
            "29/29 [==============================] - 0s 2ms/step - loss: 0.1094 - categorical_accuracy: 0.9582\n",
            "Epoch 91/100\n",
            "29/29 [==============================] - 0s 2ms/step - loss: 0.1091 - categorical_accuracy: 0.9588\n",
            "Epoch 92/100\n",
            "29/29 [==============================] - 0s 3ms/step - loss: 0.1088 - categorical_accuracy: 0.9580\n",
            "Epoch 93/100\n",
            "29/29 [==============================] - 0s 2ms/step - loss: 0.1084 - categorical_accuracy: 0.9578\n",
            "Epoch 94/100\n",
            "29/29 [==============================] - 0s 2ms/step - loss: 0.1081 - categorical_accuracy: 0.9584\n",
            "Epoch 95/100\n",
            "29/29 [==============================] - 0s 2ms/step - loss: 0.1078 - categorical_accuracy: 0.9581\n",
            "Epoch 96/100\n",
            "29/29 [==============================] - 0s 2ms/step - loss: 0.1073 - categorical_accuracy: 0.9580\n",
            "Epoch 97/100\n",
            "29/29 [==============================] - 0s 2ms/step - loss: 0.1071 - categorical_accuracy: 0.9589\n",
            "Epoch 98/100\n",
            "29/29 [==============================] - 0s 2ms/step - loss: 0.1068 - categorical_accuracy: 0.9587\n",
            "Epoch 99/100\n",
            "29/29 [==============================] - 0s 2ms/step - loss: 0.1063 - categorical_accuracy: 0.9591\n",
            "Epoch 100/100\n",
            "29/29 [==============================] - 0s 2ms/step - loss: 0.1063 - categorical_accuracy: 0.9576\n"
          ]
        }
      ],
      "source": [
        "input_layer = Input(shape = (x_train.shape[1:]))\n",
        "layer_1 = Dense(units=64, activation=\"relu\")(input_layer)\n",
        "layer_2 = Dense(units=32, activation=\"relu\")(layer_1)\n",
        "output_layer = Dense(units=6, activation=\"softmax\")(layer_2)\n",
        "ANN_4 = Model(inputs = input_layer , outputs = output_layer)\n",
        "\n",
        "ANN_4.compile(optimizer='sgd', loss='categorical_crossentropy',metrics=['categorical_accuracy'])\n",
        "history_4 = ANN_4.fit(x_train, y_train_OHE, \n",
        "                  batch_size=64*4, \n",
        "                  epochs=100,\n",
        "                  callbacks=[], verbose=1)"
      ]
    },
    {
      "attachments": {},
      "cell_type": "markdown",
      "metadata": {
        "id": "PD5GTcznc09Y"
      },
      "source": [
        "> p) Procese las predicciones del modelo sobre el conjunto de test para que pueda comparar los errores usando un heatmap de la matriz de confusión."
      ]
    },
    {
      "cell_type": "code",
      "execution_count": 150,
      "metadata": {
        "id": "zFW02e31uM6p"
      },
      "outputs": [],
      "source": [
        "y_pred = ANN_4(x_test)\n",
        "y_pred = np.argmax(y_pred, axis=1)"
      ]
    },
    {
      "cell_type": "code",
      "execution_count": 151,
      "metadata": {
        "id": "MxrY1Q8fvO-7"
      },
      "outputs": [],
      "source": [
        "y_test_comp = np.argmax(y_test_OHE, axis=1)"
      ]
    },
    {
      "cell_type": "code",
      "execution_count": 179,
      "metadata": {},
      "outputs": [
        {
          "data": {
            "text/plain": [
              "array([4, 4, 4, ..., 1, 1, 1])"
            ]
          },
          "execution_count": 179,
          "metadata": {},
          "output_type": "execute_result"
        }
      ],
      "source": [
        "y_pred"
      ]
    },
    {
      "cell_type": "code",
      "execution_count": 152,
      "metadata": {
        "id": "5VYezZeQw8wj"
      },
      "outputs": [
        {
          "data": {
            "image/png": "[encoded data removed]",
            "text/plain": [
              "<Figure size 800x600 with 2 Axes>"
            ]
          },
          "metadata": {},
          "output_type": "display_data"
        }
      ],
      "source": [
        "from sklearn.metrics import confusion_matrix\n",
        "\n",
        "cat = np.array([1,2,3,4,5,6])\n",
        "\n",
        "# Create the confusion matrix\n",
        "cm = confusion_matrix(cat[y_test_comp], cat[y_pred])\n",
        "\n",
        "# Get the number of classes\n",
        "num_classes = 6\n",
        "\n",
        "# Plot the confusion matrix\n",
        "plt.figure(figsize=(8, 6))\n",
        "plt.imshow(cm, interpolation='nearest', cmap=plt.cm.Blues)\n",
        "plt.title('Confusion Matrix')\n",
        "plt.colorbar()\n",
        "\n",
        "# Add x-axis and y-axis labels\n",
        "tick_marks = np.arange(num_classes)\n",
        "plt.xticks(tick_marks, LABELS, rotation=75)\n",
        "plt.yticks(tick_marks, LABELS)\n",
        "\n",
        "# Add labels to each cell\n",
        "thresh = cm.max() / 2.0\n",
        "for i in range(num_classes):\n",
        "    for j in range(num_classes):\n",
        "        plt.text(j, i, format(cm[i, j], 'd'),\n",
        "                 horizontalalignment=\"center\",\n",
        "                 color=\"white\" if cm[i, j] > thresh else \"black\")\n",
        "\n",
        "# Add axis labels\n",
        "plt.ylabel('True label')\n",
        "plt.xlabel('Predicted label')\n",
        "\n",
        "# Show the plot\n",
        "plt.tight_layout()\n",
        "plt.show()\n"
      ]
    },
    {
      "attachments": {},
      "cell_type": "markdown",
      "metadata": {
        "id": "nmC9JAo4fWre"
      },
      "source": [
        "> q) Comente acerca de los resultados y explique cual es la actividad que mejor logra clasificar la red.\n",
        "\n",
        "La mejor caracteristica que puede clasificar es la de laying"
      ]
    },
    {
      "attachments": {},
      "cell_type": "markdown",
      "metadata": {
        "id": "nYqpcB9OgChG"
      },
      "source": [
        "### 2.2.2 AdaBoost y arbustos\n",
        "\n",
        "> a) Describa brevemente como funciona el modelo AdaBoost.\n",
        "\n",
        "> b) ¿Qué clasificador se puede usar junto con Adaboost?\n",
        "\n",
        "> c) ¿Cómo funciona el _learning rate_ en el modelo AdaBoost?\n",
        "\n",
        "> d) Separe el conjunto de entrenamiento dejando el 10% para validación.\n",
        "\n",
        "> e) Entrene un clasificador AdaBoost con un arbusto (árbol de profundidad=2) con 300 estimadores y learning_rate=1\n",
        "\n",
        "**Nota:** Este modelo no usa One Hot Encoder para las clases, investigue como preprocesar los datos del conjunto para entrenar este modelo. Puede guiarse con el siguiente tutorial de sklearn: https://scikit-learn.org/stable/auto_examples/ensemble/plot_adaboost_multiclass.html#sphx-glr-auto-examples-ensemble-plot-adaboost-multiclass-py\n",
        "\n"
      ]
    },
    {
      "cell_type": "code",
      "execution_count": 153,
      "metadata": {
        "id": "pHhynnuC8fy3"
      },
      "outputs": [],
      "source": [
        "from sklearn.datasets import make_gaussian_quantiles\n",
        "from sklearn.ensemble import AdaBoostClassifier\n",
        "from sklearn.metrics import accuracy_score\n",
        "from sklearn.tree import DecisionTreeClassifier\n",
        "\n",
        "ada = AdaBoostClassifier( DecisionTreeClassifier(max_depth=2), n_estimators=300, learning_rate=1 )"
      ]
    },
    {
      "cell_type": "code",
      "execution_count": 159,
      "metadata": {
        "id": "fj5889e68-SG"
      },
      "outputs": [
        {
          "data": {
            "text/html": [
              "<style>#sk-container-id-1 {color: black;background-color: white;}#sk-container-id-1 pre{padding: 0;}#sk-container-id-1 div.sk-toggleable {background-color: white;}#sk-container-id-1 label.sk-toggleable__label {cursor: pointer;display: block;width: 100%;margin-bottom: 0;padding: 0.3em;box-sizing: border-box;text-align: center;}#sk-container-id-1 label.sk-toggleable__label-arrow:before {content: \"▸\";float: left;margin-right: 0.25em;color: #696969;}#sk-container-id-1 label.sk-toggleable__label-arrow:hover:before {color: black;}#sk-container-id-1 div.sk-estimator:hover label.sk-toggleable__label-arrow:before {color: black;}#sk-container-id-1 div.sk-toggleable__content {max-height: 0;max-width: 0;overflow: hidden;text-align: left;background-color: #f0f8ff;}#sk-container-id-1 div.sk-toggleable__content pre {margin: 0.2em;color: black;border-radius: 0.25em;background-color: #f0f8ff;}#sk-container-id-1 input.sk-toggleable__control:checked~div.sk-toggleable__content {max-height: 200px;max-width: 100%;overflow: auto;}#sk-container-id-1 input.sk-toggleable__control:checked~label.sk-toggleable__label-arrow:before {content: \"▾\";}#sk-container-id-1 div.sk-estimator input.sk-toggleable__control:checked~label.sk-toggleable__label {background-color: #d4ebff;}#sk-container-id-1 div.sk-label input.sk-toggleable__control:checked~label.sk-toggleable__label {background-color: #d4ebff;}#sk-container-id-1 input.sk-hidden--visually {border: 0;clip: rect(1px 1px 1px 1px);clip: rect(1px, 1px, 1px, 1px);height: 1px;margin: -1px;overflow: hidden;padding: 0;position: absolute;width: 1px;}#sk-container-id-1 div.sk-estimator {font-family: monospace;background-color: #f0f8ff;border: 1px dotted black;border-radius: 0.25em;box-sizing: border-box;margin-bottom: 0.5em;}#sk-container-id-1 div.sk-estimator:hover {background-color: #d4ebff;}#sk-container-id-1 div.sk-parallel-item::after {content: \"\";width: 100%;border-bottom: 1px solid gray;flex-grow: 1;}#sk-container-id-1 div.sk-label:hover label.sk-toggleable__label {background-color: #d4ebff;}#sk-container-id-1 div.sk-serial::before {content: \"\";position: absolute;border-left: 1px solid gray;box-sizing: border-box;top: 0;bottom: 0;left: 50%;z-index: 0;}#sk-container-id-1 div.sk-serial {display: flex;flex-direction: column;align-items: center;background-color: white;padding-right: 0.2em;padding-left: 0.2em;position: relative;}#sk-container-id-1 div.sk-item {position: relative;z-index: 1;}#sk-container-id-1 div.sk-parallel {display: flex;align-items: stretch;justify-content: center;background-color: white;position: relative;}#sk-container-id-1 div.sk-item::before, #sk-container-id-1 div.sk-parallel-item::before {content: \"\";position: absolute;border-left: 1px solid gray;box-sizing: border-box;top: 0;bottom: 0;left: 50%;z-index: -1;}#sk-container-id-1 div.sk-parallel-item {display: flex;flex-direction: column;z-index: 1;position: relative;background-color: white;}#sk-container-id-1 div.sk-parallel-item:first-child::after {align-self: flex-end;width: 50%;}#sk-container-id-1 div.sk-parallel-item:last-child::after {align-self: flex-start;width: 50%;}#sk-container-id-1 div.sk-parallel-item:only-child::after {width: 0;}#sk-container-id-1 div.sk-dashed-wrapped {border: 1px dashed gray;margin: 0 0.4em 0.5em 0.4em;box-sizing: border-box;padding-bottom: 0.4em;background-color: white;}#sk-container-id-1 div.sk-label label {font-family: monospace;font-weight: bold;display: inline-block;line-height: 1.2em;}#sk-container-id-1 div.sk-label-container {text-align: center;}#sk-container-id-1 div.sk-container {/* jupyter's `normalize.less` sets `[hidden] { display: none; }` but bootstrap.min.css set `[hidden] { display: none !important; }` so we also need the `!important` here to be able to override the default hidden behavior on the sphinx rendered scikit-learn.org. See: https://github.com/scikit-learn/scikit-learn/issues/21755 */display: inline-block !important;position: relative;}#sk-container-id-1 div.sk-text-repr-fallback {display: none;}</style><div id=\"sk-container-id-1\" class=\"sk-top-container\"><div class=\"sk-text-repr-fallback\"><pre>AdaBoostClassifier(estimator=DecisionTreeClassifier(max_depth=2),\n",
              "                   learning_rate=1, n_estimators=300)</pre><b>In a Jupyter environment, please rerun this cell to show the HTML representation or trust the notebook. <br />On GitHub, the HTML representation is unable to render, please try loading this page with nbviewer.org.</b></div><div class=\"sk-container\" hidden><div class=\"sk-item sk-dashed-wrapped\"><div class=\"sk-label-container\"><div class=\"sk-label sk-toggleable\"><input class=\"sk-toggleable__control sk-hidden--visually\" id=\"sk-estimator-id-1\" type=\"checkbox\" ><label for=\"sk-estimator-id-1\" class=\"sk-toggleable__label sk-toggleable__label-arrow\">AdaBoostClassifier</label><div class=\"sk-toggleable__content\"><pre>AdaBoostClassifier(estimator=DecisionTreeClassifier(max_depth=2),\n",
              "                   learning_rate=1, n_estimators=300)</pre></div></div></div><div class=\"sk-parallel\"><div class=\"sk-parallel-item\"><div class=\"sk-item\"><div class=\"sk-label-container\"><div class=\"sk-label sk-toggleable\"><input class=\"sk-toggleable__control sk-hidden--visually\" id=\"sk-estimator-id-2\" type=\"checkbox\" ><label for=\"sk-estimator-id-2\" class=\"sk-toggleable__label sk-toggleable__label-arrow\">estimator: DecisionTreeClassifier</label><div class=\"sk-toggleable__content\"><pre>DecisionTreeClassifier(max_depth=2)</pre></div></div></div><div class=\"sk-serial\"><div class=\"sk-item\"><div class=\"sk-estimator sk-toggleable\"><input class=\"sk-toggleable__control sk-hidden--visually\" id=\"sk-estimator-id-3\" type=\"checkbox\" ><label for=\"sk-estimator-id-3\" class=\"sk-toggleable__label sk-toggleable__label-arrow\">DecisionTreeClassifier</label><div class=\"sk-toggleable__content\"><pre>DecisionTreeClassifier(max_depth=2)</pre></div></div></div></div></div></div></div></div></div></div>"
            ],
            "text/plain": [
              "AdaBoostClassifier(estimator=DecisionTreeClassifier(max_depth=2),\n",
              "                   learning_rate=1, n_estimators=300)"
            ]
          },
          "execution_count": 159,
          "metadata": {},
          "output_type": "execute_result"
        }
      ],
      "source": [
        "ADAx_train, ADAx_val, ADAy_train, ADAy_val = train_test_split(x_train, y_train, test_size=0.1, train_size=0.9)\n",
        "ada.fit(ADAx_train, ADAy_train)"
      ]
    },
    {
      "attachments": {},
      "cell_type": "markdown",
      "metadata": {
        "id": "dN0H0C-2Vdzl"
      },
      "source": [
        "> f) Revise el error de validación con el conjunto de validaión."
      ]
    },
    {
      "cell_type": "code",
      "execution_count": 161,
      "metadata": {
        "id": "66IPqBlAAIK2"
      },
      "outputs": [],
      "source": [
        "ada_errors = []\n",
        "ada_val_errors = []\n",
        "\n",
        "for ada_val_predict in ada.staged_predict(ADAx_val):\n",
        "    ada_val_errors.append(1.0 - accuracy_score(ada_val_predict, ADAy_val))    \n",
        "\n",
        "n_trees_ada = len(ada)"
      ]
    },
    {
      "cell_type": "code",
      "execution_count": 162,
      "metadata": {},
      "outputs": [
        {
          "name": "stdout",
          "output_type": "stream",
          "text": [
            "[0.5298913043478262, 0.32336956521739135, 0.3464673913043478, 0.32608695652173914, 0.3192934782608695, 0.29891304347826086, 0.3152173913043478, 0.31114130434782605, 0.30434782608695654, 0.3029891304347826, 0.3029891304347826, 0.30842391304347827, 0.31385869565217395, 0.31114130434782605, 0.3029891304347826, 0.3057065217391305, 0.2975543478260869, 0.2934782608695652, 0.29891304347826086, 0.30842391304347827, 0.31114130434782605, 0.32336956521739135, 0.3057065217391305, 0.3029891304347826, 0.3057065217391305, 0.30842391304347827, 0.30163043478260865, 0.3057065217391305, 0.3070652173913043, 0.29211956521739135, 0.29483695652173914, 0.2975543478260869, 0.2975543478260869, 0.2961956521739131, 0.2961956521739131, 0.3029891304347826, 0.28532608695652173, 0.2717391304347826, 0.27309782608695654, 0.2649456521739131, 0.26358695652173914, 0.25135869565217395, 0.2554347826086957, 0.2622282608695652, 0.2649456521739131, 0.2690217391304348, 0.2717391304347826, 0.2690217391304348, 0.2717391304347826, 0.26358695652173914, 0.2649456521739131, 0.26086956521739135, 0.25407608695652173, 0.26086956521739135, 0.2595108695652174, 0.2554347826086957, 0.25, 0.25407608695652173, 0.2527173913043478, 0.25, 0.25, 0.2567934782608695, 0.25135869565217395, 0.24184782608695654, 0.24456521739130432, 0.25135869565217395, 0.2527173913043478, 0.26086956521739135, 0.26358695652173914, 0.26358695652173914, 0.2649456521739131, 0.2649456521739131, 0.2649456521739131, 0.26358695652173914, 0.2595108695652174, 0.26358695652173914, 0.26766304347826086, 0.2622282608695652, 0.2663043478260869, 0.2649456521739131, 0.2663043478260869, 0.2663043478260869, 0.25815217391304346, 0.2527173913043478, 0.25815217391304346, 0.25815217391304346, 0.2567934782608695, 0.2595108695652174, 0.2744565217391305, 0.2663043478260869, 0.2663043478260869, 0.2649456521739131, 0.2717391304347826, 0.2744565217391305, 0.2758152173913043, 0.27309782608695654, 0.2690217391304348, 0.2717391304347826, 0.2663043478260869, 0.26766304347826086, 0.25815217391304346, 0.2595108695652174, 0.2567934782608695, 0.26086956521739135, 0.2595108695652174, 0.2567934782608695, 0.2567934782608695, 0.2527173913043478, 0.25407608695652173, 0.2567934782608695, 0.25135869565217395, 0.25, 0.2595108695652174, 0.2595108695652174, 0.2595108695652174, 0.2527173913043478, 0.26766304347826086, 0.2663043478260869, 0.2622282608695652, 0.2663043478260869, 0.26086956521739135, 0.2622282608695652, 0.2622282608695652, 0.2554347826086957, 0.25135869565217395, 0.24864130434782605, 0.24456521739130432, 0.24592391304347827, 0.2404891304347826, 0.23641304347826086, 0.2404891304347826, 0.23641304347826086, 0.23233695652173914, 0.23505434782608692, 0.23369565217391308, 0.23913043478260865, 0.23913043478260865, 0.2377717391304348, 0.2309782608695652, 0.23369565217391308, 0.23505434782608692, 0.23369565217391308, 0.23641304347826086, 0.2377717391304348, 0.2377717391304348, 0.23641304347826086, 0.2377717391304348, 0.24456521739130432, 0.24728260869565222, 0.2404891304347826, 0.23369565217391308, 0.2404891304347826, 0.23913043478260865, 0.23369565217391308, 0.23369565217391308, 0.23369565217391308, 0.23369565217391308, 0.22690217391304346, 0.22418478260869568, 0.22418478260869568, 0.22282608695652173, 0.22690217391304346, 0.22690217391304346, 0.23233695652173914, 0.2309782608695652, 0.23369565217391308, 0.23369565217391308, 0.23233695652173914, 0.23641304347826086, 0.2309782608695652, 0.23233695652173914, 0.23505434782608692, 0.2309782608695652, 0.22961956521739135, 0.22418478260869568, 0.2255434782608695, 0.23233695652173914, 0.23369565217391308, 0.2377717391304348, 0.23641304347826086, 0.23641304347826086, 0.23369565217391308, 0.2309782608695652, 0.2309782608695652, 0.23233695652173914, 0.22961956521739135, 0.22961956521739135, 0.23233695652173914, 0.23505434782608692, 0.2309782608695652, 0.2309782608695652, 0.23233695652173914, 0.23233695652173914, 0.22418478260869568, 0.2255434782608695, 0.23369565217391308, 0.2255434782608695, 0.2255434782608695, 0.22282608695652173, 0.22418478260869568, 0.22146739130434778, 0.22010869565217395, 0.21875, 0.2255434782608695, 0.22690217391304346, 0.22282608695652173, 0.2282608695652174, 0.2255434782608695, 0.22282608695652173, 0.22418478260869568, 0.22690217391304346, 0.22010869565217395, 0.22418478260869568, 0.22418478260869568, 0.21875, 0.22010869565217395, 0.21739130434782605, 0.22146739130434778, 0.22010869565217395, 0.21603260869565222, 0.21603260869565222, 0.22010869565217395, 0.22146739130434778, 0.22010869565217395, 0.21875, 0.21603260869565222, 0.2092391304347826, 0.22010869565217395, 0.21739130434782605, 0.21739130434782605, 0.21467391304347827, 0.21467391304347827, 0.2092391304347826, 0.2119565217391305, 0.21059782608695654, 0.2119565217391305, 0.21059782608695654, 0.2092391304347826, 0.2092391304347826, 0.20516304347826086, 0.20788043478260865, 0.2065217391304348, 0.20788043478260865, 0.21059782608695654, 0.21603260869565222, 0.2092391304347826, 0.2092391304347826, 0.2092391304347826, 0.2065217391304348, 0.20788043478260865, 0.2092391304347826, 0.20108695652173914, 0.19565217391304346, 0.19836956521739135, 0.1970108695652174, 0.20244565217391308, 0.1997282608695652, 0.1997282608695652, 0.1997282608695652, 0.1997282608695652, 0.19836956521739135, 0.20108695652173914, 0.1970108695652174, 0.1970108695652174, 0.1942934782608695, 0.1970108695652174, 0.19565217391304346, 0.19836956521739135, 0.19565217391304346, 0.1942934782608695, 0.1997282608695652, 0.1997282608695652, 0.20244565217391308, 0.1997282608695652, 0.20244565217391308, 0.20108695652173914, 0.20108695652173914, 0.20516304347826086, 0.20380434782608692, 0.20380434782608692, 0.20244565217391308, 0.20244565217391308, 0.20380434782608692, 0.20788043478260865, 0.2065217391304348, 0.2065217391304348, 0.2065217391304348, 0.20516304347826086, 0.2065217391304348, 0.21059782608695654, 0.21603260869565222, 0.20516304347826086, 0.20516304347826086, 0.2065217391304348, 0.2119565217391305, 0.21467391304347827, 0.2119565217391305, 0.20788043478260865, 0.20380434782608692, 0.21331521739130432]\n"
          ]
        }
      ],
      "source": [
        "print(ada_val_errors)"
      ]
    },
    {
      "attachments": {},
      "cell_type": "markdown",
      "metadata": {
        "id": "yGtrDlfST44V"
      },
      "source": [
        "> g) Haga la misma prueba pero ahora con 30 estimadores"
      ]
    },
    {
      "cell_type": "code",
      "execution_count": 165,
      "metadata": {
        "id": "FJoxYyhnV5Mw"
      },
      "outputs": [],
      "source": [
        "ada2 = AdaBoostClassifier( DecisionTreeClassifier(max_depth=2), n_estimators=30, learning_rate=1 )\n",
        "ada2.fit(ADAx_train, ADAy_train)\n",
        "\n",
        "ada_errors_2 = []\n",
        "ada_val_errors_2 = []\n",
        "\n",
        "for ada_val_predict_2 in ada2.staged_predict(ADAx_val):\n",
        "    ada_val_errors_2.append(1.0 - accuracy_score(ada_val_predict_2, ADAy_val))    \n",
        "\n",
        "n_trees_ada_2 = len(ada)"
      ]
    },
    {
      "cell_type": "code",
      "execution_count": 166,
      "metadata": {},
      "outputs": [
        {
          "name": "stdout",
          "output_type": "stream",
          "text": [
            "[0.5298913043478262, 0.32336956521739135, 0.3464673913043478, 0.32608695652173914, 0.3192934782608695, 0.29891304347826086, 0.3152173913043478, 0.31114130434782605, 0.30434782608695654, 0.3029891304347826, 0.3029891304347826, 0.30842391304347827, 0.31385869565217395, 0.31114130434782605, 0.3029891304347826, 0.3057065217391305, 0.2975543478260869, 0.2934782608695652, 0.29891304347826086, 0.30842391304347827, 0.31114130434782605, 0.32336956521739135, 0.3057065217391305, 0.3029891304347826, 0.3057065217391305, 0.30842391304347827, 0.30163043478260865, 0.3057065217391305, 0.3070652173913043, 0.29211956521739135, 0.29483695652173914, 0.2975543478260869, 0.2975543478260869, 0.2961956521739131, 0.2961956521739131, 0.3029891304347826, 0.28532608695652173, 0.2717391304347826, 0.27309782608695654, 0.2649456521739131, 0.26358695652173914, 0.25135869565217395, 0.2554347826086957, 0.2622282608695652, 0.2649456521739131, 0.2690217391304348, 0.2717391304347826, 0.2690217391304348, 0.2717391304347826, 0.26358695652173914, 0.2649456521739131, 0.26086956521739135, 0.25407608695652173, 0.26086956521739135, 0.2595108695652174, 0.2554347826086957, 0.25, 0.25407608695652173, 0.2527173913043478, 0.25, 0.25, 0.2567934782608695, 0.25135869565217395, 0.24184782608695654, 0.24456521739130432, 0.25135869565217395, 0.2527173913043478, 0.26086956521739135, 0.26358695652173914, 0.26358695652173914, 0.2649456521739131, 0.2649456521739131, 0.2649456521739131, 0.26358695652173914, 0.2595108695652174, 0.26358695652173914, 0.26766304347826086, 0.2622282608695652, 0.2663043478260869, 0.2649456521739131, 0.2663043478260869, 0.2663043478260869, 0.25815217391304346, 0.2527173913043478, 0.25815217391304346, 0.25815217391304346, 0.2567934782608695, 0.2595108695652174, 0.2744565217391305, 0.2663043478260869, 0.2663043478260869, 0.2649456521739131, 0.2717391304347826, 0.2744565217391305, 0.2758152173913043, 0.27309782608695654, 0.2690217391304348, 0.2717391304347826, 0.2663043478260869, 0.26766304347826086, 0.25815217391304346, 0.2595108695652174, 0.2567934782608695, 0.26086956521739135, 0.2595108695652174, 0.2567934782608695, 0.2567934782608695, 0.2527173913043478, 0.25407608695652173, 0.2567934782608695, 0.25135869565217395, 0.25, 0.2595108695652174, 0.2595108695652174, 0.2595108695652174, 0.2527173913043478, 0.26766304347826086, 0.2663043478260869, 0.2622282608695652, 0.2663043478260869, 0.26086956521739135, 0.2622282608695652, 0.2622282608695652, 0.2554347826086957, 0.25135869565217395, 0.24864130434782605, 0.24456521739130432, 0.24592391304347827, 0.2404891304347826, 0.23641304347826086, 0.2404891304347826, 0.23641304347826086, 0.23233695652173914, 0.23505434782608692, 0.23369565217391308, 0.23913043478260865, 0.23913043478260865, 0.2377717391304348, 0.2309782608695652, 0.23369565217391308, 0.23505434782608692, 0.23369565217391308, 0.23641304347826086, 0.2377717391304348, 0.2377717391304348, 0.23641304347826086, 0.2377717391304348, 0.24456521739130432, 0.24728260869565222, 0.2404891304347826, 0.23369565217391308, 0.2404891304347826, 0.23913043478260865, 0.23369565217391308, 0.23369565217391308, 0.23369565217391308, 0.23369565217391308, 0.22690217391304346, 0.22418478260869568, 0.22418478260869568, 0.22282608695652173, 0.22690217391304346, 0.22690217391304346, 0.23233695652173914, 0.2309782608695652, 0.23369565217391308, 0.23369565217391308, 0.23233695652173914, 0.23641304347826086, 0.2309782608695652, 0.23233695652173914, 0.23505434782608692, 0.2309782608695652, 0.22961956521739135, 0.22418478260869568, 0.2255434782608695, 0.23233695652173914, 0.23369565217391308, 0.2377717391304348, 0.23641304347826086, 0.23641304347826086, 0.23369565217391308, 0.2309782608695652, 0.2309782608695652, 0.23233695652173914, 0.22961956521739135, 0.22961956521739135, 0.23233695652173914, 0.23505434782608692, 0.2309782608695652, 0.2309782608695652, 0.23233695652173914, 0.23233695652173914, 0.22418478260869568, 0.2255434782608695, 0.23369565217391308, 0.2255434782608695, 0.2255434782608695, 0.22282608695652173, 0.22418478260869568, 0.22146739130434778, 0.22010869565217395, 0.21875, 0.2255434782608695, 0.22690217391304346, 0.22282608695652173, 0.2282608695652174, 0.2255434782608695, 0.22282608695652173, 0.22418478260869568, 0.22690217391304346, 0.22010869565217395, 0.22418478260869568, 0.22418478260869568, 0.21875, 0.22010869565217395, 0.21739130434782605, 0.22146739130434778, 0.22010869565217395, 0.21603260869565222, 0.21603260869565222, 0.22010869565217395, 0.22146739130434778, 0.22010869565217395, 0.21875, 0.21603260869565222, 0.2092391304347826, 0.22010869565217395, 0.21739130434782605, 0.21739130434782605, 0.21467391304347827, 0.21467391304347827, 0.2092391304347826, 0.2119565217391305, 0.21059782608695654, 0.2119565217391305, 0.21059782608695654, 0.2092391304347826, 0.2092391304347826, 0.20516304347826086, 0.20788043478260865, 0.2065217391304348, 0.20788043478260865, 0.21059782608695654, 0.21603260869565222, 0.2092391304347826, 0.2092391304347826, 0.2092391304347826, 0.2065217391304348, 0.20788043478260865, 0.2092391304347826, 0.20108695652173914, 0.19565217391304346, 0.19836956521739135, 0.1970108695652174, 0.20244565217391308, 0.1997282608695652, 0.1997282608695652, 0.1997282608695652, 0.1997282608695652, 0.19836956521739135, 0.20108695652173914, 0.1970108695652174, 0.1970108695652174, 0.1942934782608695, 0.1970108695652174, 0.19565217391304346, 0.19836956521739135, 0.19565217391304346, 0.1942934782608695, 0.1997282608695652, 0.1997282608695652, 0.20244565217391308, 0.1997282608695652, 0.20244565217391308, 0.20108695652173914, 0.20108695652173914, 0.20516304347826086, 0.20380434782608692, 0.20380434782608692, 0.20244565217391308, 0.20244565217391308, 0.20380434782608692, 0.20788043478260865, 0.2065217391304348, 0.2065217391304348, 0.2065217391304348, 0.20516304347826086, 0.2065217391304348, 0.21059782608695654, 0.21603260869565222, 0.20516304347826086, 0.20516304347826086, 0.2065217391304348, 0.2119565217391305, 0.21467391304347827, 0.2119565217391305, 0.20788043478260865, 0.20380434782608692, 0.21331521739130432]\n"
          ]
        }
      ],
      "source": [
        "print(ada_val_errors)"
      ]
    },
    {
      "attachments": {},
      "cell_type": "markdown",
      "metadata": {
        "id": "NnFH55GLV6fR"
      },
      "source": [
        "> h) Una vez encontrado el mejor modelo basandose en el error de validación, entrene el mejr modelo con todo el conjunto de entrenamiento, es decir, sin hacer _validation split_ y luego evalúe el modelo sobre el conjunto de pruebas."
      ]
    },
    {
      "cell_type": "code",
      "execution_count": 168,
      "metadata": {
        "id": "jA_GlqHVYAL_"
      },
      "outputs": [],
      "source": [
        "ada3 = AdaBoostClassifier( DecisionTreeClassifier(max_depth=2), n_estimators=30, learning_rate=1 )\n",
        "ada3.fit(x_train, y_train)"
      ]
    },
    {
      "cell_type": "code",
      "execution_count": 171,
      "metadata": {},
      "outputs": [],
      "source": [
        "ada_predict_3 = []\n",
        "ada_val_errors_3 = []\n",
        "\n",
        "for ada_val_predict_3 in ada3.staged_predict(x_test):\n",
        "    ada_predict_3.append( ada_val_predict_3 )\n",
        "    ada_val_errors_3.append(1.0 - accuracy_score(ada_val_predict_3, y_test))    \n",
        "\n",
        "n_trees_ada_3 = len(ada3)"
      ]
    },
    {
      "attachments": {},
      "cell_type": "markdown",
      "metadata": {
        "id": "vM_9PTdZX_vr"
      },
      "source": [
        "> i) Muestre la matriz de confusión y comente sus resultados."
      ]
    },
    {
      "cell_type": "code",
      "execution_count": 188,
      "metadata": {
        "id": "t-g8d3-xYGiA"
      },
      "outputs": [
        {
          "data": {
            "image/png": "[encoded data removed]",
            "text/plain": [
              "<Figure size 800x600 with 2 Axes>"
            ]
          },
          "metadata": {},
          "output_type": "display_data"
        }
      ],
      "source": [
        "from sklearn.metrics import confusion_matrix\n",
        "\n",
        "cat = np.array([1,2,3,4,5,6])\n",
        "\n",
        "# Create the confusion matrix\n",
        "cm = confusion_matrix(cat[y_test-1], cat[ada_predict_3[-1]-1])\n",
        "\n",
        "# Get the number of classes\n",
        "num_classes = 6\n",
        "\n",
        "# Plot the confusion matrix\n",
        "plt.figure(figsize=(8, 6))\n",
        "plt.imshow(cm, interpolation='nearest', cmap=plt.cm.Blues)\n",
        "plt.title('Confusion Matrix')\n",
        "plt.colorbar()\n",
        "\n",
        "# Add x-axis and y-axis labels\n",
        "tick_marks = np.arange(num_classes)\n",
        "plt.xticks(tick_marks, LABELS, rotation=75)\n",
        "plt.yticks(tick_marks, LABELS)\n",
        "\n",
        "# Add labels to each cell\n",
        "thresh = cm.max() / 2.0\n",
        "for i in range(num_classes):\n",
        "    for j in range(num_classes):\n",
        "        plt.text(j, i, format(cm[i, j], 'd'),\n",
        "                 horizontalalignment=\"center\",\n",
        "                 color=\"white\" if cm[i, j] > thresh else \"black\")\n",
        "\n",
        "# Add axis labels\n",
        "plt.ylabel('True label')\n",
        "plt.xlabel('Predicted label')\n",
        "\n",
        "# Show the plot\n",
        "plt.tight_layout()\n",
        "plt.show()"
      ]
    },
    {
      "attachments": {},
      "cell_type": "markdown",
      "metadata": {
        "id": "vxLbY6g9YG-q"
      },
      "source": [
        "## 2.3 Conclusiones\n",
        "\n",
        "Comente con qué modelo obtiene los mejores resultados, ¿qué otros experimentos realizaría para intentar mejorar los resultados?\n",
        "\n"
      ]
    }
  ],
  "metadata": {
    "colab": {
      "provenance": [],
      "toc_visible": true
    },
    "kernelspec": {
      "display_name": "Python 3",
      "name": "python3"
    },
    "language_info": {
      "codemirror_mode": {
        "name": "ipython",
        "version": 3
      },
      "file_extension": ".py",
      "mimetype": "text/x-python",
      "name": "python",
      "nbconvert_exporter": "python",
      "pygments_lexer": "ipython3",
      "version": "3.9.6"
    }
  },
  "nbformat": 4,
  "nbformat_minor": 0
}
